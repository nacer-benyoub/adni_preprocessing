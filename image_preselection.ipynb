{
 "cells": [
  {
   "cell_type": "markdown",
   "metadata": {},
   "source": [
    "The datasets `ADNI1_Complete_3Yr_1.5T` and `ADNI1_Complete_3Yr_3T` have been selected for the project but they contain some duplicate subjects between them so we need to inspect them to decide how to proceed. We will:\n",
    "- Check if the `nii` files are duplicates for the same subject (compare dates, IDs and descriptions)\n",
    "- Decide which files to keep"
   ]
  },
  {
   "cell_type": "markdown",
   "metadata": {},
   "source": [
    "### Load the data"
   ]
  },
  {
   "cell_type": "code",
   "execution_count": 1,
   "metadata": {
    "execution": {
     "iopub.execute_input": "2024-04-18T18:07:51.542091Z",
     "iopub.status.busy": "2024-04-18T18:07:51.541660Z",
     "iopub.status.idle": "2024-04-18T18:07:52.016038Z",
     "shell.execute_reply": "2024-04-18T18:07:52.016369Z"
    }
   },
   "outputs": [
    {
     "name": "stdout",
     "output_type": "stream",
     "text": [
      "Shape of 3T data (347, 12)\n",
      "Shape of 1.5T data (1693, 12)\n"
     ]
    }
   ],
   "source": [
    "import pandas as pd\n",
    "\n",
    "df3t = pd.read_csv(r'~/ADNI_data/ADNI1_Complete_3Yr_3T_4_08_2024.csv')\n",
    "df15t = pd.read_csv(r'~/ADNI_data/ADNI1_Complete_3Yr_1.5T_4_08_2024.csv')\n",
    "\n",
    "print(\"Shape of 3T data\", df3t.shape)\n",
    "print(\"Shape of 1.5T data\", df15t.shape)"
   ]
  },
  {
   "cell_type": "markdown",
   "metadata": {},
   "source": [
    "Drop unneccessary columns"
   ]
  },
  {
   "cell_type": "code",
   "execution_count": 2,
   "metadata": {
    "execution": {
     "iopub.execute_input": "2024-04-18T18:07:52.025548Z",
     "iopub.status.busy": "2024-04-18T18:07:52.022223Z",
     "iopub.status.idle": "2024-04-18T18:07:52.031991Z",
     "shell.execute_reply": "2024-04-18T18:07:52.032473Z"
    }
   },
   "outputs": [
    {
     "data": {
      "text/html": [
       "<div>\n",
       "<style scoped>\n",
       "    .dataframe tbody tr th:only-of-type {\n",
       "        vertical-align: middle;\n",
       "    }\n",
       "\n",
       "    .dataframe tbody tr th {\n",
       "        vertical-align: top;\n",
       "    }\n",
       "\n",
       "    .dataframe thead th {\n",
       "        text-align: right;\n",
       "    }\n",
       "</style>\n",
       "<table border=\"1\" class=\"dataframe\">\n",
       "  <thead>\n",
       "    <tr style=\"text-align: right;\">\n",
       "      <th></th>\n",
       "      <th>Image Data ID</th>\n",
       "      <th>Subject</th>\n",
       "      <th>Group</th>\n",
       "      <th>Sex</th>\n",
       "      <th>Age</th>\n",
       "      <th>Visit</th>\n",
       "      <th>Modality</th>\n",
       "      <th>Description</th>\n",
       "      <th>Type</th>\n",
       "      <th>Acq Date</th>\n",
       "      <th>Format</th>\n",
       "      <th>Downloaded</th>\n",
       "    </tr>\n",
       "  </thead>\n",
       "  <tbody>\n",
       "    <tr>\n",
       "      <th>0</th>\n",
       "      <td>I119733</td>\n",
       "      <td>136_S_0429</td>\n",
       "      <td>MCI</td>\n",
       "      <td>M</td>\n",
       "      <td>63</td>\n",
       "      <td>bl</td>\n",
       "      <td>MRI</td>\n",
       "      <td>MPR; ; N3; Scaled_2</td>\n",
       "      <td>Processed</td>\n",
       "      <td>6/27/2006</td>\n",
       "      <td>NiFTI</td>\n",
       "      <td>NaN</td>\n",
       "    </tr>\n",
       "    <tr>\n",
       "      <th>1</th>\n",
       "      <td>I88169</td>\n",
       "      <td>136_S_0429</td>\n",
       "      <td>MCI</td>\n",
       "      <td>M</td>\n",
       "      <td>64</td>\n",
       "      <td>m18</td>\n",
       "      <td>MRI</td>\n",
       "      <td>MPR; ; N3; Scaled</td>\n",
       "      <td>Processed</td>\n",
       "      <td>12/17/2007</td>\n",
       "      <td>NiFTI</td>\n",
       "      <td>NaN</td>\n",
       "    </tr>\n",
       "    <tr>\n",
       "      <th>2</th>\n",
       "      <td>I66801</td>\n",
       "      <td>136_S_0429</td>\n",
       "      <td>MCI</td>\n",
       "      <td>M</td>\n",
       "      <td>63</td>\n",
       "      <td>m06</td>\n",
       "      <td>MRI</td>\n",
       "      <td>MPR; ; N3; Scaled</td>\n",
       "      <td>Processed</td>\n",
       "      <td>12/18/2006</td>\n",
       "      <td>NiFTI</td>\n",
       "      <td>NaN</td>\n",
       "    </tr>\n",
       "    <tr>\n",
       "      <th>3</th>\n",
       "      <td>I205562</td>\n",
       "      <td>136_S_0429</td>\n",
       "      <td>MCI</td>\n",
       "      <td>M</td>\n",
       "      <td>66</td>\n",
       "      <td>m36</td>\n",
       "      <td>MRI</td>\n",
       "      <td>MPR; ; N3; Scaled</td>\n",
       "      <td>Processed</td>\n",
       "      <td>7/13/2009</td>\n",
       "      <td>NiFTI</td>\n",
       "      <td>NaN</td>\n",
       "    </tr>\n",
       "    <tr>\n",
       "      <th>4</th>\n",
       "      <td>I83549</td>\n",
       "      <td>136_S_0429</td>\n",
       "      <td>MCI</td>\n",
       "      <td>M</td>\n",
       "      <td>64</td>\n",
       "      <td>m12</td>\n",
       "      <td>MRI</td>\n",
       "      <td>MPR; ; N3; Scaled</td>\n",
       "      <td>Processed</td>\n",
       "      <td>6/18/2007</td>\n",
       "      <td>NiFTI</td>\n",
       "      <td>NaN</td>\n",
       "    </tr>\n",
       "  </tbody>\n",
       "</table>\n",
       "</div>"
      ],
      "text/plain": [
       "  Image Data ID     Subject Group Sex  Age Visit Modality  \\\n",
       "0       I119733  136_S_0429   MCI   M   63    bl      MRI   \n",
       "1        I88169  136_S_0429   MCI   M   64   m18      MRI   \n",
       "2        I66801  136_S_0429   MCI   M   63   m06      MRI   \n",
       "3       I205562  136_S_0429   MCI   M   66   m36      MRI   \n",
       "4        I83549  136_S_0429   MCI   M   64   m12      MRI   \n",
       "\n",
       "           Description       Type    Acq Date Format  Downloaded  \n",
       "0  MPR; ; N3; Scaled_2  Processed   6/27/2006  NiFTI         NaN  \n",
       "1    MPR; ; N3; Scaled  Processed  12/17/2007  NiFTI         NaN  \n",
       "2    MPR; ; N3; Scaled  Processed  12/18/2006  NiFTI         NaN  \n",
       "3    MPR; ; N3; Scaled  Processed   7/13/2009  NiFTI         NaN  \n",
       "4    MPR; ; N3; Scaled  Processed   6/18/2007  NiFTI         NaN  "
      ]
     },
     "execution_count": 2,
     "metadata": {},
     "output_type": "execute_result"
    }
   ],
   "source": [
    "df3t.head()"
   ]
  },
  {
   "cell_type": "code",
   "execution_count": 3,
   "metadata": {
    "execution": {
     "iopub.execute_input": "2024-04-18T18:07:52.041703Z",
     "iopub.status.busy": "2024-04-18T18:07:52.041281Z",
     "iopub.status.idle": "2024-04-18T18:07:52.044959Z",
     "shell.execute_reply": "2024-04-18T18:07:52.045262Z"
    }
   },
   "outputs": [
    {
     "data": {
      "text/html": [
       "<div>\n",
       "<style scoped>\n",
       "    .dataframe tbody tr th:only-of-type {\n",
       "        vertical-align: middle;\n",
       "    }\n",
       "\n",
       "    .dataframe tbody tr th {\n",
       "        vertical-align: top;\n",
       "    }\n",
       "\n",
       "    .dataframe thead th {\n",
       "        text-align: right;\n",
       "    }\n",
       "</style>\n",
       "<table border=\"1\" class=\"dataframe\">\n",
       "  <thead>\n",
       "    <tr style=\"text-align: right;\">\n",
       "      <th></th>\n",
       "      <th>Image Data ID</th>\n",
       "      <th>Subject</th>\n",
       "      <th>Group</th>\n",
       "      <th>Sex</th>\n",
       "      <th>Age</th>\n",
       "      <th>Visit</th>\n",
       "      <th>Modality</th>\n",
       "      <th>Description</th>\n",
       "      <th>Type</th>\n",
       "      <th>Acq Date</th>\n",
       "      <th>Format</th>\n",
       "      <th>Downloaded</th>\n",
       "    </tr>\n",
       "  </thead>\n",
       "  <tbody>\n",
       "    <tr>\n",
       "      <th>0</th>\n",
       "      <td>I204843</td>\n",
       "      <td>941_S_1202</td>\n",
       "      <td>CN</td>\n",
       "      <td>M</td>\n",
       "      <td>81</td>\n",
       "      <td>m36</td>\n",
       "      <td>MRI</td>\n",
       "      <td>MPR; GradWarp; B1 Correction; N3; Scaled</td>\n",
       "      <td>Processed</td>\n",
       "      <td>3/14/2010</td>\n",
       "      <td>NiFTI</td>\n",
       "      <td>NaN</td>\n",
       "    </tr>\n",
       "    <tr>\n",
       "      <th>1</th>\n",
       "      <td>I137298</td>\n",
       "      <td>941_S_1202</td>\n",
       "      <td>CN</td>\n",
       "      <td>M</td>\n",
       "      <td>80</td>\n",
       "      <td>m24</td>\n",
       "      <td>MRI</td>\n",
       "      <td>MPR; GradWarp; B1 Correction; N3; Scaled</td>\n",
       "      <td>Processed</td>\n",
       "      <td>2/17/2009</td>\n",
       "      <td>NiFTI</td>\n",
       "      <td>NaN</td>\n",
       "    </tr>\n",
       "    <tr>\n",
       "      <th>2</th>\n",
       "      <td>I75150</td>\n",
       "      <td>941_S_1202</td>\n",
       "      <td>CN</td>\n",
       "      <td>M</td>\n",
       "      <td>78</td>\n",
       "      <td>m06</td>\n",
       "      <td>MRI</td>\n",
       "      <td>MPR; GradWarp; B1 Correction; N3; Scaled</td>\n",
       "      <td>Processed</td>\n",
       "      <td>8/24/2007</td>\n",
       "      <td>NiFTI</td>\n",
       "      <td>NaN</td>\n",
       "    </tr>\n",
       "    <tr>\n",
       "      <th>3</th>\n",
       "      <td>I105437</td>\n",
       "      <td>941_S_1202</td>\n",
       "      <td>CN</td>\n",
       "      <td>M</td>\n",
       "      <td>79</td>\n",
       "      <td>m12</td>\n",
       "      <td>MRI</td>\n",
       "      <td>MPR; GradWarp; B1 Correction; N3; Scaled</td>\n",
       "      <td>Processed</td>\n",
       "      <td>2/28/2008</td>\n",
       "      <td>NiFTI</td>\n",
       "      <td>NaN</td>\n",
       "    </tr>\n",
       "    <tr>\n",
       "      <th>4</th>\n",
       "      <td>I75141</td>\n",
       "      <td>941_S_1194</td>\n",
       "      <td>CN</td>\n",
       "      <td>M</td>\n",
       "      <td>85</td>\n",
       "      <td>m06</td>\n",
       "      <td>MRI</td>\n",
       "      <td>MPR; GradWarp; B1 Correction; N3; Scaled</td>\n",
       "      <td>Processed</td>\n",
       "      <td>8/22/2007</td>\n",
       "      <td>NiFTI</td>\n",
       "      <td>NaN</td>\n",
       "    </tr>\n",
       "  </tbody>\n",
       "</table>\n",
       "</div>"
      ],
      "text/plain": [
       "  Image Data ID     Subject Group Sex  Age Visit Modality  \\\n",
       "0       I204843  941_S_1202    CN   M   81   m36      MRI   \n",
       "1       I137298  941_S_1202    CN   M   80   m24      MRI   \n",
       "2        I75150  941_S_1202    CN   M   78   m06      MRI   \n",
       "3       I105437  941_S_1202    CN   M   79   m12      MRI   \n",
       "4        I75141  941_S_1194    CN   M   85   m06      MRI   \n",
       "\n",
       "                                Description       Type   Acq Date Format  \\\n",
       "0  MPR; GradWarp; B1 Correction; N3; Scaled  Processed  3/14/2010  NiFTI   \n",
       "1  MPR; GradWarp; B1 Correction; N3; Scaled  Processed  2/17/2009  NiFTI   \n",
       "2  MPR; GradWarp; B1 Correction; N3; Scaled  Processed  8/24/2007  NiFTI   \n",
       "3  MPR; GradWarp; B1 Correction; N3; Scaled  Processed  2/28/2008  NiFTI   \n",
       "4  MPR; GradWarp; B1 Correction; N3; Scaled  Processed  8/22/2007  NiFTI   \n",
       "\n",
       "   Downloaded  \n",
       "0         NaN  \n",
       "1         NaN  \n",
       "2         NaN  \n",
       "3         NaN  \n",
       "4         NaN  "
      ]
     },
     "execution_count": 3,
     "metadata": {},
     "output_type": "execute_result"
    }
   ],
   "source": [
    "df15t.head()"
   ]
  },
  {
   "cell_type": "markdown",
   "metadata": {},
   "source": [
    "### Keep only the corresponding 1.5T data we have"
   ]
  },
  {
   "cell_type": "code",
   "execution_count": 4,
   "metadata": {
    "execution": {
     "iopub.execute_input": "2024-04-18T18:07:52.051052Z",
     "iopub.status.busy": "2024-04-18T18:07:52.050627Z",
     "iopub.status.idle": "2024-04-18T18:07:52.095435Z",
     "shell.execute_reply": "2024-04-18T18:07:52.095751Z"
    }
   },
   "outputs": [
    {
     "name": "stdout",
     "output_type": "stream",
     "text": [
      "Before filtering\n",
      "Number of 1.5T images: 1693\n",
      "Number of 1.5T subjects: 382\n",
      "\n",
      "After filtering\n",
      "Number of 1.5T images: 1693\n",
      "Number of 1.5T subjects: 382\n"
     ]
    }
   ],
   "source": [
    "import os\n",
    "from pathlib import Path\n",
    "\n",
    "print('Before filtering')\n",
    "print('Number of 1.5T images:', df15t['Image Data ID'].nunique())\n",
    "print('Number of 1.5T subjects:', df15t.Subject.nunique())\n",
    "\n",
    "raw_data_dir = r'/home/nacer/ADNI_data/ADNI1_Complete_3Yr/raw_data'\n",
    "# existing_image_ids = []\n",
    "# for folder, dirs, filenames in os.walk(Path(raw_data_dir)):\n",
    "#     dirname = Path(folder).name\n",
    "#     if dirname.startswith('I'):\n",
    "#         existing_image_ids.append(dirname)\n",
    "\n",
    "# df15t = df15t[df15t['Image Data ID'].isin(existing_image_ids)]\n",
    "\n",
    "print('\\nAfter filtering')\n",
    "print('Number of 1.5T images:', df15t['Image Data ID'].nunique())\n",
    "print('Number of 1.5T subjects:', df15t.Subject.nunique())"
   ]
  },
  {
   "cell_type": "markdown",
   "metadata": {},
   "source": [
    "### Drop unneccessary columns"
   ]
  },
  {
   "cell_type": "code",
   "execution_count": 5,
   "metadata": {
    "execution": {
     "iopub.execute_input": "2024-04-18T18:07:52.100940Z",
     "iopub.status.busy": "2024-04-18T18:07:52.100527Z",
     "iopub.status.idle": "2024-04-18T18:07:52.103306Z",
     "shell.execute_reply": "2024-04-18T18:07:52.103620Z"
    }
   },
   "outputs": [
    {
     "name": "stdout",
     "output_type": "stream",
     "text": [
      "Shape of 3T data (347, 6)\n",
      "Shape of 1.5T data (1693, 6)\n"
     ]
    }
   ],
   "source": [
    "cols_to_drop = ['Modality', 'Downloaded', 'Type', 'Format', 'Sex', 'Age']\n",
    "df3t.drop(columns=cols_to_drop, inplace=True)\n",
    "df15t.drop(columns=cols_to_drop, inplace=True)\n",
    "\n",
    "print(\"Shape of 3T data\", df3t.shape)\n",
    "print(\"Shape of 1.5T data\", df15t.shape)"
   ]
  },
  {
   "cell_type": "markdown",
   "metadata": {},
   "source": [
    "### Concatenate the dataframes"
   ]
  },
  {
   "cell_type": "code",
   "execution_count": 6,
   "metadata": {
    "execution": {
     "iopub.execute_input": "2024-04-18T18:07:52.109329Z",
     "iopub.status.busy": "2024-04-18T18:07:52.108850Z",
     "iopub.status.idle": "2024-04-18T18:07:52.119843Z",
     "shell.execute_reply": "2024-04-18T18:07:52.119508Z"
    }
   },
   "outputs": [
    {
     "name": "stdout",
     "output_type": "stream",
     "text": [
      "Number of images: 2040\n",
      "Number of subjects: 397\n",
      "Shape:  (2040, 7)\n"
     ]
    }
   ],
   "source": [
    "df15t['T'] = '1.5T'\n",
    "df3t['T'] = '3T'\n",
    "df = pd.concat([df15t, df3t]).sort_values(['Subject', 'Acq Date'])\n",
    "df['Acq Date'] = pd.to_datetime(df['Acq Date'])\n",
    "\n",
    "print('Number of images:', df['Image Data ID'].nunique())\n",
    "print('Number of subjects:', df.Subject.nunique())\n",
    "print('Shape: ', df.shape)"
   ]
  },
  {
   "cell_type": "markdown",
   "metadata": {},
   "source": [
    "### The checks"
   ]
  },
  {
   "cell_type": "markdown",
   "metadata": {},
   "source": [
    "Check if the scans that have the same date also have the same image id and compare the descriptions"
   ]
  },
  {
   "cell_type": "code",
   "execution_count": 7,
   "metadata": {
    "execution": {
     "iopub.execute_input": "2024-04-18T18:07:52.126954Z",
     "iopub.status.busy": "2024-04-18T18:07:52.126533Z",
     "iopub.status.idle": "2024-04-18T18:07:52.129784Z",
     "shell.execute_reply": "2024-04-18T18:07:52.130072Z"
    }
   },
   "outputs": [
    {
     "data": {
      "text/html": [
       "<div>\n",
       "<style scoped>\n",
       "    .dataframe tbody tr th:only-of-type {\n",
       "        vertical-align: middle;\n",
       "    }\n",
       "\n",
       "    .dataframe tbody tr th {\n",
       "        vertical-align: top;\n",
       "    }\n",
       "\n",
       "    .dataframe thead th {\n",
       "        text-align: right;\n",
       "    }\n",
       "</style>\n",
       "<table border=\"1\" class=\"dataframe\">\n",
       "  <thead>\n",
       "    <tr style=\"text-align: right;\">\n",
       "      <th></th>\n",
       "      <th>Image Data ID</th>\n",
       "      <th>Subject</th>\n",
       "      <th>Group</th>\n",
       "      <th>Visit</th>\n",
       "      <th>Description</th>\n",
       "      <th>Acq Date</th>\n",
       "      <th>T</th>\n",
       "    </tr>\n",
       "  </thead>\n",
       "  <tbody>\n",
       "  </tbody>\n",
       "</table>\n",
       "</div>"
      ],
      "text/plain": [
       "Empty DataFrame\n",
       "Columns: [Image Data ID, Subject, Group, Visit, Description, Acq Date, T]\n",
       "Index: []"
      ]
     },
     "execution_count": 7,
     "metadata": {},
     "output_type": "execute_result"
    }
   ],
   "source": [
    "df[df.duplicated('Image Data ID')]"
   ]
  },
  {
   "cell_type": "markdown",
   "metadata": {},
   "source": [
    "Every image has a unique ID. So we should inspect the descriptions"
   ]
  },
  {
   "cell_type": "code",
   "execution_count": 8,
   "metadata": {
    "execution": {
     "iopub.execute_input": "2024-04-18T18:07:52.134380Z",
     "iopub.status.busy": "2024-04-18T18:07:52.133931Z",
     "iopub.status.idle": "2024-04-18T18:07:52.660905Z",
     "shell.execute_reply": "2024-04-18T18:07:52.660444Z"
    }
   },
   "outputs": [
    {
     "data": {
      "image/png": "[encoded data removed]",
      "text/plain": [
       "<Figure size 640x480 with 1 Axes>"
      ]
     },
     "metadata": {},
     "output_type": "display_data"
    }
   ],
   "source": [
    "import matplotlib.pyplot as plt\n",
    "\n",
    "df.Description.value_counts().plot(kind='bar')\n",
    "plt.show()"
   ]
  },
  {
   "cell_type": "code",
   "execution_count": 9,
   "metadata": {
    "execution": {
     "iopub.execute_input": "2024-04-18T18:07:52.666608Z",
     "iopub.status.busy": "2024-04-18T18:07:52.666137Z",
     "iopub.status.idle": "2024-04-18T18:07:52.669794Z",
     "shell.execute_reply": "2024-04-18T18:07:52.670121Z"
    }
   },
   "outputs": [
    {
     "name": "stdout",
     "output_type": "stream",
     "text": [
      "Number of images dropped:  183\n"
     ]
    }
   ],
   "source": [
    "# Drop the images with descriptions ending with '2' as well as non 'MPR' or 'MPR-R' ones\n",
    "descripions_to_drop_mask = df['Description'].str.endswith('2') | (~df['Description'].str.startswith('MPR'))\n",
    "print('Number of images dropped: ', descripions_to_drop_mask.sum())\n",
    "df = df[~descripions_to_drop_mask]"
   ]
  },
  {
   "cell_type": "code",
   "execution_count": 10,
   "metadata": {
    "execution": {
     "iopub.execute_input": "2024-04-18T18:07:52.693829Z",
     "iopub.status.busy": "2024-04-18T18:07:52.690310Z",
     "iopub.status.idle": "2024-04-18T18:07:52.822407Z",
     "shell.execute_reply": "2024-04-18T18:07:52.821997Z"
    }
   },
   "outputs": [
    {
     "data": {
      "image/png": "[encoded data removed]",
      "text/plain": [
       "<Figure size 640x480 with 1 Axes>"
      ]
     },
     "metadata": {},
     "output_type": "display_data"
    }
   ],
   "source": [
    "df.Description.value_counts().plot(kind='bar')\n",
    "plt.show()"
   ]
  },
  {
   "cell_type": "code",
   "execution_count": 11,
   "metadata": {
    "execution": {
     "iopub.execute_input": "2024-04-18T18:07:52.826988Z",
     "iopub.status.busy": "2024-04-18T18:07:52.826543Z",
     "iopub.status.idle": "2024-04-18T18:07:52.828837Z",
     "shell.execute_reply": "2024-04-18T18:07:52.828488Z"
    }
   },
   "outputs": [
    {
     "name": "stdout",
     "output_type": "stream",
     "text": [
      "Shape: (1857, 7)\n",
      "Number of images: 1857\n",
      "Number of subjects: 397\n"
     ]
    }
   ],
   "source": [
    "print('Shape:', df.shape)\n",
    "print('Number of images:', df['Image Data ID'].nunique())\n",
    "print('Number of subjects:', df.Subject.nunique())"
   ]
  },
  {
   "cell_type": "markdown",
   "metadata": {},
   "source": [
    "#### Check the image counts"
   ]
  },
  {
   "cell_type": "code",
   "execution_count": 12,
   "metadata": {
    "execution": {
     "iopub.execute_input": "2024-04-18T18:07:52.835974Z",
     "iopub.status.busy": "2024-04-18T18:07:52.830985Z",
     "iopub.status.idle": "2024-04-18T18:07:52.847256Z",
     "shell.execute_reply": "2024-04-18T18:07:52.847637Z"
    }
   },
   "outputs": [
    {
     "data": {
      "text/html": [
       "<div>\n",
       "<style scoped>\n",
       "    .dataframe tbody tr th:only-of-type {\n",
       "        vertical-align: middle;\n",
       "    }\n",
       "\n",
       "    .dataframe tbody tr th {\n",
       "        vertical-align: top;\n",
       "    }\n",
       "\n",
       "    .dataframe thead th {\n",
       "        text-align: right;\n",
       "    }\n",
       "</style>\n",
       "<table border=\"1\" class=\"dataframe\">\n",
       "  <thead>\n",
       "    <tr style=\"text-align: right;\">\n",
       "      <th>T</th>\n",
       "      <th>1.5T</th>\n",
       "      <th>3T</th>\n",
       "    </tr>\n",
       "  </thead>\n",
       "  <tbody>\n",
       "    <tr>\n",
       "      <th>count</th>\n",
       "      <td>382.0</td>\n",
       "      <td>60.0</td>\n",
       "    </tr>\n",
       "    <tr>\n",
       "      <th>mean</th>\n",
       "      <td>4.089005</td>\n",
       "      <td>4.916667</td>\n",
       "    </tr>\n",
       "    <tr>\n",
       "      <th>std</th>\n",
       "      <td>0.814846</td>\n",
       "      <td>0.907439</td>\n",
       "    </tr>\n",
       "    <tr>\n",
       "      <th>min</th>\n",
       "      <td>2.0</td>\n",
       "      <td>3.0</td>\n",
       "    </tr>\n",
       "    <tr>\n",
       "      <th>25%</th>\n",
       "      <td>3.0</td>\n",
       "      <td>4.0</td>\n",
       "    </tr>\n",
       "    <tr>\n",
       "      <th>50%</th>\n",
       "      <td>4.0</td>\n",
       "      <td>5.0</td>\n",
       "    </tr>\n",
       "    <tr>\n",
       "      <th>75%</th>\n",
       "      <td>5.0</td>\n",
       "      <td>6.0</td>\n",
       "    </tr>\n",
       "    <tr>\n",
       "      <th>max</th>\n",
       "      <td>5.0</td>\n",
       "      <td>6.0</td>\n",
       "    </tr>\n",
       "  </tbody>\n",
       "</table>\n",
       "</div>"
      ],
      "text/plain": [
       "T          1.5T        3T\n",
       "count     382.0      60.0\n",
       "mean   4.089005  4.916667\n",
       "std    0.814846  0.907439\n",
       "min         2.0       3.0\n",
       "25%         3.0       4.0\n",
       "50%         4.0       5.0\n",
       "75%         5.0       6.0\n",
       "max         5.0       6.0"
      ]
     },
     "execution_count": 12,
     "metadata": {},
     "output_type": "execute_result"
    }
   ],
   "source": [
    "# Number of images per subject by magnetic field strength (T)\n",
    "image_counts_per_subject_by_T = df.pivot_table(values='Image Data ID', index='Subject', aggfunc='count', columns='T')\n",
    "image_counts_per_subject_by_T.describe().convert_dtypes()"
   ]
  },
  {
   "cell_type": "code",
   "execution_count": 13,
   "metadata": {
    "execution": {
     "iopub.execute_input": "2024-04-18T18:07:52.853757Z",
     "iopub.status.busy": "2024-04-18T18:07:52.853331Z",
     "iopub.status.idle": "2024-04-18T18:07:52.871968Z",
     "shell.execute_reply": "2024-04-18T18:07:52.871500Z"
    }
   },
   "outputs": [
    {
     "data": {
      "text/html": [
       "<div>\n",
       "<style scoped>\n",
       "    .dataframe tbody tr th:only-of-type {\n",
       "        vertical-align: middle;\n",
       "    }\n",
       "\n",
       "    .dataframe tbody tr th {\n",
       "        vertical-align: top;\n",
       "    }\n",
       "\n",
       "    .dataframe thead th {\n",
       "        text-align: right;\n",
       "    }\n",
       "</style>\n",
       "<table border=\"1\" class=\"dataframe\">\n",
       "  <thead>\n",
       "    <tr style=\"text-align: right;\">\n",
       "      <th>Visit</th>\n",
       "      <th>bl</th>\n",
       "      <th>m06</th>\n",
       "      <th>m12</th>\n",
       "      <th>m18</th>\n",
       "      <th>m24</th>\n",
       "      <th>m36</th>\n",
       "      <th>nv</th>\n",
       "    </tr>\n",
       "  </thead>\n",
       "  <tbody>\n",
       "    <tr>\n",
       "      <th>count</th>\n",
       "      <td>397.0</td>\n",
       "      <td>397.0</td>\n",
       "      <td>397.0</td>\n",
       "      <td>397.0</td>\n",
       "      <td>397.0</td>\n",
       "      <td>397.0</td>\n",
       "      <td>397.0</td>\n",
       "    </tr>\n",
       "    <tr>\n",
       "      <th>mean</th>\n",
       "      <td>0.146096</td>\n",
       "      <td>1.098237</td>\n",
       "      <td>1.110831</td>\n",
       "      <td>0.423174</td>\n",
       "      <td>1.110831</td>\n",
       "      <td>0.785894</td>\n",
       "      <td>0.002519</td>\n",
       "    </tr>\n",
       "    <tr>\n",
       "      <th>std</th>\n",
       "      <td>0.353648</td>\n",
       "      <td>0.33017</td>\n",
       "      <td>0.314319</td>\n",
       "      <td>0.561624</td>\n",
       "      <td>0.322253</td>\n",
       "      <td>0.570311</td>\n",
       "      <td>0.050189</td>\n",
       "    </tr>\n",
       "    <tr>\n",
       "      <th>min</th>\n",
       "      <td>0.0</td>\n",
       "      <td>0.0</td>\n",
       "      <td>1.0</td>\n",
       "      <td>0.0</td>\n",
       "      <td>0.0</td>\n",
       "      <td>0.0</td>\n",
       "      <td>0.0</td>\n",
       "    </tr>\n",
       "    <tr>\n",
       "      <th>25%</th>\n",
       "      <td>0.0</td>\n",
       "      <td>1.0</td>\n",
       "      <td>1.0</td>\n",
       "      <td>0.0</td>\n",
       "      <td>1.0</td>\n",
       "      <td>0.0</td>\n",
       "      <td>0.0</td>\n",
       "    </tr>\n",
       "    <tr>\n",
       "      <th>50%</th>\n",
       "      <td>0.0</td>\n",
       "      <td>1.0</td>\n",
       "      <td>1.0</td>\n",
       "      <td>0.0</td>\n",
       "      <td>1.0</td>\n",
       "      <td>1.0</td>\n",
       "      <td>0.0</td>\n",
       "    </tr>\n",
       "    <tr>\n",
       "      <th>75%</th>\n",
       "      <td>0.0</td>\n",
       "      <td>1.0</td>\n",
       "      <td>1.0</td>\n",
       "      <td>1.0</td>\n",
       "      <td>1.0</td>\n",
       "      <td>1.0</td>\n",
       "      <td>0.0</td>\n",
       "    </tr>\n",
       "    <tr>\n",
       "      <th>max</th>\n",
       "      <td>1.0</td>\n",
       "      <td>2.0</td>\n",
       "      <td>2.0</td>\n",
       "      <td>2.0</td>\n",
       "      <td>2.0</td>\n",
       "      <td>2.0</td>\n",
       "      <td>1.0</td>\n",
       "    </tr>\n",
       "  </tbody>\n",
       "</table>\n",
       "</div>"
      ],
      "text/plain": [
       "Visit        bl       m06       m12       m18       m24       m36        nv\n",
       "count     397.0     397.0     397.0     397.0     397.0     397.0     397.0\n",
       "mean   0.146096  1.098237  1.110831  0.423174  1.110831  0.785894  0.002519\n",
       "std    0.353648   0.33017  0.314319  0.561624  0.322253  0.570311  0.050189\n",
       "min         0.0       0.0       1.0       0.0       0.0       0.0       0.0\n",
       "25%         0.0       1.0       1.0       0.0       1.0       0.0       0.0\n",
       "50%         0.0       1.0       1.0       0.0       1.0       1.0       0.0\n",
       "75%         0.0       1.0       1.0       1.0       1.0       1.0       0.0\n",
       "max         1.0       2.0       2.0       2.0       2.0       2.0       1.0"
      ]
     },
     "execution_count": 13,
     "metadata": {},
     "output_type": "execute_result"
    }
   ],
   "source": [
    "# Number of images per subject by visit\n",
    "image_counts_per_subject_by_visit = df.pivot_table(\n",
    "    values='Image Data ID',\n",
    "    index='Subject',\n",
    "    aggfunc='count',\n",
    "    columns='Visit',\n",
    "    fill_value=0\n",
    ")\n",
    "image_counts_per_subject_by_visit.describe().convert_dtypes()"
   ]
  },
  {
   "cell_type": "code",
   "execution_count": 14,
   "metadata": {
    "execution": {
     "iopub.execute_input": "2024-04-18T18:07:52.876877Z",
     "iopub.status.busy": "2024-04-18T18:07:52.875275Z",
     "iopub.status.idle": "2024-04-18T18:07:52.879995Z",
     "shell.execute_reply": "2024-04-18T18:07:52.879638Z"
    }
   },
   "outputs": [
    {
     "name": "stdout",
     "output_type": "stream",
     "text": [
      "There are 177 total duplicate combinations of subjects and visits\n",
      "There are 123 total duplicate combinations of subjects and dates\n"
     ]
    }
   ],
   "source": [
    "num_duplicated_visits = df.duplicated(['Subject', 'Visit']).sum()\n",
    "print(f'There are {num_duplicated_visits} total duplicate combinations of subjects and visits')\n",
    "num_duplicated_visits = df.duplicated(['Subject', 'Acq Date']).sum()\n",
    "print(f'There are {num_duplicated_visits} total duplicate combinations of subjects and dates')"
   ]
  },
  {
   "cell_type": "markdown",
   "metadata": {},
   "source": [
    "- Some subjects have duplicated visits with the images having same or different dates in those visits\n",
    "- Only same-day images are going to be considered as duplicated\n",
    "- One way to address this is by keeping only the image that went through more standardization steps (longer description)"
   ]
  },
  {
   "cell_type": "code",
   "execution_count": 15,
   "metadata": {
    "execution": {
     "iopub.execute_input": "2024-04-18T18:07:52.885731Z",
     "iopub.status.busy": "2024-04-18T18:07:52.884923Z",
     "iopub.status.idle": "2024-04-18T18:07:52.900801Z",
     "shell.execute_reply": "2024-04-18T18:07:52.901101Z"
    }
   },
   "outputs": [
    {
     "data": {
      "text/html": [
       "<div>\n",
       "<style scoped>\n",
       "    .dataframe tbody tr th:only-of-type {\n",
       "        vertical-align: middle;\n",
       "    }\n",
       "\n",
       "    .dataframe tbody tr th {\n",
       "        vertical-align: top;\n",
       "    }\n",
       "\n",
       "    .dataframe thead th {\n",
       "        text-align: right;\n",
       "    }\n",
       "</style>\n",
       "<table border=\"1\" class=\"dataframe\">\n",
       "  <thead>\n",
       "    <tr style=\"text-align: right;\">\n",
       "      <th></th>\n",
       "      <th></th>\n",
       "      <th></th>\n",
       "      <th></th>\n",
       "      <th>Image Data ID</th>\n",
       "      <th>Description</th>\n",
       "      <th>T</th>\n",
       "    </tr>\n",
       "    <tr>\n",
       "      <th>Subject</th>\n",
       "      <th>Visit</th>\n",
       "      <th>Acq Date</th>\n",
       "      <th>Group</th>\n",
       "      <th></th>\n",
       "      <th></th>\n",
       "      <th></th>\n",
       "    </tr>\n",
       "  </thead>\n",
       "  <tbody>\n",
       "    <tr>\n",
       "      <th rowspan=\"4\" valign=\"top\">002_S_0413</th>\n",
       "      <th rowspan=\"2\" valign=\"top\">m12</th>\n",
       "      <th rowspan=\"2\" valign=\"top\">2007-06-01</th>\n",
       "      <th>CN</th>\n",
       "      <td>I64551</td>\n",
       "      <td>MPR; ; N3; Scaled</td>\n",
       "      <td>3T</td>\n",
       "    </tr>\n",
       "    <tr>\n",
       "      <th>CN</th>\n",
       "      <td>I60008</td>\n",
       "      <td>MPR; GradWarp; B1 Correction; N3; Scaled</td>\n",
       "      <td>1.5T</td>\n",
       "    </tr>\n",
       "    <tr>\n",
       "      <th rowspan=\"2\" valign=\"top\">m24</th>\n",
       "      <th rowspan=\"2\" valign=\"top\">2008-07-31</th>\n",
       "      <th>CN</th>\n",
       "      <td>I120746</td>\n",
       "      <td>MPR; ; N3; Scaled</td>\n",
       "      <td>3T</td>\n",
       "    </tr>\n",
       "    <tr>\n",
       "      <th>CN</th>\n",
       "      <td>I120917</td>\n",
       "      <td>MPR; GradWarp; B1 Correction; N3; Scaled</td>\n",
       "      <td>1.5T</td>\n",
       "    </tr>\n",
       "    <tr>\n",
       "      <th>002_S_1018</th>\n",
       "      <th>m12</th>\n",
       "      <th>2007-12-07</th>\n",
       "      <th>AD</th>\n",
       "      <td>I97022</td>\n",
       "      <td>MPR; ; N3; Scaled</td>\n",
       "      <td>3T</td>\n",
       "    </tr>\n",
       "    <tr>\n",
       "      <th>...</th>\n",
       "      <th>...</th>\n",
       "      <th>...</th>\n",
       "      <th>...</th>\n",
       "      <td>...</td>\n",
       "      <td>...</td>\n",
       "      <td>...</td>\n",
       "    </tr>\n",
       "    <tr>\n",
       "      <th rowspan=\"3\" valign=\"top\">023_S_0625</th>\n",
       "      <th>m18</th>\n",
       "      <th>2008-01-11</th>\n",
       "      <th>MCI</th>\n",
       "      <td>I90880</td>\n",
       "      <td>MPR; GradWarp; B1 Correction; N3; Scaled</td>\n",
       "      <td>1.5T</td>\n",
       "    </tr>\n",
       "    <tr>\n",
       "      <th rowspan=\"2\" valign=\"top\">m36</th>\n",
       "      <th rowspan=\"2\" valign=\"top\">2009-10-20</th>\n",
       "      <th>MCI</th>\n",
       "      <td>I218559</td>\n",
       "      <td>MPR; GradWarp; B1 Correction; N3; Scaled</td>\n",
       "      <td>1.5T</td>\n",
       "    </tr>\n",
       "    <tr>\n",
       "      <th>MCI</th>\n",
       "      <td>I162301</td>\n",
       "      <td>MPR; GradWarp; B1 Correction; N3; Scaled</td>\n",
       "      <td>3T</td>\n",
       "    </tr>\n",
       "    <tr>\n",
       "      <th rowspan=\"2\" valign=\"top\">023_S_0916</th>\n",
       "      <th rowspan=\"2\" valign=\"top\">m06</th>\n",
       "      <th rowspan=\"2\" valign=\"top\">2007-04-24</th>\n",
       "      <th>AD</th>\n",
       "      <td>I87302</td>\n",
       "      <td>MPR; GradWarp; B1 Correction; N3; Scaled</td>\n",
       "      <td>1.5T</td>\n",
       "    </tr>\n",
       "    <tr>\n",
       "      <th>AD</th>\n",
       "      <td>I64827</td>\n",
       "      <td>MPR; GradWarp; B1 Correction; N3; Scaled</td>\n",
       "      <td>3T</td>\n",
       "    </tr>\n",
       "  </tbody>\n",
       "</table>\n",
       "<p>100 rows × 3 columns</p>\n",
       "</div>"
      ],
      "text/plain": [
       "                                  Image Data ID  \\\n",
       "Subject    Visit Acq Date   Group                 \n",
       "002_S_0413 m12   2007-06-01 CN           I64551   \n",
       "                            CN           I60008   \n",
       "           m24   2008-07-31 CN          I120746   \n",
       "                            CN          I120917   \n",
       "002_S_1018 m12   2007-12-07 AD           I97022   \n",
       "...                                         ...   \n",
       "023_S_0625 m18   2008-01-11 MCI          I90880   \n",
       "           m36   2009-10-20 MCI         I218559   \n",
       "                            MCI         I162301   \n",
       "023_S_0916 m06   2007-04-24 AD           I87302   \n",
       "                            AD           I64827   \n",
       "\n",
       "                                                                Description  \\\n",
       "Subject    Visit Acq Date   Group                                             \n",
       "002_S_0413 m12   2007-06-01 CN                            MPR; ; N3; Scaled   \n",
       "                            CN     MPR; GradWarp; B1 Correction; N3; Scaled   \n",
       "           m24   2008-07-31 CN                            MPR; ; N3; Scaled   \n",
       "                            CN     MPR; GradWarp; B1 Correction; N3; Scaled   \n",
       "002_S_1018 m12   2007-12-07 AD                            MPR; ; N3; Scaled   \n",
       "...                                                                     ...   \n",
       "023_S_0625 m18   2008-01-11 MCI    MPR; GradWarp; B1 Correction; N3; Scaled   \n",
       "           m36   2009-10-20 MCI    MPR; GradWarp; B1 Correction; N3; Scaled   \n",
       "                            MCI    MPR; GradWarp; B1 Correction; N3; Scaled   \n",
       "023_S_0916 m06   2007-04-24 AD     MPR; GradWarp; B1 Correction; N3; Scaled   \n",
       "                            AD     MPR; GradWarp; B1 Correction; N3; Scaled   \n",
       "\n",
       "                                      T  \n",
       "Subject    Visit Acq Date   Group        \n",
       "002_S_0413 m12   2007-06-01 CN       3T  \n",
       "                            CN     1.5T  \n",
       "           m24   2008-07-31 CN       3T  \n",
       "                            CN     1.5T  \n",
       "002_S_1018 m12   2007-12-07 AD       3T  \n",
       "...                                 ...  \n",
       "023_S_0625 m18   2008-01-11 MCI    1.5T  \n",
       "           m36   2009-10-20 MCI    1.5T  \n",
       "                            MCI      3T  \n",
       "023_S_0916 m06   2007-04-24 AD     1.5T  \n",
       "                            AD       3T  \n",
       "\n",
       "[100 rows x 3 columns]"
      ]
     },
     "execution_count": 15,
     "metadata": {},
     "output_type": "execute_result"
    }
   ],
   "source": [
    "# Sort the duplicated visit images by description (longer description goes to the bottom)\n",
    "df = df.sort_values(['Subject', 'Visit', 'Acq Date', 'Description'])\n",
    "# Set the index for a clearer view of the hierarchy\n",
    "df[df.duplicated(['Subject', 'Visit', 'Acq Date'], keep=False)]\\\n",
    "  .set_index([\"Subject\", \"Visit\", \"Acq Date\", \"Group\"])\\\n",
    "  .head(100)"
   ]
  },
  {
   "cell_type": "code",
   "execution_count": 16,
   "metadata": {
    "execution": {
     "iopub.execute_input": "2024-04-18T18:07:52.904822Z",
     "iopub.status.busy": "2024-04-18T18:07:52.904403Z",
     "iopub.status.idle": "2024-04-18T18:07:52.917682Z",
     "shell.execute_reply": "2024-04-18T18:07:52.917962Z"
    }
   },
   "outputs": [
    {
     "data": {
      "text/html": [
       "<div>\n",
       "<style scoped>\n",
       "    .dataframe tbody tr th:only-of-type {\n",
       "        vertical-align: middle;\n",
       "    }\n",
       "\n",
       "    .dataframe tbody tr th {\n",
       "        vertical-align: top;\n",
       "    }\n",
       "\n",
       "    .dataframe thead th {\n",
       "        text-align: right;\n",
       "    }\n",
       "</style>\n",
       "<table border=\"1\" class=\"dataframe\">\n",
       "  <thead>\n",
       "    <tr style=\"text-align: right;\">\n",
       "      <th></th>\n",
       "      <th></th>\n",
       "      <th></th>\n",
       "      <th></th>\n",
       "      <th>Image Data ID</th>\n",
       "      <th>Description</th>\n",
       "      <th>T</th>\n",
       "    </tr>\n",
       "    <tr>\n",
       "      <th>Subject</th>\n",
       "      <th>Visit</th>\n",
       "      <th>Acq Date</th>\n",
       "      <th>Group</th>\n",
       "      <th></th>\n",
       "      <th></th>\n",
       "      <th></th>\n",
       "    </tr>\n",
       "  </thead>\n",
       "  <tbody>\n",
       "    <tr>\n",
       "      <th rowspan=\"4\" valign=\"top\">002_S_0295</th>\n",
       "      <th>m06</th>\n",
       "      <th>2006-11-02</th>\n",
       "      <th>CN</th>\n",
       "      <td>I40966</td>\n",
       "      <td>MPR; GradWarp; B1 Correction; N3; Scaled</td>\n",
       "      <td>1.5T</td>\n",
       "    </tr>\n",
       "    <tr>\n",
       "      <th>m12</th>\n",
       "      <th>2007-05-25</th>\n",
       "      <th>CN</th>\n",
       "      <td>I64025</td>\n",
       "      <td>MPR; GradWarp; B1 Correction; N3; Scaled</td>\n",
       "      <td>1.5T</td>\n",
       "    </tr>\n",
       "    <tr>\n",
       "      <th>m24</th>\n",
       "      <th>2008-07-23</th>\n",
       "      <th>CN</th>\n",
       "      <td>I123685</td>\n",
       "      <td>MPR; GradWarp; B1 Correction; N3; Scaled</td>\n",
       "      <td>1.5T</td>\n",
       "    </tr>\n",
       "    <tr>\n",
       "      <th>m36</th>\n",
       "      <th>2009-05-22</th>\n",
       "      <th>CN</th>\n",
       "      <td>I150177</td>\n",
       "      <td>MPR; GradWarp; B1 Correction; N3; Scaled</td>\n",
       "      <td>1.5T</td>\n",
       "    </tr>\n",
       "    <tr>\n",
       "      <th rowspan=\"6\" valign=\"top\">002_S_0413</th>\n",
       "      <th>bl</th>\n",
       "      <th>2006-05-19</th>\n",
       "      <th>CN</th>\n",
       "      <td>I40657</td>\n",
       "      <td>MPR; ; N3; Scaled</td>\n",
       "      <td>3T</td>\n",
       "    </tr>\n",
       "    <tr>\n",
       "      <th>m06</th>\n",
       "      <th>2006-11-15</th>\n",
       "      <th>CN</th>\n",
       "      <td>I79122</td>\n",
       "      <td>MPR; GradWarp; B1 Correction; N3; Scaled</td>\n",
       "      <td>1.5T</td>\n",
       "    </tr>\n",
       "    <tr>\n",
       "      <th>m12</th>\n",
       "      <th>2007-06-01</th>\n",
       "      <th>CN</th>\n",
       "      <td>I60008</td>\n",
       "      <td>MPR; GradWarp; B1 Correction; N3; Scaled</td>\n",
       "      <td>1.5T</td>\n",
       "    </tr>\n",
       "    <tr>\n",
       "      <th>m24</th>\n",
       "      <th>2008-07-31</th>\n",
       "      <th>CN</th>\n",
       "      <td>I120917</td>\n",
       "      <td>MPR; GradWarp; B1 Correction; N3; Scaled</td>\n",
       "      <td>1.5T</td>\n",
       "    </tr>\n",
       "    <tr>\n",
       "      <th rowspan=\"2\" valign=\"top\">m36</th>\n",
       "      <th>2009-04-30</th>\n",
       "      <th>CN</th>\n",
       "      <td>I149735</td>\n",
       "      <td>MPR; ; N3; Scaled</td>\n",
       "      <td>3T</td>\n",
       "    </tr>\n",
       "    <tr>\n",
       "      <th>2009-05-04</th>\n",
       "      <th>CN</th>\n",
       "      <td>I149740</td>\n",
       "      <td>MPR; GradWarp; B1 Correction; N3; Scaled</td>\n",
       "      <td>1.5T</td>\n",
       "    </tr>\n",
       "    <tr>\n",
       "      <th rowspan=\"5\" valign=\"top\">002_S_0559</th>\n",
       "      <th>bl</th>\n",
       "      <th>2006-06-27</th>\n",
       "      <th>CN</th>\n",
       "      <td>I45126</td>\n",
       "      <td>MPR; ; N3; Scaled</td>\n",
       "      <td>3T</td>\n",
       "    </tr>\n",
       "    <tr>\n",
       "      <th>m06</th>\n",
       "      <th>2006-12-12</th>\n",
       "      <th>CN</th>\n",
       "      <td>I79123</td>\n",
       "      <td>MPR; ; N3; Scaled</td>\n",
       "      <td>3T</td>\n",
       "    </tr>\n",
       "    <tr>\n",
       "      <th>m12</th>\n",
       "      <th>2007-10-18</th>\n",
       "      <th>CN</th>\n",
       "      <td>I82102</td>\n",
       "      <td>MPR-R; ; N3; Scaled</td>\n",
       "      <td>3T</td>\n",
       "    </tr>\n",
       "    <tr>\n",
       "      <th>m24</th>\n",
       "      <th>2008-08-15</th>\n",
       "      <th>CN</th>\n",
       "      <td>I120779</td>\n",
       "      <td>MPR; ; N3; Scaled</td>\n",
       "      <td>3T</td>\n",
       "    </tr>\n",
       "    <tr>\n",
       "      <th>m36</th>\n",
       "      <th>2009-06-30</th>\n",
       "      <th>CN</th>\n",
       "      <td>I171087</td>\n",
       "      <td>MPR; ; N3; Scaled</td>\n",
       "      <td>3T</td>\n",
       "    </tr>\n",
       "    <tr>\n",
       "      <th rowspan=\"3\" valign=\"top\">002_S_0619</th>\n",
       "      <th>m06</th>\n",
       "      <th>2006-12-13</th>\n",
       "      <th>AD</th>\n",
       "      <td>I60451</td>\n",
       "      <td>MPR; GradWarp; N3; Scaled</td>\n",
       "      <td>1.5T</td>\n",
       "    </tr>\n",
       "    <tr>\n",
       "      <th>m12</th>\n",
       "      <th>2007-06-22</th>\n",
       "      <th>AD</th>\n",
       "      <td>I67871</td>\n",
       "      <td>MPR-R; GradWarp; N3; Scaled</td>\n",
       "      <td>1.5T</td>\n",
       "    </tr>\n",
       "    <tr>\n",
       "      <th>m24</th>\n",
       "      <th>2008-08-13</th>\n",
       "      <th>AD</th>\n",
       "      <td>I120964</td>\n",
       "      <td>MPR; GradWarp; B1 Correction; N3; Scaled</td>\n",
       "      <td>1.5T</td>\n",
       "    </tr>\n",
       "    <tr>\n",
       "      <th rowspan=\"4\" valign=\"top\">002_S_0685</th>\n",
       "      <th>m06</th>\n",
       "      <th>2007-01-22</th>\n",
       "      <th>CN</th>\n",
       "      <td>I86020</td>\n",
       "      <td>MPR-R; GradWarp; B1 Correction; N3; Scaled</td>\n",
       "      <td>1.5T</td>\n",
       "    </tr>\n",
       "    <tr>\n",
       "      <th>m12</th>\n",
       "      <th>2007-08-02</th>\n",
       "      <th>CN</th>\n",
       "      <td>I74174</td>\n",
       "      <td>MPR; GradWarp; B1 Correction; N3; Scaled</td>\n",
       "      <td>1.5T</td>\n",
       "    </tr>\n",
       "    <tr>\n",
       "      <th>m24</th>\n",
       "      <th>2008-08-22</th>\n",
       "      <th>CN</th>\n",
       "      <td>I120994</td>\n",
       "      <td>MPR; GradWarp; B1 Correction; N3; Scaled</td>\n",
       "      <td>1.5T</td>\n",
       "    </tr>\n",
       "    <tr>\n",
       "      <th>m36</th>\n",
       "      <th>2009-07-21</th>\n",
       "      <th>CN</th>\n",
       "      <td>I161974</td>\n",
       "      <td>MPR; GradWarp; B1 Correction; N3; Scaled</td>\n",
       "      <td>1.5T</td>\n",
       "    </tr>\n",
       "    <tr>\n",
       "      <th rowspan=\"5\" valign=\"top\">002_S_0729</th>\n",
       "      <th>m06</th>\n",
       "      <th>2007-02-22</th>\n",
       "      <th>MCI</th>\n",
       "      <td>I64741</td>\n",
       "      <td>MPR; GradWarp; B1 Correction; N3; Scaled</td>\n",
       "      <td>1.5T</td>\n",
       "    </tr>\n",
       "    <tr>\n",
       "      <th>m12</th>\n",
       "      <th>2007-09-05</th>\n",
       "      <th>MCI</th>\n",
       "      <td>I78654</td>\n",
       "      <td>MPR; GradWarp; B1 Correction; N3; Scaled</td>\n",
       "      <td>1.5T</td>\n",
       "    </tr>\n",
       "    <tr>\n",
       "      <th>m18</th>\n",
       "      <th>2008-04-03</th>\n",
       "      <th>MCI</th>\n",
       "      <td>I121067</td>\n",
       "      <td>MPR-R; GradWarp; B1 Correction; N3; Scaled</td>\n",
       "      <td>1.5T</td>\n",
       "    </tr>\n",
       "    <tr>\n",
       "      <th>m24</th>\n",
       "      <th>2008-09-29</th>\n",
       "      <th>MCI</th>\n",
       "      <td>I123994</td>\n",
       "      <td>MPR; GradWarp; B1 Correction; N3; Scaled</td>\n",
       "      <td>1.5T</td>\n",
       "    </tr>\n",
       "    <tr>\n",
       "      <th>m36</th>\n",
       "      <th>2009-08-13</th>\n",
       "      <th>MCI</th>\n",
       "      <td>I171092</td>\n",
       "      <td>MPR; GradWarp; B1 Correction; N3; Scaled</td>\n",
       "      <td>1.5T</td>\n",
       "    </tr>\n",
       "    <tr>\n",
       "      <th rowspan=\"3\" valign=\"top\">002_S_0782</th>\n",
       "      <th>m06</th>\n",
       "      <th>2007-04-11</th>\n",
       "      <th>MCI</th>\n",
       "      <td>I60456</td>\n",
       "      <td>MPR; GradWarp; B1 Correction; N3; Scaled</td>\n",
       "      <td>1.5T</td>\n",
       "    </tr>\n",
       "    <tr>\n",
       "      <th>m12</th>\n",
       "      <th>2007-09-19</th>\n",
       "      <th>MCI</th>\n",
       "      <td>I87283</td>\n",
       "      <td>MPR; GradWarp; B1 Correction; N3; Scaled</td>\n",
       "      <td>1.5T</td>\n",
       "    </tr>\n",
       "    <tr>\n",
       "      <th>m18</th>\n",
       "      <th>2008-06-18</th>\n",
       "      <th>MCI</th>\n",
       "      <td>I112184</td>\n",
       "      <td>MPR-R; GradWarp; B1 Correction; N3; Scaled</td>\n",
       "      <td>1.5T</td>\n",
       "    </tr>\n",
       "  </tbody>\n",
       "</table>\n",
       "</div>"
      ],
      "text/plain": [
       "                                  Image Data ID  \\\n",
       "Subject    Visit Acq Date   Group                 \n",
       "002_S_0295 m06   2006-11-02 CN           I40966   \n",
       "           m12   2007-05-25 CN           I64025   \n",
       "           m24   2008-07-23 CN          I123685   \n",
       "           m36   2009-05-22 CN          I150177   \n",
       "002_S_0413 bl    2006-05-19 CN           I40657   \n",
       "           m06   2006-11-15 CN           I79122   \n",
       "           m12   2007-06-01 CN           I60008   \n",
       "           m24   2008-07-31 CN          I120917   \n",
       "           m36   2009-04-30 CN          I149735   \n",
       "                 2009-05-04 CN          I149740   \n",
       "002_S_0559 bl    2006-06-27 CN           I45126   \n",
       "           m06   2006-12-12 CN           I79123   \n",
       "           m12   2007-10-18 CN           I82102   \n",
       "           m24   2008-08-15 CN          I120779   \n",
       "           m36   2009-06-30 CN          I171087   \n",
       "002_S_0619 m06   2006-12-13 AD           I60451   \n",
       "           m12   2007-06-22 AD           I67871   \n",
       "           m24   2008-08-13 AD          I120964   \n",
       "002_S_0685 m06   2007-01-22 CN           I86020   \n",
       "           m12   2007-08-02 CN           I74174   \n",
       "           m24   2008-08-22 CN          I120994   \n",
       "           m36   2009-07-21 CN          I161974   \n",
       "002_S_0729 m06   2007-02-22 MCI          I64741   \n",
       "           m12   2007-09-05 MCI          I78654   \n",
       "           m18   2008-04-03 MCI         I121067   \n",
       "           m24   2008-09-29 MCI         I123994   \n",
       "           m36   2009-08-13 MCI         I171092   \n",
       "002_S_0782 m06   2007-04-11 MCI          I60456   \n",
       "           m12   2007-09-19 MCI          I87283   \n",
       "           m18   2008-06-18 MCI         I112184   \n",
       "\n",
       "                                                                  Description  \\\n",
       "Subject    Visit Acq Date   Group                                               \n",
       "002_S_0295 m06   2006-11-02 CN       MPR; GradWarp; B1 Correction; N3; Scaled   \n",
       "           m12   2007-05-25 CN       MPR; GradWarp; B1 Correction; N3; Scaled   \n",
       "           m24   2008-07-23 CN       MPR; GradWarp; B1 Correction; N3; Scaled   \n",
       "           m36   2009-05-22 CN       MPR; GradWarp; B1 Correction; N3; Scaled   \n",
       "002_S_0413 bl    2006-05-19 CN                              MPR; ; N3; Scaled   \n",
       "           m06   2006-11-15 CN       MPR; GradWarp; B1 Correction; N3; Scaled   \n",
       "           m12   2007-06-01 CN       MPR; GradWarp; B1 Correction; N3; Scaled   \n",
       "           m24   2008-07-31 CN       MPR; GradWarp; B1 Correction; N3; Scaled   \n",
       "           m36   2009-04-30 CN                              MPR; ; N3; Scaled   \n",
       "                 2009-05-04 CN       MPR; GradWarp; B1 Correction; N3; Scaled   \n",
       "002_S_0559 bl    2006-06-27 CN                              MPR; ; N3; Scaled   \n",
       "           m06   2006-12-12 CN                              MPR; ; N3; Scaled   \n",
       "           m12   2007-10-18 CN                            MPR-R; ; N3; Scaled   \n",
       "           m24   2008-08-15 CN                              MPR; ; N3; Scaled   \n",
       "           m36   2009-06-30 CN                              MPR; ; N3; Scaled   \n",
       "002_S_0619 m06   2006-12-13 AD                      MPR; GradWarp; N3; Scaled   \n",
       "           m12   2007-06-22 AD                    MPR-R; GradWarp; N3; Scaled   \n",
       "           m24   2008-08-13 AD       MPR; GradWarp; B1 Correction; N3; Scaled   \n",
       "002_S_0685 m06   2007-01-22 CN     MPR-R; GradWarp; B1 Correction; N3; Scaled   \n",
       "           m12   2007-08-02 CN       MPR; GradWarp; B1 Correction; N3; Scaled   \n",
       "           m24   2008-08-22 CN       MPR; GradWarp; B1 Correction; N3; Scaled   \n",
       "           m36   2009-07-21 CN       MPR; GradWarp; B1 Correction; N3; Scaled   \n",
       "002_S_0729 m06   2007-02-22 MCI      MPR; GradWarp; B1 Correction; N3; Scaled   \n",
       "           m12   2007-09-05 MCI      MPR; GradWarp; B1 Correction; N3; Scaled   \n",
       "           m18   2008-04-03 MCI    MPR-R; GradWarp; B1 Correction; N3; Scaled   \n",
       "           m24   2008-09-29 MCI      MPR; GradWarp; B1 Correction; N3; Scaled   \n",
       "           m36   2009-08-13 MCI      MPR; GradWarp; B1 Correction; N3; Scaled   \n",
       "002_S_0782 m06   2007-04-11 MCI      MPR; GradWarp; B1 Correction; N3; Scaled   \n",
       "           m12   2007-09-19 MCI      MPR; GradWarp; B1 Correction; N3; Scaled   \n",
       "           m18   2008-06-18 MCI    MPR-R; GradWarp; B1 Correction; N3; Scaled   \n",
       "\n",
       "                                      T  \n",
       "Subject    Visit Acq Date   Group        \n",
       "002_S_0295 m06   2006-11-02 CN     1.5T  \n",
       "           m12   2007-05-25 CN     1.5T  \n",
       "           m24   2008-07-23 CN     1.5T  \n",
       "           m36   2009-05-22 CN     1.5T  \n",
       "002_S_0413 bl    2006-05-19 CN       3T  \n",
       "           m06   2006-11-15 CN     1.5T  \n",
       "           m12   2007-06-01 CN     1.5T  \n",
       "           m24   2008-07-31 CN     1.5T  \n",
       "           m36   2009-04-30 CN       3T  \n",
       "                 2009-05-04 CN     1.5T  \n",
       "002_S_0559 bl    2006-06-27 CN       3T  \n",
       "           m06   2006-12-12 CN       3T  \n",
       "           m12   2007-10-18 CN       3T  \n",
       "           m24   2008-08-15 CN       3T  \n",
       "           m36   2009-06-30 CN       3T  \n",
       "002_S_0619 m06   2006-12-13 AD     1.5T  \n",
       "           m12   2007-06-22 AD     1.5T  \n",
       "           m24   2008-08-13 AD     1.5T  \n",
       "002_S_0685 m06   2007-01-22 CN     1.5T  \n",
       "           m12   2007-08-02 CN     1.5T  \n",
       "           m24   2008-08-22 CN     1.5T  \n",
       "           m36   2009-07-21 CN     1.5T  \n",
       "002_S_0729 m06   2007-02-22 MCI    1.5T  \n",
       "           m12   2007-09-05 MCI    1.5T  \n",
       "           m18   2008-04-03 MCI    1.5T  \n",
       "           m24   2008-09-29 MCI    1.5T  \n",
       "           m36   2009-08-13 MCI    1.5T  \n",
       "002_S_0782 m06   2007-04-11 MCI    1.5T  \n",
       "           m12   2007-09-19 MCI    1.5T  \n",
       "           m18   2008-06-18 MCI    1.5T  "
      ]
     },
     "execution_count": 16,
     "metadata": {},
     "output_type": "execute_result"
    }
   ],
   "source": [
    "# Drop duplicated images keeping the last one (the longer description after sorting)\n",
    "df = df.drop_duplicates([\"Subject\", \"Visit\", 'Acq Date'], keep='last')\n",
    "df.set_index([\"Subject\", \"Visit\", \"Acq Date\", \"Group\"]).head(30)"
   ]
  },
  {
   "cell_type": "code",
   "execution_count": 17,
   "metadata": {
    "execution": {
     "iopub.execute_input": "2024-04-18T18:07:52.923494Z",
     "iopub.status.busy": "2024-04-18T18:07:52.922894Z",
     "iopub.status.idle": "2024-04-18T18:07:52.931423Z",
     "shell.execute_reply": "2024-04-18T18:07:52.930965Z"
    }
   },
   "outputs": [
    {
     "data": {
      "text/plain": [
       "1"
      ]
     },
     "execution_count": 17,
     "metadata": {},
     "output_type": "execute_result"
    }
   ],
   "source": [
    "df.pivot_table(\n",
    "    values='Image Data ID',\n",
    "    index='Subject',\n",
    "    aggfunc='count',\n",
    "    columns='Acq Date',\n",
    "    fill_value=0\n",
    ").max().max()"
   ]
  },
  {
   "cell_type": "code",
   "execution_count": 18,
   "metadata": {},
   "outputs": [
    {
     "name": "stdout",
     "output_type": "stream",
     "text": [
      "Shape: (1734, 7)\n",
      "Number of images: 1734\n",
      "Number of subjects: 397\n"
     ]
    }
   ],
   "source": [
    "print('Shape:', df.shape)\n",
    "print('Number of images:', df['Image Data ID'].nunique())\n",
    "print('Number of subjects:', df.Subject.nunique())"
   ]
  },
  {
   "cell_type": "markdown",
   "metadata": {},
   "source": [
    "Now every subject has at most one image per date (but possibly multiple images per visit)"
   ]
  },
  {
   "cell_type": "markdown",
   "metadata": {},
   "source": [
    "### Class Imbalance"
   ]
  },
  {
   "cell_type": "code",
   "execution_count": 19,
   "metadata": {
    "execution": {
     "iopub.execute_input": "2024-04-18T18:07:52.936536Z",
     "iopub.status.busy": "2024-04-18T18:07:52.936069Z",
     "iopub.status.idle": "2024-04-18T18:07:53.100719Z",
     "shell.execute_reply": "2024-04-18T18:07:53.099806Z"
    }
   },
   "outputs": [
    {
     "data": {
      "image/png": "[encoded data removed]",
      "text/plain": [
       "<Figure size 640x480 with 1 Axes>"
      ]
     },
     "metadata": {},
     "output_type": "display_data"
    }
   ],
   "source": [
    "import matplotlib.pyplot as plt\n",
    "import seaborn as sns\n",
    "\n",
    "subject_group_pivot = df.pivot_table(values='Image Data ID', index='Subject', columns='Group', aggfunc='count')\n",
    "group_counts = subject_group_pivot.sum()\n",
    "plt.pie(group_counts, labels=group_counts.index, autopct='%.0f%%', colors=sns.color_palette('pastel'))\n",
    "plt.title('Group Distribution')\n",
    "plt.show()"
   ]
  },
  {
   "cell_type": "code",
   "execution_count": 20,
   "metadata": {
    "execution": {
     "iopub.execute_input": "2024-04-18T18:07:53.123603Z",
     "iopub.status.busy": "2024-04-18T18:07:53.122019Z",
     "iopub.status.idle": "2024-04-18T18:07:53.179390Z",
     "shell.execute_reply": "2024-04-18T18:07:53.178517Z"
    }
   },
   "outputs": [
    {
     "data": {
      "image/png": "[encoded data removed]",
      "text/plain": [
       "<Figure size 640x480 with 1 Axes>"
      ]
     },
     "metadata": {},
     "output_type": "display_data"
    }
   ],
   "source": [
    "T_counts = image_counts_per_subject_by_T.sum()\n",
    "plt.pie(T_counts, labels=T_counts.index, autopct='%.0f%%', colors=sns.color_palette('pastel'))\n",
    "plt.title('Magnetic Field Strength Distribution')\n",
    "plt.show()"
   ]
  },
  {
   "cell_type": "code",
   "execution_count": 23,
   "metadata": {},
   "outputs": [
    {
     "data": {
      "text/html": [
       "<div>\n",
       "<style scoped>\n",
       "    .dataframe tbody tr th:only-of-type {\n",
       "        vertical-align: middle;\n",
       "    }\n",
       "\n",
       "    .dataframe tbody tr th {\n",
       "        vertical-align: top;\n",
       "    }\n",
       "\n",
       "    .dataframe thead th {\n",
       "        text-align: right;\n",
       "    }\n",
       "</style>\n",
       "<table border=\"1\" class=\"dataframe\">\n",
       "  <thead>\n",
       "    <tr style=\"text-align: right;\">\n",
       "      <th>Group</th>\n",
       "      <th>AD</th>\n",
       "      <th>CN</th>\n",
       "      <th>MCI</th>\n",
       "    </tr>\n",
       "    <tr>\n",
       "      <th>Image Count</th>\n",
       "      <th></th>\n",
       "      <th></th>\n",
       "      <th></th>\n",
       "    </tr>\n",
       "  </thead>\n",
       "  <tbody>\n",
       "    <tr>\n",
       "      <th>2</th>\n",
       "      <td>4</td>\n",
       "      <td>0</td>\n",
       "      <td>0</td>\n",
       "    </tr>\n",
       "    <tr>\n",
       "      <th>3</th>\n",
       "      <td>82</td>\n",
       "      <td>3</td>\n",
       "      <td>0</td>\n",
       "    </tr>\n",
       "    <tr>\n",
       "      <th>4</th>\n",
       "      <td>3</td>\n",
       "      <td>114</td>\n",
       "      <td>8</td>\n",
       "    </tr>\n",
       "    <tr>\n",
       "      <th>5</th>\n",
       "      <td>0</td>\n",
       "      <td>6</td>\n",
       "      <td>127</td>\n",
       "    </tr>\n",
       "    <tr>\n",
       "      <th>6</th>\n",
       "      <td>1</td>\n",
       "      <td>0</td>\n",
       "      <td>5</td>\n",
       "    </tr>\n",
       "    <tr>\n",
       "      <th>7</th>\n",
       "      <td>13</td>\n",
       "      <td>2</td>\n",
       "      <td>0</td>\n",
       "    </tr>\n",
       "    <tr>\n",
       "      <th>8</th>\n",
       "      <td>0</td>\n",
       "      <td>1</td>\n",
       "      <td>0</td>\n",
       "    </tr>\n",
       "    <tr>\n",
       "      <th>9</th>\n",
       "      <td>0</td>\n",
       "      <td>14</td>\n",
       "      <td>0</td>\n",
       "    </tr>\n",
       "    <tr>\n",
       "      <th>11</th>\n",
       "      <td>0</td>\n",
       "      <td>0</td>\n",
       "      <td>14</td>\n",
       "    </tr>\n",
       "  </tbody>\n",
       "</table>\n",
       "</div>"
      ],
      "text/plain": [
       "Group        AD   CN  MCI\n",
       "Image Count              \n",
       "2             4    0    0\n",
       "3            82    3    0\n",
       "4             3  114    8\n",
       "5             0    6  127\n",
       "6             1    0    5\n",
       "7            13    2    0\n",
       "8             0    1    0\n",
       "9             0   14    0\n",
       "11            0    0   14"
      ]
     },
     "execution_count": 23,
     "metadata": {},
     "output_type": "execute_result"
    }
   ],
   "source": [
    "\n",
    "# Distribution of image counts among the subjects\n",
    "# image_counts_per_subject_by_visit.iloc[:, :-2]\\\n",
    "#     .replace(0, pd.NA)\\\n",
    "#     .apply('sum', axis=1)\\\n",
    "#     .value_counts()\\\n",
    "#     .sort_index()\\\n",
    "#     .plot(kind='bar')\n",
    "# plt.xlabel('Image Count')\n",
    "# plt.ylabel('Subject Count')\n",
    "# plt.title('Distribution of subjects by image count')\n",
    "# plt.show()\n",
    "\n",
    "# Add the group column\n",
    "image_counts_per_subject = image_counts_per_subject_by_visit.apply('sum', axis=1).rename('Image Count').to_frame()\n",
    "image_counts_per_subject = image_counts_per_subject.merge(\n",
    "    subject_group_pivot.idxmax(axis=1).rename('Group'),\n",
    "    right_index=True,\n",
    "    left_index=True\n",
    ")\n",
    "subject_count_per_image_count_by_group = image_counts_per_subject\\\n",
    "    .reset_index()\\\n",
    "    .pivot_table(\n",
    "        index='Image Count',\n",
    "        values='Subject',\n",
    "        columns='Group',\n",
    "        aggfunc='count',\n",
    "        fill_value=0\n",
    "    )\n",
    "subject_count_per_image_count_by_group"
   ]
  },
  {
   "cell_type": "markdown",
   "metadata": {},
   "source": [
    "### Save the final image IDs for preprocessing"
   ]
  },
  {
   "cell_type": "code",
   "execution_count": 25,
   "metadata": {
    "execution": {
     "iopub.execute_input": "2024-04-18T18:07:53.184685Z",
     "iopub.status.busy": "2024-04-18T18:07:53.184234Z",
     "iopub.status.idle": "2024-04-18T18:07:53.190567Z",
     "shell.execute_reply": "2024-04-18T18:07:53.190907Z"
    }
   },
   "outputs": [],
   "source": [
    "# Save the subject diagnosis labels for later use\n",
    "subject_group_pivot.idxmax(axis=1).rename('Group').value_counts().to_csv('subject_groups.csv')\n",
    "# Save the images ids\n",
    "df['Image Data ID'].to_csv('final_image_ids.csv', index=False)"
   ]
  }
 ],
 "metadata": {
  "kernelspec": {
   "display_name": "adni",
   "language": "python",
   "name": "python3"
  },
  "language_info": {
   "codemirror_mode": {
    "name": "ipython",
    "version": 3
   },
   "file_extension": ".py",
   "mimetype": "text/x-python",
   "name": "python",
   "nbconvert_exporter": "python",
   "pygments_lexer": "ipython3",
   "version": "3.10.12"
  }
 },
 "nbformat": 4,
 "nbformat_minor": 2
}
