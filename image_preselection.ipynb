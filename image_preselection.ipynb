{
 "cells": [
  {
   "cell_type": "markdown",
   "metadata": {},
   "source": [
    "The datasets `ADNI1_Complete_3Yr_1.5T` and `ADNI1_Complete_3Yr_3T` have been selected for the project but they contain some duplicate subjects between them so we need to inspect them to decide how to proceed. We will:\n",
    "- Check if the `nii` files are duplicates for the same subject (compare dates, IDs and descriptions)\n",
    "- Decide which files to keep"
   ]
  },
  {
   "cell_type": "markdown",
   "metadata": {},
   "source": [
    "### Load the data"
   ]
  },
  {
   "cell_type": "code",
   "execution_count": 1,
   "metadata": {
    "execution": {
     "iopub.execute_input": "2024-05-06T05:52:26.791734Z",
     "iopub.status.busy": "2024-05-06T05:52:26.781353Z",
     "iopub.status.idle": "2024-05-06T05:52:27.598646Z",
     "shell.execute_reply": "2024-05-06T05:52:27.599876Z"
    }
   },
   "outputs": [
    {
     "name": "stdout",
     "output_type": "stream",
     "text": [
      "Shape of 3T data (347, 12)\n",
      "Shape of 1.5T data (1693, 12)\n"
     ]
    }
   ],
   "source": [
    "import pandas as pd\n",
    "from get_config import get_config_dict\n",
    "\n",
    "# Load the config\n",
    "config = get_config_dict()\n",
    "\n",
    "df3t = pd.read_csv(r'~/ADNI_data/ADNI1_Complete_3Yr_3T_4_08_2024.csv')\n",
    "df15t = pd.read_csv(r'~/ADNI_data/ADNI1_Complete_3Yr_1.5T_4_08_2024.csv')\n",
    "\n",
    "print(\"Shape of 3T data\", df3t.shape)\n",
    "print(\"Shape of 1.5T data\", df15t.shape)"
   ]
  },
  {
   "cell_type": "markdown",
   "metadata": {},
   "source": [
    "Drop unneccessary columns"
   ]
  },
  {
   "cell_type": "code",
   "execution_count": 2,
   "metadata": {
    "execution": {
     "iopub.execute_input": "2024-05-06T05:52:27.616522Z",
     "iopub.status.busy": "2024-05-06T05:52:27.614668Z",
     "iopub.status.idle": "2024-05-06T05:52:27.644961Z",
     "shell.execute_reply": "2024-05-06T05:52:27.645895Z"
    }
   },
   "outputs": [
    {
     "data": {
      "text/html": [
       "<div>\n",
       "<style scoped>\n",
       "    .dataframe tbody tr th:only-of-type {\n",
       "        vertical-align: middle;\n",
       "    }\n",
       "\n",
       "    .dataframe tbody tr th {\n",
       "        vertical-align: top;\n",
       "    }\n",
       "\n",
       "    .dataframe thead th {\n",
       "        text-align: right;\n",
       "    }\n",
       "</style>\n",
       "<table border=\"1\" class=\"dataframe\">\n",
       "  <thead>\n",
       "    <tr style=\"text-align: right;\">\n",
       "      <th></th>\n",
       "      <th>Image Data ID</th>\n",
       "      <th>Subject</th>\n",
       "      <th>Group</th>\n",
       "      <th>Sex</th>\n",
       "      <th>Age</th>\n",
       "      <th>Visit</th>\n",
       "      <th>Modality</th>\n",
       "      <th>Description</th>\n",
       "      <th>Type</th>\n",
       "      <th>Acq Date</th>\n",
       "      <th>Format</th>\n",
       "      <th>Downloaded</th>\n",
       "    </tr>\n",
       "  </thead>\n",
       "  <tbody>\n",
       "    <tr>\n",
       "      <th>0</th>\n",
       "      <td>I119733</td>\n",
       "      <td>136_S_0429</td>\n",
       "      <td>MCI</td>\n",
       "      <td>M</td>\n",
       "      <td>63</td>\n",
       "      <td>bl</td>\n",
       "      <td>MRI</td>\n",
       "      <td>MPR; ; N3; Scaled_2</td>\n",
       "      <td>Processed</td>\n",
       "      <td>6/27/2006</td>\n",
       "      <td>NiFTI</td>\n",
       "      <td>NaN</td>\n",
       "    </tr>\n",
       "    <tr>\n",
       "      <th>1</th>\n",
       "      <td>I88169</td>\n",
       "      <td>136_S_0429</td>\n",
       "      <td>MCI</td>\n",
       "      <td>M</td>\n",
       "      <td>64</td>\n",
       "      <td>m18</td>\n",
       "      <td>MRI</td>\n",
       "      <td>MPR; ; N3; Scaled</td>\n",
       "      <td>Processed</td>\n",
       "      <td>12/17/2007</td>\n",
       "      <td>NiFTI</td>\n",
       "      <td>NaN</td>\n",
       "    </tr>\n",
       "    <tr>\n",
       "      <th>2</th>\n",
       "      <td>I66801</td>\n",
       "      <td>136_S_0429</td>\n",
       "      <td>MCI</td>\n",
       "      <td>M</td>\n",
       "      <td>63</td>\n",
       "      <td>m06</td>\n",
       "      <td>MRI</td>\n",
       "      <td>MPR; ; N3; Scaled</td>\n",
       "      <td>Processed</td>\n",
       "      <td>12/18/2006</td>\n",
       "      <td>NiFTI</td>\n",
       "      <td>NaN</td>\n",
       "    </tr>\n",
       "    <tr>\n",
       "      <th>3</th>\n",
       "      <td>I205562</td>\n",
       "      <td>136_S_0429</td>\n",
       "      <td>MCI</td>\n",
       "      <td>M</td>\n",
       "      <td>66</td>\n",
       "      <td>m36</td>\n",
       "      <td>MRI</td>\n",
       "      <td>MPR; ; N3; Scaled</td>\n",
       "      <td>Processed</td>\n",
       "      <td>7/13/2009</td>\n",
       "      <td>NiFTI</td>\n",
       "      <td>NaN</td>\n",
       "    </tr>\n",
       "    <tr>\n",
       "      <th>4</th>\n",
       "      <td>I83549</td>\n",
       "      <td>136_S_0429</td>\n",
       "      <td>MCI</td>\n",
       "      <td>M</td>\n",
       "      <td>64</td>\n",
       "      <td>m12</td>\n",
       "      <td>MRI</td>\n",
       "      <td>MPR; ; N3; Scaled</td>\n",
       "      <td>Processed</td>\n",
       "      <td>6/18/2007</td>\n",
       "      <td>NiFTI</td>\n",
       "      <td>NaN</td>\n",
       "    </tr>\n",
       "  </tbody>\n",
       "</table>\n",
       "</div>"
      ],
      "text/plain": [
       "  Image Data ID     Subject Group Sex  Age Visit Modality  \\\n",
       "0       I119733  136_S_0429   MCI   M   63    bl      MRI   \n",
       "1        I88169  136_S_0429   MCI   M   64   m18      MRI   \n",
       "2        I66801  136_S_0429   MCI   M   63   m06      MRI   \n",
       "3       I205562  136_S_0429   MCI   M   66   m36      MRI   \n",
       "4        I83549  136_S_0429   MCI   M   64   m12      MRI   \n",
       "\n",
       "           Description       Type    Acq Date Format  Downloaded  \n",
       "0  MPR; ; N3; Scaled_2  Processed   6/27/2006  NiFTI         NaN  \n",
       "1    MPR; ; N3; Scaled  Processed  12/17/2007  NiFTI         NaN  \n",
       "2    MPR; ; N3; Scaled  Processed  12/18/2006  NiFTI         NaN  \n",
       "3    MPR; ; N3; Scaled  Processed   7/13/2009  NiFTI         NaN  \n",
       "4    MPR; ; N3; Scaled  Processed   6/18/2007  NiFTI         NaN  "
      ]
     },
     "execution_count": 2,
     "metadata": {},
     "output_type": "execute_result"
    }
   ],
   "source": [
    "df3t.head()"
   ]
  },
  {
   "cell_type": "code",
   "execution_count": 3,
   "metadata": {
    "execution": {
     "iopub.execute_input": "2024-05-06T05:52:27.671831Z",
     "iopub.status.busy": "2024-05-06T05:52:27.659899Z",
     "iopub.status.idle": "2024-05-06T05:52:27.684871Z",
     "shell.execute_reply": "2024-05-06T05:52:27.685870Z"
    }
   },
   "outputs": [
    {
     "data": {
      "text/html": [
       "<div>\n",
       "<style scoped>\n",
       "    .dataframe tbody tr th:only-of-type {\n",
       "        vertical-align: middle;\n",
       "    }\n",
       "\n",
       "    .dataframe tbody tr th {\n",
       "        vertical-align: top;\n",
       "    }\n",
       "\n",
       "    .dataframe thead th {\n",
       "        text-align: right;\n",
       "    }\n",
       "</style>\n",
       "<table border=\"1\" class=\"dataframe\">\n",
       "  <thead>\n",
       "    <tr style=\"text-align: right;\">\n",
       "      <th></th>\n",
       "      <th>Image Data ID</th>\n",
       "      <th>Subject</th>\n",
       "      <th>Group</th>\n",
       "      <th>Sex</th>\n",
       "      <th>Age</th>\n",
       "      <th>Visit</th>\n",
       "      <th>Modality</th>\n",
       "      <th>Description</th>\n",
       "      <th>Type</th>\n",
       "      <th>Acq Date</th>\n",
       "      <th>Format</th>\n",
       "      <th>Downloaded</th>\n",
       "    </tr>\n",
       "  </thead>\n",
       "  <tbody>\n",
       "    <tr>\n",
       "      <th>0</th>\n",
       "      <td>I204843</td>\n",
       "      <td>941_S_1202</td>\n",
       "      <td>CN</td>\n",
       "      <td>M</td>\n",
       "      <td>81</td>\n",
       "      <td>m36</td>\n",
       "      <td>MRI</td>\n",
       "      <td>MPR; GradWarp; B1 Correction; N3; Scaled</td>\n",
       "      <td>Processed</td>\n",
       "      <td>3/14/2010</td>\n",
       "      <td>NiFTI</td>\n",
       "      <td>NaN</td>\n",
       "    </tr>\n",
       "    <tr>\n",
       "      <th>1</th>\n",
       "      <td>I137298</td>\n",
       "      <td>941_S_1202</td>\n",
       "      <td>CN</td>\n",
       "      <td>M</td>\n",
       "      <td>80</td>\n",
       "      <td>m24</td>\n",
       "      <td>MRI</td>\n",
       "      <td>MPR; GradWarp; B1 Correction; N3; Scaled</td>\n",
       "      <td>Processed</td>\n",
       "      <td>2/17/2009</td>\n",
       "      <td>NiFTI</td>\n",
       "      <td>NaN</td>\n",
       "    </tr>\n",
       "    <tr>\n",
       "      <th>2</th>\n",
       "      <td>I75150</td>\n",
       "      <td>941_S_1202</td>\n",
       "      <td>CN</td>\n",
       "      <td>M</td>\n",
       "      <td>78</td>\n",
       "      <td>m06</td>\n",
       "      <td>MRI</td>\n",
       "      <td>MPR; GradWarp; B1 Correction; N3; Scaled</td>\n",
       "      <td>Processed</td>\n",
       "      <td>8/24/2007</td>\n",
       "      <td>NiFTI</td>\n",
       "      <td>NaN</td>\n",
       "    </tr>\n",
       "    <tr>\n",
       "      <th>3</th>\n",
       "      <td>I105437</td>\n",
       "      <td>941_S_1202</td>\n",
       "      <td>CN</td>\n",
       "      <td>M</td>\n",
       "      <td>79</td>\n",
       "      <td>m12</td>\n",
       "      <td>MRI</td>\n",
       "      <td>MPR; GradWarp; B1 Correction; N3; Scaled</td>\n",
       "      <td>Processed</td>\n",
       "      <td>2/28/2008</td>\n",
       "      <td>NiFTI</td>\n",
       "      <td>NaN</td>\n",
       "    </tr>\n",
       "    <tr>\n",
       "      <th>4</th>\n",
       "      <td>I75141</td>\n",
       "      <td>941_S_1194</td>\n",
       "      <td>CN</td>\n",
       "      <td>M</td>\n",
       "      <td>85</td>\n",
       "      <td>m06</td>\n",
       "      <td>MRI</td>\n",
       "      <td>MPR; GradWarp; B1 Correction; N3; Scaled</td>\n",
       "      <td>Processed</td>\n",
       "      <td>8/22/2007</td>\n",
       "      <td>NiFTI</td>\n",
       "      <td>NaN</td>\n",
       "    </tr>\n",
       "  </tbody>\n",
       "</table>\n",
       "</div>"
      ],
      "text/plain": [
       "  Image Data ID     Subject Group Sex  Age Visit Modality  \\\n",
       "0       I204843  941_S_1202    CN   M   81   m36      MRI   \n",
       "1       I137298  941_S_1202    CN   M   80   m24      MRI   \n",
       "2        I75150  941_S_1202    CN   M   78   m06      MRI   \n",
       "3       I105437  941_S_1202    CN   M   79   m12      MRI   \n",
       "4        I75141  941_S_1194    CN   M   85   m06      MRI   \n",
       "\n",
       "                                Description       Type   Acq Date Format  \\\n",
       "0  MPR; GradWarp; B1 Correction; N3; Scaled  Processed  3/14/2010  NiFTI   \n",
       "1  MPR; GradWarp; B1 Correction; N3; Scaled  Processed  2/17/2009  NiFTI   \n",
       "2  MPR; GradWarp; B1 Correction; N3; Scaled  Processed  8/24/2007  NiFTI   \n",
       "3  MPR; GradWarp; B1 Correction; N3; Scaled  Processed  2/28/2008  NiFTI   \n",
       "4  MPR; GradWarp; B1 Correction; N3; Scaled  Processed  8/22/2007  NiFTI   \n",
       "\n",
       "   Downloaded  \n",
       "0         NaN  \n",
       "1         NaN  \n",
       "2         NaN  \n",
       "3         NaN  \n",
       "4         NaN  "
      ]
     },
     "execution_count": 3,
     "metadata": {},
     "output_type": "execute_result"
    }
   ],
   "source": [
    "df15t.head()"
   ]
  },
  {
   "cell_type": "markdown",
   "metadata": {},
   "source": [
    "### Keep only the corresponding 1.5T data we have"
   ]
  },
  {
   "cell_type": "code",
   "execution_count": 4,
   "metadata": {
    "execution": {
     "iopub.execute_input": "2024-05-06T05:52:27.705783Z",
     "iopub.status.busy": "2024-05-06T05:52:27.700718Z",
     "iopub.status.idle": "2024-05-06T05:52:27.885390Z",
     "shell.execute_reply": "2024-05-06T05:52:27.886497Z"
    }
   },
   "outputs": [
    {
     "name": "stdout",
     "output_type": "stream",
     "text": [
      "Before filtering\n",
      "Number of 1.5T images: 1693\n",
      "Number of 1.5T subjects: 382\n"
     ]
    },
    {
     "name": "stdout",
     "output_type": "stream",
     "text": [
      "\n",
      "After filtering\n",
      "Number of 1.5T images: 339\n",
      "Number of 1.5T subjects: 226\n"
     ]
    }
   ],
   "source": [
    "import os\n",
    "from pathlib import Path\n",
    "\n",
    "print('Before filtering')\n",
    "print('Number of 1.5T images:', df15t['Image Data ID'].nunique())\n",
    "print('Number of 1.5T subjects:', df15t.Subject.nunique())\n",
    "\n",
    "raw_data_dir = r'/home/nacer/ADNI_data/ADNI1_Complete_3Yr/raw_data'\n",
    "existing_image_ids = []\n",
    "for folder, dirs, filenames in os.walk(Path(raw_data_dir)):\n",
    "    dirname = Path(folder).name\n",
    "    if dirname.startswith('I'):\n",
    "        existing_image_ids.append(dirname)\n",
    "\n",
    "df15t = df15t[df15t['Image Data ID'].isin(existing_image_ids)]\n",
    "\n",
    "print('\\nAfter filtering')\n",
    "print('Number of 1.5T images:', df15t['Image Data ID'].nunique())\n",
    "print('Number of 1.5T subjects:', df15t.Subject.nunique())"
   ]
  },
  {
   "cell_type": "markdown",
   "metadata": {},
   "source": [
    "### Drop unneccessary columns"
   ]
  },
  {
   "cell_type": "code",
   "execution_count": 5,
   "metadata": {
    "execution": {
     "iopub.execute_input": "2024-05-06T05:52:27.902166Z",
     "iopub.status.busy": "2024-05-06T05:52:27.900701Z",
     "iopub.status.idle": "2024-05-06T05:52:27.908799Z",
     "shell.execute_reply": "2024-05-06T05:52:27.909885Z"
    }
   },
   "outputs": [
    {
     "name": "stdout",
     "output_type": "stream",
     "text": [
      "Shape of 3T data (347, 8)\n",
      "Shape of 1.5T data (339, 8)\n"
     ]
    }
   ],
   "source": [
    "cols_to_drop = ['Modality', 'Downloaded', 'Type', 'Format']#, 'Sex', 'Age']\n",
    "df3t.drop(columns=cols_to_drop, inplace=True)\n",
    "df15t.drop(columns=cols_to_drop, inplace=True)\n",
    "\n",
    "print(\"Shape of 3T data\", df3t.shape)\n",
    "print(\"Shape of 1.5T data\", df15t.shape)"
   ]
  },
  {
   "cell_type": "markdown",
   "metadata": {},
   "source": [
    "### Concatenate the dataframes"
   ]
  },
  {
   "cell_type": "code",
   "execution_count": 6,
   "metadata": {
    "execution": {
     "iopub.execute_input": "2024-05-06T05:52:27.928665Z",
     "iopub.status.busy": "2024-05-06T05:52:27.926949Z",
     "iopub.status.idle": "2024-05-06T05:52:27.950977Z",
     "shell.execute_reply": "2024-05-06T05:52:27.952030Z"
    }
   },
   "outputs": [
    {
     "name": "stdout",
     "output_type": "stream",
     "text": [
      "Number of images: 686\n",
      "Number of subjects: 256\n",
      "Shape:  (686, 9)\n"
     ]
    }
   ],
   "source": [
    "df15t['T'] = '1.5T'\n",
    "df3t['T'] = '3T'\n",
    "df = pd.concat([df15t, df3t]).sort_values(['Subject', 'Acq Date'])\n",
    "df['Acq Date'] = pd.to_datetime(df['Acq Date'])\n",
    "\n",
    "print('Number of images:', df['Image Data ID'].nunique())\n",
    "print('Number of subjects:', df.Subject.nunique())\n",
    "print('Shape: ', df.shape)"
   ]
  },
  {
   "cell_type": "markdown",
   "metadata": {},
   "source": [
    "### The checks"
   ]
  },
  {
   "cell_type": "markdown",
   "metadata": {},
   "source": [
    "#### Check duplicate images"
   ]
  },
  {
   "cell_type": "markdown",
   "metadata": {},
   "source": [
    "Check if the scans that have the same date also have the same image id and compare the descriptions"
   ]
  },
  {
   "cell_type": "code",
   "execution_count": 7,
   "metadata": {
    "execution": {
     "iopub.execute_input": "2024-05-06T05:52:27.973258Z",
     "iopub.status.busy": "2024-05-06T05:52:27.969487Z",
     "iopub.status.idle": "2024-05-06T05:52:27.983703Z",
     "shell.execute_reply": "2024-05-06T05:52:27.982268Z"
    }
   },
   "outputs": [
    {
     "data": {
      "text/html": [
       "<div>\n",
       "<style scoped>\n",
       "    .dataframe tbody tr th:only-of-type {\n",
       "        vertical-align: middle;\n",
       "    }\n",
       "\n",
       "    .dataframe tbody tr th {\n",
       "        vertical-align: top;\n",
       "    }\n",
       "\n",
       "    .dataframe thead th {\n",
       "        text-align: right;\n",
       "    }\n",
       "</style>\n",
       "<table border=\"1\" class=\"dataframe\">\n",
       "  <thead>\n",
       "    <tr style=\"text-align: right;\">\n",
       "      <th></th>\n",
       "      <th>Image Data ID</th>\n",
       "      <th>Subject</th>\n",
       "      <th>Group</th>\n",
       "      <th>Sex</th>\n",
       "      <th>Age</th>\n",
       "      <th>Visit</th>\n",
       "      <th>Description</th>\n",
       "      <th>Acq Date</th>\n",
       "      <th>T</th>\n",
       "    </tr>\n",
       "  </thead>\n",
       "  <tbody>\n",
       "  </tbody>\n",
       "</table>\n",
       "</div>"
      ],
      "text/plain": [
       "Empty DataFrame\n",
       "Columns: [Image Data ID, Subject, Group, Sex, Age, Visit, Description, Acq Date, T]\n",
       "Index: []"
      ]
     },
     "execution_count": 7,
     "metadata": {},
     "output_type": "execute_result"
    }
   ],
   "source": [
    "df[df.duplicated('Image Data ID')]"
   ]
  },
  {
   "cell_type": "markdown",
   "metadata": {},
   "source": [
    "Every image has a unique ID. So we should inspect the descriptions"
   ]
  },
  {
   "cell_type": "code",
   "execution_count": 8,
   "metadata": {
    "execution": {
     "iopub.execute_input": "2024-05-06T05:52:27.996504Z",
     "iopub.status.busy": "2024-05-06T05:52:27.995082Z",
     "iopub.status.idle": "2024-05-06T05:52:30.244261Z",
     "shell.execute_reply": "2024-05-06T05:52:30.242338Z"
    }
   },
   "outputs": [
    {
     "data": {
      "image/png": "[encoded data removed]",
      "text/plain": [
       "<Figure size 640x480 with 1 Axes>"
      ]
     },
     "metadata": {},
     "output_type": "display_data"
    }
   ],
   "source": [
    "import matplotlib.pyplot as plt\n",
    "\n",
    "df.Description.value_counts().plot(kind='bar')\n",
    "plt.xlabel('Image Description')\n",
    "plt.title('Image Description Distribution Before Filtering')\n",
    "plt.show()"
   ]
  },
  {
   "cell_type": "markdown",
   "metadata": {},
   "source": [
    "- There are some duplicated descriptions (ending with **_2**) as well as **non MPR** descriptions\n",
    "- These need to be dropped so that we have a minimum level of consistency among the descriptions"
   ]
  },
  {
   "cell_type": "code",
   "execution_count": 9,
   "metadata": {
    "execution": {
     "iopub.execute_input": "2024-05-06T05:52:30.272576Z",
     "iopub.status.busy": "2024-05-06T05:52:30.269161Z",
     "iopub.status.idle": "2024-05-06T05:52:30.283514Z",
     "shell.execute_reply": "2024-05-06T05:52:30.285411Z"
    }
   },
   "outputs": [
    {
     "name": "stdout",
     "output_type": "stream",
     "text": [
      "Number of images dropped:  78\n"
     ]
    }
   ],
   "source": [
    "# Drop the images with descriptions ending with '2' as well as non 'MPR' or 'MPR-R' ones\n",
    "descripions_to_drop_mask = df['Description'].str.endswith('2') | (~df['Description'].str.startswith('MPR'))\n",
    "# descripions_to_drop_mask = (~df['Description'].str.startswith('MPR'))\n",
    "print('Number of images dropped: ', descripions_to_drop_mask.sum())\n",
    "df = df[~descripions_to_drop_mask]"
   ]
  },
  {
   "cell_type": "code",
   "execution_count": 10,
   "metadata": {
    "execution": {
     "iopub.execute_input": "2024-05-06T05:52:30.348843Z",
     "iopub.status.busy": "2024-05-06T05:52:30.308374Z",
     "iopub.status.idle": "2024-05-06T05:52:30.981069Z",
     "shell.execute_reply": "2024-05-06T05:52:30.982042Z"
    }
   },
   "outputs": [
    {
     "data": {
      "image/png": "[encoded data removed]",
      "text/plain": [
       "<Figure size 640x480 with 1 Axes>"
      ]
     },
     "metadata": {},
     "output_type": "display_data"
    }
   ],
   "source": [
    "df.Description.value_counts().plot(kind='bar')\n",
    "plt.xlabel('Image Description')\n",
    "plt.title('Image Description Distribution After Filtering')\n",
    "plt.show()"
   ]
  },
  {
   "cell_type": "code",
   "execution_count": 11,
   "metadata": {
    "execution": {
     "iopub.execute_input": "2024-05-06T05:52:30.990994Z",
     "iopub.status.busy": "2024-05-06T05:52:30.989948Z",
     "iopub.status.idle": "2024-05-06T05:52:30.997972Z",
     "shell.execute_reply": "2024-05-06T05:52:30.996944Z"
    }
   },
   "outputs": [
    {
     "name": "stdout",
     "output_type": "stream",
     "text": [
      "Shape: (608, 9)\n",
      "Number of images: 608\n",
      "Number of subjects: 243\n"
     ]
    }
   ],
   "source": [
    "print('Shape:', df.shape)\n",
    "print('Number of images:', df['Image Data ID'].nunique())\n",
    "print('Number of subjects:', df.Subject.nunique())"
   ]
  },
  {
   "cell_type": "markdown",
   "metadata": {},
   "source": [
    "#### Check the image counts"
   ]
  },
  {
   "cell_type": "code",
   "execution_count": 12,
   "metadata": {
    "execution": {
     "iopub.execute_input": "2024-05-06T05:52:31.009801Z",
     "iopub.status.busy": "2024-05-06T05:52:31.003055Z",
     "iopub.status.idle": "2024-05-06T05:52:31.046963Z",
     "shell.execute_reply": "2024-05-06T05:52:31.048200Z"
    }
   },
   "outputs": [
    {
     "data": {
      "text/html": [
       "<div>\n",
       "<style scoped>\n",
       "    .dataframe tbody tr th:only-of-type {\n",
       "        vertical-align: middle;\n",
       "    }\n",
       "\n",
       "    .dataframe tbody tr th {\n",
       "        vertical-align: top;\n",
       "    }\n",
       "\n",
       "    .dataframe thead th {\n",
       "        text-align: right;\n",
       "    }\n",
       "</style>\n",
       "<table border=\"1\" class=\"dataframe\">\n",
       "  <thead>\n",
       "    <tr style=\"text-align: right;\">\n",
       "      <th>T</th>\n",
       "      <th>1.5T</th>\n",
       "      <th>3T</th>\n",
       "    </tr>\n",
       "  </thead>\n",
       "  <tbody>\n",
       "    <tr>\n",
       "      <th>count</th>\n",
       "      <td>212.0</td>\n",
       "      <td>60.0</td>\n",
       "    </tr>\n",
       "    <tr>\n",
       "      <th>mean</th>\n",
       "      <td>1.476415</td>\n",
       "      <td>4.916667</td>\n",
       "    </tr>\n",
       "    <tr>\n",
       "      <th>std</th>\n",
       "      <td>0.67058</td>\n",
       "      <td>0.907439</td>\n",
       "    </tr>\n",
       "    <tr>\n",
       "      <th>min</th>\n",
       "      <td>1.0</td>\n",
       "      <td>3.0</td>\n",
       "    </tr>\n",
       "    <tr>\n",
       "      <th>25%</th>\n",
       "      <td>1.0</td>\n",
       "      <td>4.0</td>\n",
       "    </tr>\n",
       "    <tr>\n",
       "      <th>50%</th>\n",
       "      <td>1.0</td>\n",
       "      <td>5.0</td>\n",
       "    </tr>\n",
       "    <tr>\n",
       "      <th>75%</th>\n",
       "      <td>2.0</td>\n",
       "      <td>6.0</td>\n",
       "    </tr>\n",
       "    <tr>\n",
       "      <th>max</th>\n",
       "      <td>4.0</td>\n",
       "      <td>6.0</td>\n",
       "    </tr>\n",
       "  </tbody>\n",
       "</table>\n",
       "</div>"
      ],
      "text/plain": [
       "T          1.5T        3T\n",
       "count     212.0      60.0\n",
       "mean   1.476415  4.916667\n",
       "std     0.67058  0.907439\n",
       "min         1.0       3.0\n",
       "25%         1.0       4.0\n",
       "50%         1.0       5.0\n",
       "75%         2.0       6.0\n",
       "max         4.0       6.0"
      ]
     },
     "execution_count": 12,
     "metadata": {},
     "output_type": "execute_result"
    }
   ],
   "source": [
    "# Number of images per subject by magnetic field strength (T)\n",
    "image_counts_per_subject_by_T = df.pivot_table(values='Image Data ID', index='Subject', aggfunc='count', columns='T')\n",
    "image_counts_per_subject_by_T.describe().convert_dtypes()"
   ]
  },
  {
   "cell_type": "code",
   "execution_count": 13,
   "metadata": {
    "execution": {
     "iopub.execute_input": "2024-05-06T05:52:31.061469Z",
     "iopub.status.busy": "2024-05-06T05:52:31.060163Z",
     "iopub.status.idle": "2024-05-06T05:52:31.116635Z",
     "shell.execute_reply": "2024-05-06T05:52:31.115445Z"
    }
   },
   "outputs": [
    {
     "data": {
      "text/html": [
       "<div>\n",
       "<style scoped>\n",
       "    .dataframe tbody tr th:only-of-type {\n",
       "        vertical-align: middle;\n",
       "    }\n",
       "\n",
       "    .dataframe tbody tr th {\n",
       "        vertical-align: top;\n",
       "    }\n",
       "\n",
       "    .dataframe thead th {\n",
       "        text-align: right;\n",
       "    }\n",
       "</style>\n",
       "<table border=\"1\" class=\"dataframe\">\n",
       "  <thead>\n",
       "    <tr style=\"text-align: right;\">\n",
       "      <th>Visit</th>\n",
       "      <th>bl</th>\n",
       "      <th>m06</th>\n",
       "      <th>m12</th>\n",
       "      <th>m18</th>\n",
       "      <th>m24</th>\n",
       "      <th>m36</th>\n",
       "    </tr>\n",
       "  </thead>\n",
       "  <tbody>\n",
       "    <tr>\n",
       "      <th>count</th>\n",
       "      <td>243.0</td>\n",
       "      <td>243.0</td>\n",
       "      <td>243.0</td>\n",
       "      <td>243.0</td>\n",
       "      <td>243.0</td>\n",
       "      <td>243.0</td>\n",
       "    </tr>\n",
       "    <tr>\n",
       "      <th>mean</th>\n",
       "      <td>0.238683</td>\n",
       "      <td>0.580247</td>\n",
       "      <td>0.530864</td>\n",
       "      <td>0.213992</td>\n",
       "      <td>0.559671</td>\n",
       "      <td>0.378601</td>\n",
       "    </tr>\n",
       "    <tr>\n",
       "      <th>std</th>\n",
       "      <td>0.427158</td>\n",
       "      <td>0.579203</td>\n",
       "      <td>0.547415</td>\n",
       "      <td>0.458494</td>\n",
       "      <td>0.574545</td>\n",
       "      <td>0.526837</td>\n",
       "    </tr>\n",
       "    <tr>\n",
       "      <th>min</th>\n",
       "      <td>0.0</td>\n",
       "      <td>0.0</td>\n",
       "      <td>0.0</td>\n",
       "      <td>0.0</td>\n",
       "      <td>0.0</td>\n",
       "      <td>0.0</td>\n",
       "    </tr>\n",
       "    <tr>\n",
       "      <th>25%</th>\n",
       "      <td>0.0</td>\n",
       "      <td>0.0</td>\n",
       "      <td>0.0</td>\n",
       "      <td>0.0</td>\n",
       "      <td>0.0</td>\n",
       "      <td>0.0</td>\n",
       "    </tr>\n",
       "    <tr>\n",
       "      <th>50%</th>\n",
       "      <td>0.0</td>\n",
       "      <td>1.0</td>\n",
       "      <td>1.0</td>\n",
       "      <td>0.0</td>\n",
       "      <td>1.0</td>\n",
       "      <td>0.0</td>\n",
       "    </tr>\n",
       "    <tr>\n",
       "      <th>75%</th>\n",
       "      <td>0.0</td>\n",
       "      <td>1.0</td>\n",
       "      <td>1.0</td>\n",
       "      <td>0.0</td>\n",
       "      <td>1.0</td>\n",
       "      <td>1.0</td>\n",
       "    </tr>\n",
       "    <tr>\n",
       "      <th>max</th>\n",
       "      <td>1.0</td>\n",
       "      <td>2.0</td>\n",
       "      <td>2.0</td>\n",
       "      <td>2.0</td>\n",
       "      <td>2.0</td>\n",
       "      <td>2.0</td>\n",
       "    </tr>\n",
       "  </tbody>\n",
       "</table>\n",
       "</div>"
      ],
      "text/plain": [
       "Visit        bl       m06       m12       m18       m24       m36\n",
       "count     243.0     243.0     243.0     243.0     243.0     243.0\n",
       "mean   0.238683  0.580247  0.530864  0.213992  0.559671  0.378601\n",
       "std    0.427158  0.579203  0.547415  0.458494  0.574545  0.526837\n",
       "min         0.0       0.0       0.0       0.0       0.0       0.0\n",
       "25%         0.0       0.0       0.0       0.0       0.0       0.0\n",
       "50%         0.0       1.0       1.0       0.0       1.0       0.0\n",
       "75%         0.0       1.0       1.0       0.0       1.0       1.0\n",
       "max         1.0       2.0       2.0       2.0       2.0       2.0"
      ]
     },
     "execution_count": 13,
     "metadata": {},
     "output_type": "execute_result"
    }
   ],
   "source": [
    "# Number of images per subject by visit\n",
    "image_counts_per_subject_by_visit = df.pivot_table(\n",
    "    index='Subject',\n",
    "    columns='Visit',\n",
    "    values='Image Data ID',\n",
    "    aggfunc='count',\n",
    "    fill_value=0\n",
    ")\n",
    "image_counts_per_subject_by_visit.describe().convert_dtypes()"
   ]
  },
  {
   "cell_type": "code",
   "execution_count": 14,
   "metadata": {
    "execution": {
     "iopub.execute_input": "2024-05-06T05:52:31.132558Z",
     "iopub.status.busy": "2024-05-06T05:52:31.129365Z",
     "iopub.status.idle": "2024-05-06T05:52:31.140244Z",
     "shell.execute_reply": "2024-05-06T05:52:31.139075Z"
    }
   },
   "outputs": [
    {
     "name": "stdout",
     "output_type": "stream",
     "text": [
      "There are 37 total duplicate combinations of subjects and visits\n",
      "There are 26 total duplicate combinations of subjects and dates\n"
     ]
    }
   ],
   "source": [
    "num_duplicated_visits = df.duplicated(['Subject', 'Visit']).sum()\n",
    "print(f'There are {num_duplicated_visits} total duplicate combinations of subjects and visits')\n",
    "num_duplicated_visits = df.duplicated(['Subject', 'Acq Date']).sum()\n",
    "print(f'There are {num_duplicated_visits} total duplicate combinations of subjects and dates')"
   ]
  },
  {
   "cell_type": "markdown",
   "metadata": {},
   "source": [
    "- Some subjects have duplicated visits with the images having same or different dates in those visits\n",
    "- Only same-day images are going to be considered as duplicated\n",
    "- One way to address this is by keeping only the image that went through more standardization steps (longer description)"
   ]
  },
  {
   "cell_type": "code",
   "execution_count": 15,
   "metadata": {
    "execution": {
     "iopub.execute_input": "2024-05-06T05:52:31.151897Z",
     "iopub.status.busy": "2024-05-06T05:52:31.150254Z",
     "iopub.status.idle": "2024-05-06T05:52:31.195317Z",
     "shell.execute_reply": "2024-05-06T05:52:31.196324Z"
    }
   },
   "outputs": [
    {
     "data": {
      "text/html": [
       "<div>\n",
       "<style scoped>\n",
       "    .dataframe tbody tr th:only-of-type {\n",
       "        vertical-align: middle;\n",
       "    }\n",
       "\n",
       "    .dataframe tbody tr th {\n",
       "        vertical-align: top;\n",
       "    }\n",
       "\n",
       "    .dataframe thead th {\n",
       "        text-align: right;\n",
       "    }\n",
       "</style>\n",
       "<table border=\"1\" class=\"dataframe\">\n",
       "  <thead>\n",
       "    <tr style=\"text-align: right;\">\n",
       "      <th></th>\n",
       "      <th></th>\n",
       "      <th></th>\n",
       "      <th></th>\n",
       "      <th>Image Data ID</th>\n",
       "      <th>Sex</th>\n",
       "      <th>Age</th>\n",
       "      <th>Description</th>\n",
       "      <th>T</th>\n",
       "    </tr>\n",
       "    <tr>\n",
       "      <th>Subject</th>\n",
       "      <th>Visit</th>\n",
       "      <th>Acq Date</th>\n",
       "      <th>Group</th>\n",
       "      <th></th>\n",
       "      <th></th>\n",
       "      <th></th>\n",
       "      <th></th>\n",
       "      <th></th>\n",
       "    </tr>\n",
       "  </thead>\n",
       "  <tbody>\n",
       "    <tr>\n",
       "      <th rowspan=\"2\" valign=\"top\">002_S_0413</th>\n",
       "      <th rowspan=\"2\" valign=\"top\">m24</th>\n",
       "      <th rowspan=\"2\" valign=\"top\">2008-07-31</th>\n",
       "      <th>CN</th>\n",
       "      <td>I120746</td>\n",
       "      <td>F</td>\n",
       "      <td>79</td>\n",
       "      <td>MPR; ; N3; Scaled</td>\n",
       "      <td>3T</td>\n",
       "    </tr>\n",
       "    <tr>\n",
       "      <th>CN</th>\n",
       "      <td>I120917</td>\n",
       "      <td>F</td>\n",
       "      <td>79</td>\n",
       "      <td>MPR; GradWarp; B1 Correction; N3; Scaled</td>\n",
       "      <td>1.5T</td>\n",
       "    </tr>\n",
       "    <tr>\n",
       "      <th rowspan=\"2\" valign=\"top\">005_S_0324</th>\n",
       "      <th rowspan=\"2\" valign=\"top\">m36</th>\n",
       "      <th rowspan=\"2\" valign=\"top\">2009-06-01</th>\n",
       "      <th>MCI</th>\n",
       "      <td>I150214</td>\n",
       "      <td>F</td>\n",
       "      <td>79</td>\n",
       "      <td>MPR-R; GradWarp; B1 Correction; N3; Scaled</td>\n",
       "      <td>1.5T</td>\n",
       "    </tr>\n",
       "    <tr>\n",
       "      <th>MCI</th>\n",
       "      <td>I150219</td>\n",
       "      <td>F</td>\n",
       "      <td>79</td>\n",
       "      <td>MPR; GradWarp; B1 Correction; N3; Scaled</td>\n",
       "      <td>3T</td>\n",
       "    </tr>\n",
       "    <tr>\n",
       "      <th rowspan=\"2\" valign=\"top\">005_S_0553</th>\n",
       "      <th rowspan=\"2\" valign=\"top\">m36</th>\n",
       "      <th rowspan=\"2\" valign=\"top\">2009-09-15</th>\n",
       "      <th>CN</th>\n",
       "      <td>I162016</td>\n",
       "      <td>M</td>\n",
       "      <td>88</td>\n",
       "      <td>MPR-R; GradWarp; B1 Correction; N3; Scaled</td>\n",
       "      <td>3T</td>\n",
       "    </tr>\n",
       "    <tr>\n",
       "      <th>CN</th>\n",
       "      <td>I161997</td>\n",
       "      <td>M</td>\n",
       "      <td>88</td>\n",
       "      <td>MPR; GradWarp; B1 Correction; N3; Scaled</td>\n",
       "      <td>1.5T</td>\n",
       "    </tr>\n",
       "    <tr>\n",
       "      <th rowspan=\"2\" valign=\"top\">023_S_0058</th>\n",
       "      <th rowspan=\"2\" valign=\"top\">m36</th>\n",
       "      <th rowspan=\"2\" valign=\"top\">2008-12-09</th>\n",
       "      <th>CN</th>\n",
       "      <td>I132341</td>\n",
       "      <td>M</td>\n",
       "      <td>73</td>\n",
       "      <td>MPR; GradWarp; B1 Correction; N3; Scaled</td>\n",
       "      <td>1.5T</td>\n",
       "    </tr>\n",
       "    <tr>\n",
       "      <th>CN</th>\n",
       "      <td>I132350</td>\n",
       "      <td>M</td>\n",
       "      <td>73</td>\n",
       "      <td>MPR; GradWarp; B1 Correction; N3; Scaled</td>\n",
       "      <td>3T</td>\n",
       "    </tr>\n",
       "    <tr>\n",
       "      <th rowspan=\"2\" valign=\"top\">023_S_0061</th>\n",
       "      <th rowspan=\"2\" valign=\"top\">m24</th>\n",
       "      <th rowspan=\"2\" valign=\"top\">2007-12-13</th>\n",
       "      <th>CN</th>\n",
       "      <td>I87055</td>\n",
       "      <td>F</td>\n",
       "      <td>79</td>\n",
       "      <td>MPR; GradWarp; B1 Correction; N3; Scaled</td>\n",
       "      <td>1.5T</td>\n",
       "    </tr>\n",
       "    <tr>\n",
       "      <th>CN</th>\n",
       "      <td>I87064</td>\n",
       "      <td>F</td>\n",
       "      <td>79</td>\n",
       "      <td>MPR; GradWarp; B1 Correction; N3; Scaled</td>\n",
       "      <td>3T</td>\n",
       "    </tr>\n",
       "    <tr>\n",
       "      <th rowspan=\"2\" valign=\"top\">023_S_0331</th>\n",
       "      <th rowspan=\"2\" valign=\"top\">m18</th>\n",
       "      <th rowspan=\"2\" valign=\"top\">2007-10-09</th>\n",
       "      <th>MCI</th>\n",
       "      <td>I79550</td>\n",
       "      <td>F</td>\n",
       "      <td>66</td>\n",
       "      <td>MPR; GradWarp; B1 Correction; N3; Scaled</td>\n",
       "      <td>1.5T</td>\n",
       "    </tr>\n",
       "    <tr>\n",
       "      <th>MCI</th>\n",
       "      <td>I89738</td>\n",
       "      <td>F</td>\n",
       "      <td>66</td>\n",
       "      <td>MPR; GradWarp; B1 Correction; N3; Scaled</td>\n",
       "      <td>3T</td>\n",
       "    </tr>\n",
       "    <tr>\n",
       "      <th rowspan=\"2\" valign=\"top\">023_S_0388</th>\n",
       "      <th rowspan=\"2\" valign=\"top\">m18</th>\n",
       "      <th rowspan=\"2\" valign=\"top\">2007-10-30</th>\n",
       "      <th>MCI</th>\n",
       "      <td>I81910</td>\n",
       "      <td>M</td>\n",
       "      <td>73</td>\n",
       "      <td>MPR; GradWarp; B1 Correction; N3; Scaled</td>\n",
       "      <td>1.5T</td>\n",
       "    </tr>\n",
       "    <tr>\n",
       "      <th>MCI</th>\n",
       "      <td>I81919</td>\n",
       "      <td>M</td>\n",
       "      <td>73</td>\n",
       "      <td>MPR; GradWarp; B1 Correction; N3; Scaled</td>\n",
       "      <td>3T</td>\n",
       "    </tr>\n",
       "    <tr>\n",
       "      <th rowspan=\"2\" valign=\"top\">023_S_0604</th>\n",
       "      <th rowspan=\"2\" valign=\"top\">m24</th>\n",
       "      <th rowspan=\"2\" valign=\"top\">2008-07-30</th>\n",
       "      <th>MCI</th>\n",
       "      <td>I123861</td>\n",
       "      <td>M</td>\n",
       "      <td>89</td>\n",
       "      <td>MPR; GradWarp; B1 Correction; N3; Scaled</td>\n",
       "      <td>1.5T</td>\n",
       "    </tr>\n",
       "    <tr>\n",
       "      <th>MCI</th>\n",
       "      <td>I120798</td>\n",
       "      <td>M</td>\n",
       "      <td>89</td>\n",
       "      <td>MPR; GradWarp; B1 Correction; N3; Scaled</td>\n",
       "      <td>3T</td>\n",
       "    </tr>\n",
       "    <tr>\n",
       "      <th rowspan=\"2\" valign=\"top\">023_S_0625</th>\n",
       "      <th rowspan=\"2\" valign=\"top\">m06</th>\n",
       "      <th rowspan=\"2\" valign=\"top\">2007-02-27</th>\n",
       "      <th>MCI</th>\n",
       "      <td>I101445</td>\n",
       "      <td>M</td>\n",
       "      <td>77</td>\n",
       "      <td>MPR-R; GradWarp; B1 Correction; N3; Scaled</td>\n",
       "      <td>1.5T</td>\n",
       "    </tr>\n",
       "    <tr>\n",
       "      <th>MCI</th>\n",
       "      <td>I52098</td>\n",
       "      <td>M</td>\n",
       "      <td>77</td>\n",
       "      <td>MPR; GradWarp; B1 Correction; N3; Scaled</td>\n",
       "      <td>3T</td>\n",
       "    </tr>\n",
       "    <tr>\n",
       "      <th rowspan=\"2\" valign=\"top\">023_S_0916</th>\n",
       "      <th rowspan=\"2\" valign=\"top\">m24</th>\n",
       "      <th rowspan=\"2\" valign=\"top\">2008-09-30</th>\n",
       "      <th>AD</th>\n",
       "      <td>I124083</td>\n",
       "      <td>M</td>\n",
       "      <td>82</td>\n",
       "      <td>MPR; GradWarp; B1 Correction; N3; Scaled</td>\n",
       "      <td>1.5T</td>\n",
       "    </tr>\n",
       "    <tr>\n",
       "      <th>AD</th>\n",
       "      <td>I124097</td>\n",
       "      <td>M</td>\n",
       "      <td>82</td>\n",
       "      <td>MPR; GradWarp; B1 Correction; N3; Scaled</td>\n",
       "      <td>3T</td>\n",
       "    </tr>\n",
       "    <tr>\n",
       "      <th rowspan=\"2\" valign=\"top\">023_S_1046</th>\n",
       "      <th rowspan=\"2\" valign=\"top\">m18</th>\n",
       "      <th rowspan=\"2\" valign=\"top\">2008-05-30</th>\n",
       "      <th>MCI</th>\n",
       "      <td>I109492</td>\n",
       "      <td>M</td>\n",
       "      <td>73</td>\n",
       "      <td>MPR-R; GradWarp; B1 Correction; N3; Scaled</td>\n",
       "      <td>3T</td>\n",
       "    </tr>\n",
       "    <tr>\n",
       "      <th>MCI</th>\n",
       "      <td>I109497</td>\n",
       "      <td>M</td>\n",
       "      <td>73</td>\n",
       "      <td>MPR; GradWarp; B1 Correction; N3; Scaled</td>\n",
       "      <td>1.5T</td>\n",
       "    </tr>\n",
       "    <tr>\n",
       "      <th rowspan=\"2\" valign=\"top\">023_S_1262</th>\n",
       "      <th rowspan=\"2\" valign=\"top\">m06</th>\n",
       "      <th rowspan=\"2\" valign=\"top\">2007-09-04</th>\n",
       "      <th>AD</th>\n",
       "      <td>I76649</td>\n",
       "      <td>F</td>\n",
       "      <td>73</td>\n",
       "      <td>MPR; GradWarp; B1 Correction; N3; Scaled</td>\n",
       "      <td>1.5T</td>\n",
       "    </tr>\n",
       "    <tr>\n",
       "      <th>AD</th>\n",
       "      <td>I77044</td>\n",
       "      <td>F</td>\n",
       "      <td>73</td>\n",
       "      <td>MPR; GradWarp; B1 Correction; N3; Scaled</td>\n",
       "      <td>3T</td>\n",
       "    </tr>\n",
       "    <tr>\n",
       "      <th rowspan=\"2\" valign=\"top\">027_S_0307</th>\n",
       "      <th rowspan=\"2\" valign=\"top\">m24</th>\n",
       "      <th rowspan=\"2\" valign=\"top\">2008-04-16</th>\n",
       "      <th>MCI</th>\n",
       "      <td>I103672</td>\n",
       "      <td>M</td>\n",
       "      <td>81</td>\n",
       "      <td>MPR; GradWarp; B1 Correction; N3; Scaled</td>\n",
       "      <td>1.5T</td>\n",
       "    </tr>\n",
       "    <tr>\n",
       "      <th>MCI</th>\n",
       "      <td>I103681</td>\n",
       "      <td>M</td>\n",
       "      <td>81</td>\n",
       "      <td>MPR; GradWarp; B1 Correction; N3; Scaled</td>\n",
       "      <td>3T</td>\n",
       "    </tr>\n",
       "    <tr>\n",
       "      <th rowspan=\"4\" valign=\"top\">032_S_1169</th>\n",
       "      <th rowspan=\"2\" valign=\"top\">m06</th>\n",
       "      <th rowspan=\"2\" valign=\"top\">2007-08-24</th>\n",
       "      <th>CN</th>\n",
       "      <td>I75042</td>\n",
       "      <td>F</td>\n",
       "      <td>73</td>\n",
       "      <td>MPR-R; GradWarp; B1 Correction; N3; Scaled</td>\n",
       "      <td>3T</td>\n",
       "    </tr>\n",
       "    <tr>\n",
       "      <th>CN</th>\n",
       "      <td>I78930</td>\n",
       "      <td>F</td>\n",
       "      <td>73</td>\n",
       "      <td>MPR; ; N3; Scaled</td>\n",
       "      <td>1.5T</td>\n",
       "    </tr>\n",
       "    <tr>\n",
       "      <th rowspan=\"2\" valign=\"top\">m12</th>\n",
       "      <th rowspan=\"2\" valign=\"top\">2008-01-17</th>\n",
       "      <th>CN</th>\n",
       "      <td>I96300</td>\n",
       "      <td>F</td>\n",
       "      <td>73</td>\n",
       "      <td>MPR; ; N3; Scaled</td>\n",
       "      <td>1.5T</td>\n",
       "    </tr>\n",
       "    <tr>\n",
       "      <th>CN</th>\n",
       "      <td>I94476</td>\n",
       "      <td>F</td>\n",
       "      <td>73</td>\n",
       "      <td>MPR; GradWarp; B1 Correction; N3; Scaled</td>\n",
       "      <td>3T</td>\n",
       "    </tr>\n",
       "  </tbody>\n",
       "</table>\n",
       "</div>"
      ],
      "text/plain": [
       "                                  Image Data ID Sex  Age  \\\n",
       "Subject    Visit Acq Date   Group                          \n",
       "002_S_0413 m24   2008-07-31 CN          I120746   F   79   \n",
       "                            CN          I120917   F   79   \n",
       "005_S_0324 m36   2009-06-01 MCI         I150214   F   79   \n",
       "                            MCI         I150219   F   79   \n",
       "005_S_0553 m36   2009-09-15 CN          I162016   M   88   \n",
       "                            CN          I161997   M   88   \n",
       "023_S_0058 m36   2008-12-09 CN          I132341   M   73   \n",
       "                            CN          I132350   M   73   \n",
       "023_S_0061 m24   2007-12-13 CN           I87055   F   79   \n",
       "                            CN           I87064   F   79   \n",
       "023_S_0331 m18   2007-10-09 MCI          I79550   F   66   \n",
       "                            MCI          I89738   F   66   \n",
       "023_S_0388 m18   2007-10-30 MCI          I81910   M   73   \n",
       "                            MCI          I81919   M   73   \n",
       "023_S_0604 m24   2008-07-30 MCI         I123861   M   89   \n",
       "                            MCI         I120798   M   89   \n",
       "023_S_0625 m06   2007-02-27 MCI         I101445   M   77   \n",
       "                            MCI          I52098   M   77   \n",
       "023_S_0916 m24   2008-09-30 AD          I124083   M   82   \n",
       "                            AD          I124097   M   82   \n",
       "023_S_1046 m18   2008-05-30 MCI         I109492   M   73   \n",
       "                            MCI         I109497   M   73   \n",
       "023_S_1262 m06   2007-09-04 AD           I76649   F   73   \n",
       "                            AD           I77044   F   73   \n",
       "027_S_0307 m24   2008-04-16 MCI         I103672   M   81   \n",
       "                            MCI         I103681   M   81   \n",
       "032_S_1169 m06   2007-08-24 CN           I75042   F   73   \n",
       "                            CN           I78930   F   73   \n",
       "           m12   2008-01-17 CN           I96300   F   73   \n",
       "                            CN           I94476   F   73   \n",
       "\n",
       "                                                                  Description  \\\n",
       "Subject    Visit Acq Date   Group                                               \n",
       "002_S_0413 m24   2008-07-31 CN                              MPR; ; N3; Scaled   \n",
       "                            CN       MPR; GradWarp; B1 Correction; N3; Scaled   \n",
       "005_S_0324 m36   2009-06-01 MCI    MPR-R; GradWarp; B1 Correction; N3; Scaled   \n",
       "                            MCI      MPR; GradWarp; B1 Correction; N3; Scaled   \n",
       "005_S_0553 m36   2009-09-15 CN     MPR-R; GradWarp; B1 Correction; N3; Scaled   \n",
       "                            CN       MPR; GradWarp; B1 Correction; N3; Scaled   \n",
       "023_S_0058 m36   2008-12-09 CN       MPR; GradWarp; B1 Correction; N3; Scaled   \n",
       "                            CN       MPR; GradWarp; B1 Correction; N3; Scaled   \n",
       "023_S_0061 m24   2007-12-13 CN       MPR; GradWarp; B1 Correction; N3; Scaled   \n",
       "                            CN       MPR; GradWarp; B1 Correction; N3; Scaled   \n",
       "023_S_0331 m18   2007-10-09 MCI      MPR; GradWarp; B1 Correction; N3; Scaled   \n",
       "                            MCI      MPR; GradWarp; B1 Correction; N3; Scaled   \n",
       "023_S_0388 m18   2007-10-30 MCI      MPR; GradWarp; B1 Correction; N3; Scaled   \n",
       "                            MCI      MPR; GradWarp; B1 Correction; N3; Scaled   \n",
       "023_S_0604 m24   2008-07-30 MCI      MPR; GradWarp; B1 Correction; N3; Scaled   \n",
       "                            MCI      MPR; GradWarp; B1 Correction; N3; Scaled   \n",
       "023_S_0625 m06   2007-02-27 MCI    MPR-R; GradWarp; B1 Correction; N3; Scaled   \n",
       "                            MCI      MPR; GradWarp; B1 Correction; N3; Scaled   \n",
       "023_S_0916 m24   2008-09-30 AD       MPR; GradWarp; B1 Correction; N3; Scaled   \n",
       "                            AD       MPR; GradWarp; B1 Correction; N3; Scaled   \n",
       "023_S_1046 m18   2008-05-30 MCI    MPR-R; GradWarp; B1 Correction; N3; Scaled   \n",
       "                            MCI      MPR; GradWarp; B1 Correction; N3; Scaled   \n",
       "023_S_1262 m06   2007-09-04 AD       MPR; GradWarp; B1 Correction; N3; Scaled   \n",
       "                            AD       MPR; GradWarp; B1 Correction; N3; Scaled   \n",
       "027_S_0307 m24   2008-04-16 MCI      MPR; GradWarp; B1 Correction; N3; Scaled   \n",
       "                            MCI      MPR; GradWarp; B1 Correction; N3; Scaled   \n",
       "032_S_1169 m06   2007-08-24 CN     MPR-R; GradWarp; B1 Correction; N3; Scaled   \n",
       "                            CN                              MPR; ; N3; Scaled   \n",
       "           m12   2008-01-17 CN                              MPR; ; N3; Scaled   \n",
       "                            CN       MPR; GradWarp; B1 Correction; N3; Scaled   \n",
       "\n",
       "                                      T  \n",
       "Subject    Visit Acq Date   Group        \n",
       "002_S_0413 m24   2008-07-31 CN       3T  \n",
       "                            CN     1.5T  \n",
       "005_S_0324 m36   2009-06-01 MCI    1.5T  \n",
       "                            MCI      3T  \n",
       "005_S_0553 m36   2009-09-15 CN       3T  \n",
       "                            CN     1.5T  \n",
       "023_S_0058 m36   2008-12-09 CN     1.5T  \n",
       "                            CN       3T  \n",
       "023_S_0061 m24   2007-12-13 CN     1.5T  \n",
       "                            CN       3T  \n",
       "023_S_0331 m18   2007-10-09 MCI    1.5T  \n",
       "                            MCI      3T  \n",
       "023_S_0388 m18   2007-10-30 MCI    1.5T  \n",
       "                            MCI      3T  \n",
       "023_S_0604 m24   2008-07-30 MCI    1.5T  \n",
       "                            MCI      3T  \n",
       "023_S_0625 m06   2007-02-27 MCI    1.5T  \n",
       "                            MCI      3T  \n",
       "023_S_0916 m24   2008-09-30 AD     1.5T  \n",
       "                            AD       3T  \n",
       "023_S_1046 m18   2008-05-30 MCI      3T  \n",
       "                            MCI    1.5T  \n",
       "023_S_1262 m06   2007-09-04 AD     1.5T  \n",
       "                            AD       3T  \n",
       "027_S_0307 m24   2008-04-16 MCI    1.5T  \n",
       "                            MCI      3T  \n",
       "032_S_1169 m06   2007-08-24 CN       3T  \n",
       "                            CN     1.5T  \n",
       "           m12   2008-01-17 CN     1.5T  \n",
       "                            CN       3T  "
      ]
     },
     "execution_count": 15,
     "metadata": {},
     "output_type": "execute_result"
    }
   ],
   "source": [
    "# Sort the duplicated visit images by description (longer description goes to the bottom)\n",
    "df = df.sort_values(['Subject', 'Visit', 'Acq Date', 'Description'])\n",
    "# Set the index for a clearer view of the hierarchy\n",
    "df[df.duplicated(['Subject', 'Visit', 'Acq Date'], keep=False)]\\\n",
    "  .set_index([\"Subject\", \"Visit\", \"Acq Date\", \"Group\"])\\\n",
    "  .head(30)"
   ]
  },
  {
   "cell_type": "code",
   "execution_count": 16,
   "metadata": {
    "execution": {
     "iopub.execute_input": "2024-05-06T05:52:31.208549Z",
     "iopub.status.busy": "2024-05-06T05:52:31.207185Z",
     "iopub.status.idle": "2024-05-06T05:52:31.255846Z",
     "shell.execute_reply": "2024-05-06T05:52:31.254107Z"
    }
   },
   "outputs": [
    {
     "data": {
      "text/html": [
       "<div>\n",
       "<style scoped>\n",
       "    .dataframe tbody tr th:only-of-type {\n",
       "        vertical-align: middle;\n",
       "    }\n",
       "\n",
       "    .dataframe tbody tr th {\n",
       "        vertical-align: top;\n",
       "    }\n",
       "\n",
       "    .dataframe thead th {\n",
       "        text-align: right;\n",
       "    }\n",
       "</style>\n",
       "<table border=\"1\" class=\"dataframe\">\n",
       "  <thead>\n",
       "    <tr style=\"text-align: right;\">\n",
       "      <th></th>\n",
       "      <th></th>\n",
       "      <th></th>\n",
       "      <th></th>\n",
       "      <th>Image Data ID</th>\n",
       "      <th>Sex</th>\n",
       "      <th>Age</th>\n",
       "      <th>Description</th>\n",
       "      <th>T</th>\n",
       "    </tr>\n",
       "    <tr>\n",
       "      <th>Subject</th>\n",
       "      <th>Visit</th>\n",
       "      <th>Acq Date</th>\n",
       "      <th>Group</th>\n",
       "      <th></th>\n",
       "      <th></th>\n",
       "      <th></th>\n",
       "      <th></th>\n",
       "      <th></th>\n",
       "    </tr>\n",
       "  </thead>\n",
       "  <tbody>\n",
       "    <tr>\n",
       "      <th rowspan=\"4\" valign=\"top\">002_S_0413</th>\n",
       "      <th>bl</th>\n",
       "      <th>2006-05-19</th>\n",
       "      <th>CN</th>\n",
       "      <td>I40657</td>\n",
       "      <td>F</td>\n",
       "      <td>76</td>\n",
       "      <td>MPR; ; N3; Scaled</td>\n",
       "      <td>3T</td>\n",
       "    </tr>\n",
       "    <tr>\n",
       "      <th>m12</th>\n",
       "      <th>2007-06-01</th>\n",
       "      <th>CN</th>\n",
       "      <td>I64551</td>\n",
       "      <td>F</td>\n",
       "      <td>77</td>\n",
       "      <td>MPR; ; N3; Scaled</td>\n",
       "      <td>3T</td>\n",
       "    </tr>\n",
       "    <tr>\n",
       "      <th>m24</th>\n",
       "      <th>2008-07-31</th>\n",
       "      <th>CN</th>\n",
       "      <td>I120917</td>\n",
       "      <td>F</td>\n",
       "      <td>79</td>\n",
       "      <td>MPR; GradWarp; B1 Correction; N3; Scaled</td>\n",
       "      <td>1.5T</td>\n",
       "    </tr>\n",
       "    <tr>\n",
       "      <th>m36</th>\n",
       "      <th>2009-04-30</th>\n",
       "      <th>CN</th>\n",
       "      <td>I149735</td>\n",
       "      <td>F</td>\n",
       "      <td>79</td>\n",
       "      <td>MPR; ; N3; Scaled</td>\n",
       "      <td>3T</td>\n",
       "    </tr>\n",
       "    <tr>\n",
       "      <th rowspan=\"5\" valign=\"top\">002_S_0559</th>\n",
       "      <th>bl</th>\n",
       "      <th>2006-06-27</th>\n",
       "      <th>CN</th>\n",
       "      <td>I45126</td>\n",
       "      <td>M</td>\n",
       "      <td>79</td>\n",
       "      <td>MPR; ; N3; Scaled</td>\n",
       "      <td>3T</td>\n",
       "    </tr>\n",
       "    <tr>\n",
       "      <th>m06</th>\n",
       "      <th>2006-12-12</th>\n",
       "      <th>CN</th>\n",
       "      <td>I79123</td>\n",
       "      <td>M</td>\n",
       "      <td>80</td>\n",
       "      <td>MPR; ; N3; Scaled</td>\n",
       "      <td>3T</td>\n",
       "    </tr>\n",
       "    <tr>\n",
       "      <th>m12</th>\n",
       "      <th>2007-10-18</th>\n",
       "      <th>CN</th>\n",
       "      <td>I82102</td>\n",
       "      <td>M</td>\n",
       "      <td>81</td>\n",
       "      <td>MPR-R; ; N3; Scaled</td>\n",
       "      <td>3T</td>\n",
       "    </tr>\n",
       "    <tr>\n",
       "      <th>m24</th>\n",
       "      <th>2008-08-15</th>\n",
       "      <th>CN</th>\n",
       "      <td>I120779</td>\n",
       "      <td>M</td>\n",
       "      <td>82</td>\n",
       "      <td>MPR; ; N3; Scaled</td>\n",
       "      <td>3T</td>\n",
       "    </tr>\n",
       "    <tr>\n",
       "      <th>m36</th>\n",
       "      <th>2009-06-30</th>\n",
       "      <th>CN</th>\n",
       "      <td>I171087</td>\n",
       "      <td>M</td>\n",
       "      <td>82</td>\n",
       "      <td>MPR; ; N3; Scaled</td>\n",
       "      <td>3T</td>\n",
       "    </tr>\n",
       "    <tr>\n",
       "      <th rowspan=\"3\" valign=\"top\">002_S_0729</th>\n",
       "      <th>m06</th>\n",
       "      <th>2007-02-22</th>\n",
       "      <th>MCI</th>\n",
       "      <td>I64741</td>\n",
       "      <td>F</td>\n",
       "      <td>66</td>\n",
       "      <td>MPR; GradWarp; B1 Correction; N3; Scaled</td>\n",
       "      <td>1.5T</td>\n",
       "    </tr>\n",
       "    <tr>\n",
       "      <th>m18</th>\n",
       "      <th>2008-04-03</th>\n",
       "      <th>MCI</th>\n",
       "      <td>I121067</td>\n",
       "      <td>F</td>\n",
       "      <td>67</td>\n",
       "      <td>MPR-R; GradWarp; B1 Correction; N3; Scaled</td>\n",
       "      <td>1.5T</td>\n",
       "    </tr>\n",
       "    <tr>\n",
       "      <th>m24</th>\n",
       "      <th>2008-09-29</th>\n",
       "      <th>MCI</th>\n",
       "      <td>I123994</td>\n",
       "      <td>F</td>\n",
       "      <td>67</td>\n",
       "      <td>MPR; GradWarp; B1 Correction; N3; Scaled</td>\n",
       "      <td>1.5T</td>\n",
       "    </tr>\n",
       "    <tr>\n",
       "      <th>002_S_0782</th>\n",
       "      <th>m06</th>\n",
       "      <th>2007-04-11</th>\n",
       "      <th>MCI</th>\n",
       "      <td>I60456</td>\n",
       "      <td>M</td>\n",
       "      <td>82</td>\n",
       "      <td>MPR; GradWarp; B1 Correction; N3; Scaled</td>\n",
       "      <td>1.5T</td>\n",
       "    </tr>\n",
       "    <tr>\n",
       "      <th rowspan=\"4\" valign=\"top\">002_S_1018</th>\n",
       "      <th>bl</th>\n",
       "      <th>2006-12-18</th>\n",
       "      <th>AD</th>\n",
       "      <td>I40828</td>\n",
       "      <td>F</td>\n",
       "      <td>71</td>\n",
       "      <td>MPR; ; N3; Scaled</td>\n",
       "      <td>3T</td>\n",
       "    </tr>\n",
       "    <tr>\n",
       "      <th>m06</th>\n",
       "      <th>2007-06-14</th>\n",
       "      <th>AD</th>\n",
       "      <td>I64750</td>\n",
       "      <td>F</td>\n",
       "      <td>71</td>\n",
       "      <td>MPR; ; N3; Scaled</td>\n",
       "      <td>3T</td>\n",
       "    </tr>\n",
       "    <tr>\n",
       "      <th>m12</th>\n",
       "      <th>2007-12-07</th>\n",
       "      <th>AD</th>\n",
       "      <td>I97022</td>\n",
       "      <td>F</td>\n",
       "      <td>72</td>\n",
       "      <td>MPR; ; N3; Scaled</td>\n",
       "      <td>3T</td>\n",
       "    </tr>\n",
       "    <tr>\n",
       "      <th>m24</th>\n",
       "      <th>2008-12-12</th>\n",
       "      <th>AD</th>\n",
       "      <td>I132795</td>\n",
       "      <td>F</td>\n",
       "      <td>73</td>\n",
       "      <td>MPR; ; N3; Scaled</td>\n",
       "      <td>3T</td>\n",
       "    </tr>\n",
       "    <tr>\n",
       "      <th rowspan=\"6\" valign=\"top\">002_S_1070</th>\n",
       "      <th>bl</th>\n",
       "      <th>2006-12-18</th>\n",
       "      <th>MCI</th>\n",
       "      <td>I40840</td>\n",
       "      <td>M</td>\n",
       "      <td>74</td>\n",
       "      <td>MPR; ; N3; Scaled</td>\n",
       "      <td>3T</td>\n",
       "    </tr>\n",
       "    <tr>\n",
       "      <th>m06</th>\n",
       "      <th>2007-06-07</th>\n",
       "      <th>MCI</th>\n",
       "      <td>I60050</td>\n",
       "      <td>M</td>\n",
       "      <td>74</td>\n",
       "      <td>MPR-R; ; N3; Scaled</td>\n",
       "      <td>3T</td>\n",
       "    </tr>\n",
       "    <tr>\n",
       "      <th>m12</th>\n",
       "      <th>2007-12-10</th>\n",
       "      <th>MCI</th>\n",
       "      <td>I86231</td>\n",
       "      <td>M</td>\n",
       "      <td>75</td>\n",
       "      <td>MPR; ; N3; Scaled</td>\n",
       "      <td>3T</td>\n",
       "    </tr>\n",
       "    <tr>\n",
       "      <th>m18</th>\n",
       "      <th>2008-08-13</th>\n",
       "      <th>MCI</th>\n",
       "      <td>I120784</td>\n",
       "      <td>M</td>\n",
       "      <td>75</td>\n",
       "      <td>MPR; ; N3; Scaled</td>\n",
       "      <td>3T</td>\n",
       "    </tr>\n",
       "    <tr>\n",
       "      <th>m24</th>\n",
       "      <th>2008-12-11</th>\n",
       "      <th>MCI</th>\n",
       "      <td>I132215</td>\n",
       "      <td>M</td>\n",
       "      <td>76</td>\n",
       "      <td>MPR; ; N3; Scaled</td>\n",
       "      <td>3T</td>\n",
       "    </tr>\n",
       "    <tr>\n",
       "      <th>m36</th>\n",
       "      <th>2009-12-10</th>\n",
       "      <th>MCI</th>\n",
       "      <td>I165284</td>\n",
       "      <td>M</td>\n",
       "      <td>77</td>\n",
       "      <td>MPR; ; N3; Scaled</td>\n",
       "      <td>3T</td>\n",
       "    </tr>\n",
       "    <tr>\n",
       "      <th rowspan=\"3\" valign=\"top\">002_S_1261</th>\n",
       "      <th>m06</th>\n",
       "      <th>2007-08-30</th>\n",
       "      <th>CN</th>\n",
       "      <td>I79126</td>\n",
       "      <td>F</td>\n",
       "      <td>72</td>\n",
       "      <td>MPR; GradWarp; B1 Correction; N3; Scaled</td>\n",
       "      <td>1.5T</td>\n",
       "    </tr>\n",
       "    <tr>\n",
       "      <th>m24</th>\n",
       "      <th>2009-02-05</th>\n",
       "      <th>CN</th>\n",
       "      <td>I139510</td>\n",
       "      <td>F</td>\n",
       "      <td>73</td>\n",
       "      <td>MPR; GradWarp; B1 Correction; N3; Scaled</td>\n",
       "      <td>1.5T</td>\n",
       "    </tr>\n",
       "    <tr>\n",
       "      <th>m36</th>\n",
       "      <th>2010-02-25</th>\n",
       "      <th>CN</th>\n",
       "      <td>I171106</td>\n",
       "      <td>F</td>\n",
       "      <td>74</td>\n",
       "      <td>MPR; GradWarp; B1 Correction; N3; Scaled</td>\n",
       "      <td>1.5T</td>\n",
       "    </tr>\n",
       "    <tr>\n",
       "      <th>002_S_1268</th>\n",
       "      <th>m24</th>\n",
       "      <th>2009-03-04</th>\n",
       "      <th>MCI</th>\n",
       "      <td>I143103</td>\n",
       "      <td>M</td>\n",
       "      <td>85</td>\n",
       "      <td>MPR; GradWarp; B1 Correction; N3; Scaled</td>\n",
       "      <td>1.5T</td>\n",
       "    </tr>\n",
       "    <tr>\n",
       "      <th>002_S_1280</th>\n",
       "      <th>m06</th>\n",
       "      <th>2007-08-23</th>\n",
       "      <th>CN</th>\n",
       "      <td>I81321</td>\n",
       "      <td>F</td>\n",
       "      <td>71</td>\n",
       "      <td>MPR; GradWarp; B1 Correction; N3; Scaled</td>\n",
       "      <td>1.5T</td>\n",
       "    </tr>\n",
       "    <tr>\n",
       "      <th>003_S_1122</th>\n",
       "      <th>m12</th>\n",
       "      <th>2008-01-30</th>\n",
       "      <th>MCI</th>\n",
       "      <td>I96010</td>\n",
       "      <td>F</td>\n",
       "      <td>78</td>\n",
       "      <td>MPR; GradWarp; B1 Correction; N3; Scaled</td>\n",
       "      <td>1.5T</td>\n",
       "    </tr>\n",
       "    <tr>\n",
       "      <th>005_S_0221</th>\n",
       "      <th>m12</th>\n",
       "      <th>2007-03-21</th>\n",
       "      <th>AD</th>\n",
       "      <td>I102054</td>\n",
       "      <td>M</td>\n",
       "      <td>69</td>\n",
       "      <td>MPR; GradWarp; B1 Correction; N3; Scaled</td>\n",
       "      <td>1.5T</td>\n",
       "    </tr>\n",
       "  </tbody>\n",
       "</table>\n",
       "</div>"
      ],
      "text/plain": [
       "                                  Image Data ID Sex  Age  \\\n",
       "Subject    Visit Acq Date   Group                          \n",
       "002_S_0413 bl    2006-05-19 CN           I40657   F   76   \n",
       "           m12   2007-06-01 CN           I64551   F   77   \n",
       "           m24   2008-07-31 CN          I120917   F   79   \n",
       "           m36   2009-04-30 CN          I149735   F   79   \n",
       "002_S_0559 bl    2006-06-27 CN           I45126   M   79   \n",
       "           m06   2006-12-12 CN           I79123   M   80   \n",
       "           m12   2007-10-18 CN           I82102   M   81   \n",
       "           m24   2008-08-15 CN          I120779   M   82   \n",
       "           m36   2009-06-30 CN          I171087   M   82   \n",
       "002_S_0729 m06   2007-02-22 MCI          I64741   F   66   \n",
       "           m18   2008-04-03 MCI         I121067   F   67   \n",
       "           m24   2008-09-29 MCI         I123994   F   67   \n",
       "002_S_0782 m06   2007-04-11 MCI          I60456   M   82   \n",
       "002_S_1018 bl    2006-12-18 AD           I40828   F   71   \n",
       "           m06   2007-06-14 AD           I64750   F   71   \n",
       "           m12   2007-12-07 AD           I97022   F   72   \n",
       "           m24   2008-12-12 AD          I132795   F   73   \n",
       "002_S_1070 bl    2006-12-18 MCI          I40840   M   74   \n",
       "           m06   2007-06-07 MCI          I60050   M   74   \n",
       "           m12   2007-12-10 MCI          I86231   M   75   \n",
       "           m18   2008-08-13 MCI         I120784   M   75   \n",
       "           m24   2008-12-11 MCI         I132215   M   76   \n",
       "           m36   2009-12-10 MCI         I165284   M   77   \n",
       "002_S_1261 m06   2007-08-30 CN           I79126   F   72   \n",
       "           m24   2009-02-05 CN          I139510   F   73   \n",
       "           m36   2010-02-25 CN          I171106   F   74   \n",
       "002_S_1268 m24   2009-03-04 MCI         I143103   M   85   \n",
       "002_S_1280 m06   2007-08-23 CN           I81321   F   71   \n",
       "003_S_1122 m12   2008-01-30 MCI          I96010   F   78   \n",
       "005_S_0221 m12   2007-03-21 AD          I102054   M   69   \n",
       "\n",
       "                                                                  Description  \\\n",
       "Subject    Visit Acq Date   Group                                               \n",
       "002_S_0413 bl    2006-05-19 CN                              MPR; ; N3; Scaled   \n",
       "           m12   2007-06-01 CN                              MPR; ; N3; Scaled   \n",
       "           m24   2008-07-31 CN       MPR; GradWarp; B1 Correction; N3; Scaled   \n",
       "           m36   2009-04-30 CN                              MPR; ; N3; Scaled   \n",
       "002_S_0559 bl    2006-06-27 CN                              MPR; ; N3; Scaled   \n",
       "           m06   2006-12-12 CN                              MPR; ; N3; Scaled   \n",
       "           m12   2007-10-18 CN                            MPR-R; ; N3; Scaled   \n",
       "           m24   2008-08-15 CN                              MPR; ; N3; Scaled   \n",
       "           m36   2009-06-30 CN                              MPR; ; N3; Scaled   \n",
       "002_S_0729 m06   2007-02-22 MCI      MPR; GradWarp; B1 Correction; N3; Scaled   \n",
       "           m18   2008-04-03 MCI    MPR-R; GradWarp; B1 Correction; N3; Scaled   \n",
       "           m24   2008-09-29 MCI      MPR; GradWarp; B1 Correction; N3; Scaled   \n",
       "002_S_0782 m06   2007-04-11 MCI      MPR; GradWarp; B1 Correction; N3; Scaled   \n",
       "002_S_1018 bl    2006-12-18 AD                              MPR; ; N3; Scaled   \n",
       "           m06   2007-06-14 AD                              MPR; ; N3; Scaled   \n",
       "           m12   2007-12-07 AD                              MPR; ; N3; Scaled   \n",
       "           m24   2008-12-12 AD                              MPR; ; N3; Scaled   \n",
       "002_S_1070 bl    2006-12-18 MCI                             MPR; ; N3; Scaled   \n",
       "           m06   2007-06-07 MCI                           MPR-R; ; N3; Scaled   \n",
       "           m12   2007-12-10 MCI                             MPR; ; N3; Scaled   \n",
       "           m18   2008-08-13 MCI                             MPR; ; N3; Scaled   \n",
       "           m24   2008-12-11 MCI                             MPR; ; N3; Scaled   \n",
       "           m36   2009-12-10 MCI                             MPR; ; N3; Scaled   \n",
       "002_S_1261 m06   2007-08-30 CN       MPR; GradWarp; B1 Correction; N3; Scaled   \n",
       "           m24   2009-02-05 CN       MPR; GradWarp; B1 Correction; N3; Scaled   \n",
       "           m36   2010-02-25 CN       MPR; GradWarp; B1 Correction; N3; Scaled   \n",
       "002_S_1268 m24   2009-03-04 MCI      MPR; GradWarp; B1 Correction; N3; Scaled   \n",
       "002_S_1280 m06   2007-08-23 CN       MPR; GradWarp; B1 Correction; N3; Scaled   \n",
       "003_S_1122 m12   2008-01-30 MCI      MPR; GradWarp; B1 Correction; N3; Scaled   \n",
       "005_S_0221 m12   2007-03-21 AD       MPR; GradWarp; B1 Correction; N3; Scaled   \n",
       "\n",
       "                                      T  \n",
       "Subject    Visit Acq Date   Group        \n",
       "002_S_0413 bl    2006-05-19 CN       3T  \n",
       "           m12   2007-06-01 CN       3T  \n",
       "           m24   2008-07-31 CN     1.5T  \n",
       "           m36   2009-04-30 CN       3T  \n",
       "002_S_0559 bl    2006-06-27 CN       3T  \n",
       "           m06   2006-12-12 CN       3T  \n",
       "           m12   2007-10-18 CN       3T  \n",
       "           m24   2008-08-15 CN       3T  \n",
       "           m36   2009-06-30 CN       3T  \n",
       "002_S_0729 m06   2007-02-22 MCI    1.5T  \n",
       "           m18   2008-04-03 MCI    1.5T  \n",
       "           m24   2008-09-29 MCI    1.5T  \n",
       "002_S_0782 m06   2007-04-11 MCI    1.5T  \n",
       "002_S_1018 bl    2006-12-18 AD       3T  \n",
       "           m06   2007-06-14 AD       3T  \n",
       "           m12   2007-12-07 AD       3T  \n",
       "           m24   2008-12-12 AD       3T  \n",
       "002_S_1070 bl    2006-12-18 MCI      3T  \n",
       "           m06   2007-06-07 MCI      3T  \n",
       "           m12   2007-12-10 MCI      3T  \n",
       "           m18   2008-08-13 MCI      3T  \n",
       "           m24   2008-12-11 MCI      3T  \n",
       "           m36   2009-12-10 MCI      3T  \n",
       "002_S_1261 m06   2007-08-30 CN     1.5T  \n",
       "           m24   2009-02-05 CN     1.5T  \n",
       "           m36   2010-02-25 CN     1.5T  \n",
       "002_S_1268 m24   2009-03-04 MCI    1.5T  \n",
       "002_S_1280 m06   2007-08-23 CN     1.5T  \n",
       "003_S_1122 m12   2008-01-30 MCI    1.5T  \n",
       "005_S_0221 m12   2007-03-21 AD     1.5T  "
      ]
     },
     "execution_count": 16,
     "metadata": {},
     "output_type": "execute_result"
    }
   ],
   "source": [
    "# Drop duplicated images keeping the last one (the longer description after sorting)\n",
    "df = df.drop_duplicates([\"Subject\", \"Visit\", 'Acq Date'], keep='last')\n",
    "df.set_index([\"Subject\", \"Visit\", \"Acq Date\", \"Group\"]).head(30)"
   ]
  },
  {
   "cell_type": "code",
   "execution_count": 17,
   "metadata": {
    "execution": {
     "iopub.execute_input": "2024-05-06T05:52:31.275616Z",
     "iopub.status.busy": "2024-05-06T05:52:31.273850Z",
     "iopub.status.idle": "2024-05-06T05:52:31.307737Z",
     "shell.execute_reply": "2024-05-06T05:52:31.305997Z"
    }
   },
   "outputs": [
    {
     "data": {
      "text/plain": [
       "1"
      ]
     },
     "execution_count": 17,
     "metadata": {},
     "output_type": "execute_result"
    }
   ],
   "source": [
    "df.pivot_table(\n",
    "    index='Subject',\n",
    "    columns='Acq Date',\n",
    "    values='Image Data ID',\n",
    "    aggfunc='count',\n",
    "    fill_value=0\n",
    ").max().max()"
   ]
  },
  {
   "cell_type": "code",
   "execution_count": 18,
   "metadata": {
    "execution": {
     "iopub.execute_input": "2024-05-06T05:52:31.323126Z",
     "iopub.status.busy": "2024-05-06T05:52:31.320607Z",
     "iopub.status.idle": "2024-05-06T05:52:31.335897Z",
     "shell.execute_reply": "2024-05-06T05:52:31.333802Z"
    }
   },
   "outputs": [
    {
     "name": "stdout",
     "output_type": "stream",
     "text": [
      "Shape: (582, 9)\n",
      "Number of images: 582\n",
      "Number of subjects: 243\n"
     ]
    }
   ],
   "source": [
    "print('Shape:', df.shape)\n",
    "print('Number of images:', df['Image Data ID'].nunique())\n",
    "print('Number of subjects:', df.Subject.nunique())"
   ]
  },
  {
   "cell_type": "markdown",
   "metadata": {},
   "source": [
    "Now every subject has at most one image per date (but possibly multiple images per visit)"
   ]
  },
  {
   "cell_type": "markdown",
   "metadata": {},
   "source": [
    "### Class Imbalance"
   ]
  },
  {
   "cell_type": "code",
   "execution_count": 19,
   "metadata": {
    "execution": {
     "iopub.execute_input": "2024-05-06T05:52:31.353406Z",
     "iopub.status.busy": "2024-05-06T05:52:31.344887Z",
     "iopub.status.idle": "2024-05-06T05:52:34.133304Z",
     "shell.execute_reply": "2024-05-06T05:52:34.132707Z"
    }
   },
   "outputs": [
    {
     "name": "stdout",
     "output_type": "stream",
     "text": [
      "Group\n",
      "AD     135.0\n",
      "CN     199.0\n",
      "MCI    248.0\n",
      "Name: Image, dtype: float64\n"
     ]
    },
    {
     "data": {
      "image/png": "[encoded data removed]",
      "text/plain": [
       "<Figure size 640x480 with 1 Axes>"
      ]
     },
     "metadata": {},
     "output_type": "display_data"
    }
   ],
   "source": [
    "import matplotlib.pyplot as plt\n",
    "import seaborn as sns\n",
    "\n",
    "subject_group_pivot = df.pivot_table(values='Image Data ID', index='Subject', columns='Group', aggfunc='count')\n",
    "group_counts = subject_group_pivot.sum().rename('Image')\n",
    "print(group_counts)\n",
    "plt.pie(group_counts, labels=group_counts.index, autopct='%.0f%%', colors=sns.color_palette('pastel'))\n",
    "plt.title('Class Distribution')\n",
    "plt.show()"
   ]
  },
  {
   "cell_type": "code",
   "execution_count": 20,
   "metadata": {
    "execution": {
     "iopub.execute_input": "2024-05-06T05:52:34.162852Z",
     "iopub.status.busy": "2024-05-06T05:52:34.153882Z",
     "iopub.status.idle": "2024-05-06T05:52:34.240410Z",
     "shell.execute_reply": "2024-05-06T05:52:34.239013Z"
    }
   },
   "outputs": [
    {
     "data": {
      "image/png": "[encoded data removed]",
      "text/plain": [
       "<Figure size 640x480 with 1 Axes>"
      ]
     },
     "metadata": {},
     "output_type": "display_data"
    }
   ],
   "source": [
    "T_counts = image_counts_per_subject_by_T.sum()\n",
    "plt.pie(T_counts, labels=T_counts.index, autopct='%.0f%%', colors=sns.color_palette('pastel'))\n",
    "plt.title('Magnetic Field Strength Distribution')\n",
    "plt.show()"
   ]
  },
  {
   "cell_type": "code",
   "execution_count": 21,
   "metadata": {
    "execution": {
     "iopub.execute_input": "2024-05-06T05:52:34.272348Z",
     "iopub.status.busy": "2024-05-06T05:52:34.259281Z",
     "iopub.status.idle": "2024-05-06T05:52:34.641985Z",
     "shell.execute_reply": "2024-05-06T05:52:34.641001Z"
    }
   },
   "outputs": [
    {
     "data": {
      "image/png": "[encoded data removed]",
      "text/plain": [
       "<Figure size 640x480 with 1 Axes>"
      ]
     },
     "metadata": {},
     "output_type": "display_data"
    }
   ],
   "source": [
    "# Add the group column\n",
    "image_counts_per_subject = df.groupby('Subject')['Image Data ID'].count().rename('Image Count').to_frame()\n",
    "image_counts_per_subject = image_counts_per_subject.merge(\n",
    "    df[['Subject', 'Group']].drop_duplicates().set_index('Subject'),\n",
    "    left_index=True,\n",
    "    right_index=True\n",
    ")\n",
    "\n",
    "# Distribution of image counts among the subjects\n",
    "subject_count_per_image_count_by_group = image_counts_per_subject\\\n",
    "    .reset_index()\\\n",
    "    .pivot_table(\n",
    "        index='Image Count',\n",
    "        values='Subject',\n",
    "        columns='Group',\n",
    "        aggfunc='count',\n",
    "        fill_value=0\n",
    "    )\n",
    "subject_count_per_image_count_by_group.plot(kind='bar', stacked=True)\n",
    "plt.ylabel('Subject Count')\n",
    "plt.title('Subject Count Distribution per Image Count by Group')\n",
    "plt.show()"
   ]
  },
  {
   "cell_type": "markdown",
   "metadata": {},
   "source": [
    "Decide on the images to select for each class to achieve class balance. This is achieved by two approaches:\n",
    "- **Down sampling**: Sampling the classes with more images to have as many images as the *minimum* class \n",
    "- **Up sampling**: Sampling the classes with less images to have as many images as the *maximum* class"
   ]
  },
  {
   "cell_type": "markdown",
   "metadata": {},
   "source": [
    "#### Down-sampling"
   ]
  },
  {
   "cell_type": "code",
   "execution_count": 22,
   "metadata": {
    "execution": {
     "iopub.execute_input": "2024-05-06T05:52:34.648995Z",
     "iopub.status.busy": "2024-05-06T05:52:34.648343Z",
     "iopub.status.idle": "2024-05-06T05:52:34.654532Z",
     "shell.execute_reply": "2024-05-06T05:52:34.655149Z"
    }
   },
   "outputs": [
    {
     "data": {
      "text/plain": [
       "135"
      ]
     },
     "execution_count": 22,
     "metadata": {},
     "output_type": "execute_result"
    }
   ],
   "source": [
    "# Number of images we need to select per group\n",
    "num_images_per_group = int(group_counts.min())\n",
    "num_images_per_group"
   ]
  },
  {
   "cell_type": "code",
   "execution_count": 23,
   "metadata": {
    "execution": {
     "iopub.execute_input": "2024-05-06T05:52:34.672347Z",
     "iopub.status.busy": "2024-05-06T05:52:34.669739Z",
     "iopub.status.idle": "2024-05-06T05:52:34.725462Z",
     "shell.execute_reply": "2024-05-06T05:52:34.726464Z"
    }
   },
   "outputs": [
    {
     "name": "stdout",
     "output_type": "stream",
     "text": [
      "current_image_count 133\n",
      "filtered subjects count 15\n",
      "remaining_subject_count 1\n",
      "choices ['094_S_0526']\n"
     ]
    },
    {
     "data": {
      "text/plain": [
       "(135, 9)"
      ]
     },
     "execution_count": 23,
     "metadata": {},
     "output_type": "execute_result"
    }
   ],
   "source": [
    "import operator\n",
    "\n",
    "# CN subjects that have 'min_images_per_subject' or more images\n",
    "def filter_subjects_by_image_count(groups, cutoff, op, drop=None):\n",
    "    operators = {\n",
    "        '<': operator.lt,\n",
    "        '<=': operator.le,\n",
    "        '>': operator.gt,\n",
    "        '>=': operator.ge,\n",
    "        '==': operator.eq,\n",
    "        '!=': operator.ne\n",
    "    }\n",
    "    filtered_subjects = image_counts_per_subject[\n",
    "        (image_counts_per_subject.Group.isin(groups)) &\n",
    "        (operators[op](image_counts_per_subject['Image Count'], cutoff))\n",
    "    ]\n",
    "    return filtered_subjects.drop(index=drop) if drop else filtered_subjects\n",
    "    \n",
    "def filter_images_by_subject_image_count(num_images_per_group, groups, min_images_per_subject=3):\n",
    "    filtered_subjects = filter_subjects_by_image_count(groups=groups, cutoff=min_images_per_subject, op='>=')\n",
    "    final_images = df[df.Subject.isin(filtered_subjects.index)]\n",
    "    \n",
    "    # choose more subjects from lower image counts to satisfy the image count per group\n",
    "    current_image_count = final_images.shape[0]\n",
    "    choice_history = []\n",
    "    while current_image_count < num_images_per_group:\n",
    "        print('current_image_count', current_image_count)\n",
    "        filtered_subjects = filter_subjects_by_image_count(groups=groups, cutoff=min_images_per_subject - 1, op='==', drop=choice_history)\n",
    "        print('filtered subjects count', filtered_subjects.shape[0])\n",
    "        remaining_subject_count = int((num_images_per_group - current_image_count) // (min_images_per_subject - 1))\n",
    "        if remaining_subject_count == 0:\n",
    "            remaining_subject_count = 1\n",
    "        print('remaining_subject_count', remaining_subject_count)\n",
    "        choices = filtered_subjects.sample(remaining_subject_count, random_state=42).index.values\n",
    "        print('choices', choices)\n",
    "        choice_history.extend(choices)\n",
    "        new_images = df[df.Subject.isin(choices)]\n",
    "        \n",
    "        if new_images.shape[0] > (num_images_per_group - current_image_count):\n",
    "            new_images = new_images.sort_values(['Subject', 'Visit']).iloc[:(num_images_per_group - current_image_count)]\n",
    "        \n",
    "        final_images = pd.concat((final_images, new_images))\n",
    "        current_image_count = final_images.shape[0]\n",
    "        \n",
    "    return final_images\n",
    "    \n",
    "\n",
    "final_down_sampled_cn_images = filter_images_by_subject_image_count(num_images_per_group, groups=['CN'], min_images_per_subject=3)\n",
    "final_down_sampled_cn_images.shape"
   ]
  },
  {
   "cell_type": "code",
   "execution_count": 24,
   "metadata": {
    "execution": {
     "iopub.execute_input": "2024-05-06T05:52:34.734636Z",
     "iopub.status.busy": "2024-05-06T05:52:34.731004Z",
     "iopub.status.idle": "2024-05-06T05:52:34.757487Z",
     "shell.execute_reply": "2024-05-06T05:52:34.758126Z"
    }
   },
   "outputs": [
    {
     "name": "stdout",
     "output_type": "stream",
     "text": [
      "current_image_count 127\n",
      "filtered subjects count 9\n",
      "remaining_subject_count 2\n",
      "choices ['116_S_1315' '007_S_0293']\n",
      "current_image_count 133\n",
      "filtered subjects count 7\n",
      "remaining_subject_count 1\n",
      "choices ['002_S_0729']\n"
     ]
    },
    {
     "data": {
      "text/plain": [
       "(135, 9)"
      ]
     },
     "execution_count": 24,
     "metadata": {},
     "output_type": "execute_result"
    }
   ],
   "source": [
    "final_down_sampled_mci_images = filter_images_by_subject_image_count(num_images_per_group, groups=['MCI'], min_images_per_subject=4)\n",
    "final_down_sampled_mci_images.shape"
   ]
  },
  {
   "cell_type": "code",
   "execution_count": 25,
   "metadata": {
    "execution": {
     "iopub.execute_input": "2024-05-06T05:52:34.768731Z",
     "iopub.status.busy": "2024-05-06T05:52:34.765799Z",
     "iopub.status.idle": "2024-05-06T05:52:34.775895Z",
     "shell.execute_reply": "2024-05-06T05:52:34.774966Z"
    }
   },
   "outputs": [
    {
     "data": {
      "text/plain": [
       "(135, 9)"
      ]
     },
     "execution_count": 25,
     "metadata": {},
     "output_type": "execute_result"
    }
   ],
   "source": [
    "final_down_sampled_ad_images = df[df.Group == 'AD']\n",
    "final_down_sampled_ad_images.shape"
   ]
  },
  {
   "cell_type": "code",
   "execution_count": 26,
   "metadata": {
    "execution": {
     "iopub.execute_input": "2024-05-06T05:52:34.786574Z",
     "iopub.status.busy": "2024-05-06T05:52:34.785645Z",
     "iopub.status.idle": "2024-05-06T05:52:34.791786Z",
     "shell.execute_reply": "2024-05-06T05:52:34.790994Z"
    }
   },
   "outputs": [
    {
     "data": {
      "text/plain": [
       "(405, 9)"
      ]
     },
     "execution_count": 26,
     "metadata": {},
     "output_type": "execute_result"
    }
   ],
   "source": [
    "df_down_sampled = pd.concat([final_down_sampled_ad_images, final_down_sampled_mci_images, final_down_sampled_cn_images])\n",
    "df_down_sampled.shape"
   ]
  },
  {
   "cell_type": "markdown",
   "metadata": {},
   "source": [
    "##### Save the final down-sampled image IDs and subject groups for preprocessing"
   ]
  },
  {
   "cell_type": "code",
   "execution_count": 27,
   "metadata": {
    "execution": {
     "iopub.execute_input": "2024-05-06T05:52:34.802507Z",
     "iopub.status.busy": "2024-05-06T05:52:34.801632Z",
     "iopub.status.idle": "2024-05-06T05:52:34.815050Z",
     "shell.execute_reply": "2024-05-06T05:52:34.815663Z"
    }
   },
   "outputs": [],
   "source": [
    "if config['down_sample']:\n",
    "    # Save the subject diagnosis labels for later use\n",
    "    df_down_sampled[['Subject', 'Group']]\\\n",
    "        .drop_duplicates()\\\n",
    "        .set_index('Subject')\\\n",
    "        .to_csv('subject_groups_down_sampled.csv')\n",
    "\n",
    "    # Save the images ids\n",
    "    df_down_sampled[['Subject', 'Image Data ID', 'Group']].to_csv('final_image_ids_down_sampled.csv', index=False)"
   ]
  },
  {
   "cell_type": "markdown",
   "metadata": {},
   "source": [
    "#### Up-sampling"
   ]
  },
  {
   "cell_type": "code",
   "execution_count": 28,
   "metadata": {
    "execution": {
     "iopub.execute_input": "2024-05-06T05:52:34.824110Z",
     "iopub.status.busy": "2024-05-06T05:52:34.823038Z",
     "iopub.status.idle": "2024-05-06T05:52:34.830192Z",
     "shell.execute_reply": "2024-05-06T05:52:34.830772Z"
    }
   },
   "outputs": [
    {
     "data": {
      "text/plain": [
       "248"
      ]
     },
     "execution_count": 28,
     "metadata": {},
     "output_type": "execute_result"
    }
   ],
   "source": [
    "# Number of images we need to select per group\n",
    "num_images_per_group = int(group_counts.max())\n",
    "num_images_per_group"
   ]
  },
  {
   "cell_type": "code",
   "execution_count": 29,
   "metadata": {
    "execution": {
     "iopub.execute_input": "2024-05-06T05:52:34.840092Z",
     "iopub.status.busy": "2024-05-06T05:52:34.834772Z",
     "iopub.status.idle": "2024-05-06T05:52:34.985871Z",
     "shell.execute_reply": "2024-05-06T05:52:34.987911Z"
    }
   },
   "outputs": [
    {
     "name": "stdout",
     "output_type": "stream",
     "text": [
      "Number of unique Image IDs in AD Images before resampling: 135\n",
      "Number of unique Subjects in AD Images vefore resampling: 62\n",
      "Number of unique Image IDs in AD Images after resampling: 135\n",
      "Number of unique Subjects in AD Images after resampling: 62\n"
     ]
    },
    {
     "data": {
      "text/plain": [
       "(248, 9)"
      ]
     },
     "execution_count": 29,
     "metadata": {},
     "output_type": "execute_result"
    }
   ],
   "source": [
    "from sklearn.utils import resample\n",
    "\n",
    "# Imclude all the images in the minor class and resample the difference\n",
    "final_up_sampled_ad_images = df[df['Group'] == 'AD']\n",
    "print('Number of unique Image IDs in AD Images before resampling:', final_up_sampled_ad_images['Image Data ID'].nunique())\n",
    "print('Number of unique Subjects in AD Images vefore resampling:', final_up_sampled_ad_images['Subject'].nunique())\n",
    "\n",
    "n_samples = num_images_per_group - final_up_sampled_ad_images.shape[0]\n",
    "final_up_sampled_ad_images = pd.concat([\n",
    "    final_up_sampled_ad_images,\n",
    "    resample(\n",
    "        final_up_sampled_ad_images,\n",
    "        replace=False,\n",
    "        n_samples=n_samples,\n",
    "        random_state=42\n",
    "    )\n",
    "])\n",
    "\n",
    "print('Number of unique Image IDs in AD Images after resampling:', final_up_sampled_ad_images['Image Data ID'].nunique())\n",
    "print('Number of unique Subjects in AD Images after resampling:', final_up_sampled_ad_images['Subject'].nunique())\n",
    "final_up_sampled_ad_images.shape"
   ]
  },
  {
   "cell_type": "code",
   "execution_count": 30,
   "metadata": {
    "execution": {
     "iopub.execute_input": "2024-05-06T05:52:35.020692Z",
     "iopub.status.busy": "2024-05-06T05:52:35.014226Z",
     "iopub.status.idle": "2024-05-06T05:52:35.049724Z",
     "shell.execute_reply": "2024-05-06T05:52:35.047913Z"
    }
   },
   "outputs": [
    {
     "name": "stdout",
     "output_type": "stream",
     "text": [
      "Number of unique Image IDs in CN Images before resampling: 199\n",
      "Number of unique Subjects in CN Images vefore resampling: 81\n",
      "Number of unique Image IDs in CN Images after resampling: 199\n",
      "Number of unique Subjects in CN Images after resampling: 81\n"
     ]
    },
    {
     "data": {
      "text/plain": [
       "(248, 9)"
      ]
     },
     "execution_count": 30,
     "metadata": {},
     "output_type": "execute_result"
    }
   ],
   "source": [
    "# Imclude all the images in the minor class and resample the difference\n",
    "final_up_sampled_cn_images = df[df['Group'] == 'CN']\n",
    "print('Number of unique Image IDs in CN Images before resampling:', final_up_sampled_cn_images['Image Data ID'].nunique())\n",
    "print('Number of unique Subjects in CN Images vefore resampling:', final_up_sampled_cn_images['Subject'].nunique())\n",
    "\n",
    "n_samples = num_images_per_group - final_up_sampled_cn_images.shape[0]\n",
    "final_up_sampled_cn_images = pd.concat([\n",
    "    final_up_sampled_cn_images,\n",
    "    resample(\n",
    "        final_up_sampled_cn_images,\n",
    "        replace=False,\n",
    "        n_samples=n_samples,\n",
    "        random_state=42\n",
    "    )\n",
    "])\n",
    "\n",
    "print('Number of unique Image IDs in CN Images after resampling:', final_up_sampled_cn_images['Image Data ID'].nunique())\n",
    "print('Number of unique Subjects in CN Images after resampling:', final_up_sampled_cn_images['Subject'].nunique())\n",
    "final_up_sampled_cn_images.shape"
   ]
  },
  {
   "cell_type": "code",
   "execution_count": 31,
   "metadata": {
    "execution": {
     "iopub.execute_input": "2024-05-06T05:52:35.070104Z",
     "iopub.status.busy": "2024-05-06T05:52:35.068169Z",
     "iopub.status.idle": "2024-05-06T05:52:35.083667Z",
     "shell.execute_reply": "2024-05-06T05:52:35.081583Z"
    }
   },
   "outputs": [
    {
     "name": "stdout",
     "output_type": "stream",
     "text": [
      "Number of unique Image IDs in MCI Images: 248\n",
      "Number of unique Subjects in MCI Images: 100\n"
     ]
    }
   ],
   "source": [
    "final_up_sampled_mci_images = df[df['Group'] == 'MCI']\n",
    "print('Number of unique Image IDs in MCI Images:', final_up_sampled_mci_images['Image Data ID'].nunique())\n",
    "print('Number of unique Subjects in MCI Images:', final_up_sampled_mci_images['Subject'].nunique())"
   ]
  },
  {
   "cell_type": "code",
   "execution_count": 32,
   "metadata": {
    "execution": {
     "iopub.execute_input": "2024-05-06T05:52:35.106194Z",
     "iopub.status.busy": "2024-05-06T05:52:35.101713Z",
     "iopub.status.idle": "2024-05-06T05:52:35.130589Z",
     "shell.execute_reply": "2024-05-06T05:52:35.128006Z"
    }
   },
   "outputs": [
    {
     "name": "stdout",
     "output_type": "stream",
     "text": [
      "Number of unique Image IDs in final up-sampled images: 582\n",
      "Number of unique Subjects in final up-sampled images: 243\n"
     ]
    },
    {
     "data": {
      "text/plain": [
       "(744, 9)"
      ]
     },
     "execution_count": 32,
     "metadata": {},
     "output_type": "execute_result"
    }
   ],
   "source": [
    "up_sampled_df = pd.concat([\n",
    "    final_up_sampled_ad_images,\n",
    "    final_up_sampled_cn_images,\n",
    "    final_up_sampled_mci_images\n",
    "])\n",
    "print('Number of unique Image IDs in final up-sampled images:', up_sampled_df['Image Data ID'].nunique())\n",
    "print('Number of unique Subjects in final up-sampled images:', up_sampled_df['Subject'].nunique())\n",
    "up_sampled_df.shape"
   ]
  },
  {
   "cell_type": "markdown",
   "metadata": {},
   "source": [
    "##### Save the final up-sampled image IDs and subject groups for preprocessing"
   ]
  },
  {
   "cell_type": "code",
   "execution_count": 33,
   "metadata": {
    "execution": {
     "iopub.execute_input": "2024-05-06T05:52:35.154258Z",
     "iopub.status.busy": "2024-05-06T05:52:35.152221Z",
     "iopub.status.idle": "2024-05-06T05:52:35.184254Z",
     "shell.execute_reply": "2024-05-06T05:52:35.185785Z"
    }
   },
   "outputs": [],
   "source": [
    "if config['up_sample']:\n",
    "    # Save the subject diagnosis labels for later use\n",
    "    up_sampled_df[['Subject', 'Group']]\\\n",
    "        .drop_duplicates()\\\n",
    "        .set_index('Subject')\\\n",
    "        .to_csv('subject_groups_up_sampled.csv')\n",
    "\n",
    "    # Save the images ids\n",
    "    up_sampled_df[['Subject', 'Image Data ID', 'Group']].to_csv('final_image_ids_up_sampled.csv', index=False)"
   ]
  }
 ],
 "metadata": {
  "kernelspec": {
   "display_name": "adni",
   "language": "python",
   "name": "python3"
  },
  "language_info": {
   "codemirror_mode": {
    "name": "ipython",
    "version": 3
   },
   "file_extension": ".py",
   "mimetype": "text/x-python",
   "name": "python",
   "nbconvert_exporter": "python",
   "pygments_lexer": "ipython3",
   "version": "3.10.12"
  }
 },
 "nbformat": 4,
 "nbformat_minor": 2
}
