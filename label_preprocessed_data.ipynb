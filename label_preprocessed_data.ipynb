{
 "cells": [
  {
   "cell_type": "markdown",
   "metadata": {},
   "source": [
    "Move the preprocessed images into the folder that corresponds with their subject group (structure suitable for deep learning)"
   ]
  },
  {
   "cell_type": "code",
   "execution_count": 1,
   "metadata": {
    "execution": {
     "iopub.execute_input": "2024-05-06T05:52:44.336414Z",
     "iopub.status.busy": "2024-05-06T05:52:44.330068Z",
     "iopub.status.idle": "2024-05-06T05:52:44.365059Z",
     "shell.execute_reply": "2024-05-06T05:52:44.366619Z"
    }
   },
   "outputs": [],
   "source": [
    "from pathlib import Path\n",
    "from get_config import get_config_dict\n",
    "\n",
    "config = get_config_dict()\n",
    "\n",
    "parent_data_path = Path(config['raw_data_path']).parent\n",
    "preprocessed_data_path = parent_data_path.joinpath('preprocessed_data')\n",
    "preselected_data_path = parent_data_path.joinpath('preselected_data')\n",
    "labeled_data_path = parent_data_path.joinpath('labeled_data')"
   ]
  },
  {
   "cell_type": "markdown",
   "metadata": {},
   "source": [
    "## Down-Sampling"
   ]
  },
  {
   "cell_type": "code",
   "execution_count": 80,
   "metadata": {
    "execution": {
     "iopub.execute_input": "2024-05-06T05:52:44.392205Z",
     "iopub.status.busy": "2024-05-06T05:52:44.389425Z",
     "iopub.status.idle": "2024-05-06T05:52:44.943320Z",
     "shell.execute_reply": "2024-05-06T05:52:44.941427Z"
    }
   },
   "outputs": [
    {
     "name": "stdout",
     "output_type": "stream",
     "text": [
      "Number of scans in preprocessed_data_down_sampled directory:\n",
      "405\n",
      "Number of slices in preprocessed_data_down_sampled directory:\n",
      "12150\n"
     ]
    }
   ],
   "source": [
    "down_sampled_preprocesed_data_path = preprocessed_data_path.joinpath('preprocessed_data_down_sampled')\n",
    "print(f'Number of scans in {down_sampled_preprocesed_data_path.name} directory:')\n",
    "print(len(list(down_sampled_preprocesed_data_path.glob('**/*.nii.gz'))))\n",
    "print(f'Number of slices in {down_sampled_preprocesed_data_path.name} directory:')\n",
    "print(len(list(down_sampled_preprocesed_data_path.glob('**/*.tiff'))))"
   ]
  },
  {
   "cell_type": "code",
   "execution_count": 3,
   "metadata": {
    "execution": {
     "iopub.execute_input": "2024-05-06T05:52:44.969795Z",
     "iopub.status.busy": "2024-05-06T05:52:44.960095Z",
     "iopub.status.idle": "2024-05-06T05:52:44.994247Z",
     "shell.execute_reply": "2024-05-06T05:52:44.992466Z"
    }
   },
   "outputs": [
    {
     "data": {
      "text/plain": [
       "{'AD': PosixPath('/home/nacer/ADNI_data/ADNI1_Complete_3Yr/labeled_data/labeled_data_down_sampled/AD'),\n",
       " 'MCI': PosixPath('/home/nacer/ADNI_data/ADNI1_Complete_3Yr/labeled_data/labeled_data_down_sampled/MCI'),\n",
       " 'CN': PosixPath('/home/nacer/ADNI_data/ADNI1_Complete_3Yr/labeled_data/labeled_data_down_sampled/CN')}"
      ]
     },
     "execution_count": 3,
     "metadata": {},
     "output_type": "execute_result"
    }
   ],
   "source": [
    "# Create the destination folder structure (down_sampled)\n",
    "down_sampled_labeled_data_path = labeled_data_path.joinpath('labeled_data_down_sampled')\n",
    "down_sampled_ad_path = down_sampled_labeled_data_path.joinpath('AD')\n",
    "down_sampled_mci_path = down_sampled_labeled_data_path.joinpath('MCI')\n",
    "down_sampled_cn_path = down_sampled_labeled_data_path.joinpath('CN')\n",
    "for path in [down_sampled_ad_path, down_sampled_mci_path, down_sampled_cn_path]:\n",
    "    path.mkdir(parents=True, exist_ok=True)\n",
    "\n",
    "down_sampled_group_paths = {\n",
    "    'AD': down_sampled_ad_path,\n",
    "    'MCI': down_sampled_mci_path,\n",
    "    'CN': down_sampled_cn_path\n",
    "}\n",
    "down_sampled_group_paths"
   ]
  },
  {
   "cell_type": "code",
   "execution_count": 4,
   "metadata": {
    "execution": {
     "iopub.execute_input": "2024-05-06T05:52:45.012914Z",
     "iopub.status.busy": "2024-05-06T05:52:45.010573Z",
     "iopub.status.idle": "2024-05-06T05:52:45.662989Z",
     "shell.execute_reply": "2024-05-06T05:52:45.662339Z"
    }
   },
   "outputs": [
    {
     "data": {
      "text/plain": [
       "Group\n",
       "AD     62\n",
       "CN     31\n",
       "MCI    24\n",
       "Name: Subject, dtype: int64"
      ]
     },
     "execution_count": 4,
     "metadata": {},
     "output_type": "execute_result"
    }
   ],
   "source": [
    "import pandas as pd\n",
    "\n",
    "# Read the subject groups csv\n",
    "down_sampled_subject_groups_df = pd.read_csv('subject_groups_down_sampled.csv', index_col='Subject')\n",
    "down_sampled_subject_groups_df.reset_index().groupby('Group').Subject.count()"
   ]
  },
  {
   "cell_type": "code",
   "execution_count": 5,
   "metadata": {
    "execution": {
     "iopub.execute_input": "2024-05-06T05:52:45.669456Z",
     "iopub.status.busy": "2024-05-06T05:52:45.668446Z",
     "iopub.status.idle": "2024-05-06T05:52:45.676410Z",
     "shell.execute_reply": "2024-05-06T05:52:45.675804Z"
    }
   },
   "outputs": [
    {
     "data": {
      "text/plain": [
       "(405, 3)"
      ]
     },
     "execution_count": 5,
     "metadata": {},
     "output_type": "execute_result"
    }
   ],
   "source": [
    "# Read the final images csv\n",
    "down_sampled_final_images = pd.read_csv('final_image_ids_down_sampled.csv')\n",
    "down_sampled_final_images.shape"
   ]
  },
  {
   "cell_type": "code",
   "execution_count": 6,
   "metadata": {
    "execution": {
     "iopub.execute_input": "2024-05-06T05:52:45.683708Z",
     "iopub.status.busy": "2024-05-06T05:52:45.683036Z",
     "iopub.status.idle": "2024-05-06T05:52:45.742775Z",
     "shell.execute_reply": "2024-05-06T05:52:45.742183Z"
    }
   },
   "outputs": [
    {
     "name": "stdout",
     "output_type": "stream",
     "text": [
      "Number of down-sampled final image IDs that are in preselected_data_down_sampled directory:\n",
      "405\n"
     ]
    }
   ],
   "source": [
    "down_sampled_preselected_data_path = preselected_data_path.joinpath('preselected_data_down_sampled')\n",
    "preselected_final_image_paths = []\n",
    "for image_path in down_sampled_preselected_data_path.glob('**/*.nii*'):\n",
    "    image_id = image_path.name.split('.')[0].split('_')[-1]\n",
    "    assert image_id.startswith('I'), f'This is not an image id: {image_id}'\n",
    "    \n",
    "    if image_id in down_sampled_final_images['Image Data ID'].values:\n",
    "        preselected_final_image_paths.append(image_path)\n",
    "\n",
    "print(f'Number of down-sampled final image IDs that are in {down_sampled_preselected_data_path.name} directory:')\n",
    "print(len(preselected_final_image_paths))"
   ]
  },
  {
   "cell_type": "code",
   "execution_count": 7,
   "metadata": {
    "execution": {
     "iopub.execute_input": "2024-05-06T05:52:45.748692Z",
     "iopub.status.busy": "2024-05-06T05:52:45.747963Z",
     "iopub.status.idle": "2024-05-06T05:52:45.857971Z",
     "shell.execute_reply": "2024-05-06T05:52:45.858361Z"
    }
   },
   "outputs": [
    {
     "name": "stdout",
     "output_type": "stream",
     "text": [
      "Number of down-sampled final image IDs that are in preprocessed_data_down_sampled directory:\n",
      "405\n"
     ]
    }
   ],
   "source": [
    "preprocessed_final_image_paths = []\n",
    "for image_path in down_sampled_preprocesed_data_path.glob('**/*.nii*'):\n",
    "    image_id = image_path.name.split('.')[0].split('_')[-1]\n",
    "    assert image_id.startswith('I'), f'This is not an image id: {image_id}'\n",
    "    \n",
    "    if image_id in down_sampled_final_images['Image Data ID'].values:\n",
    "        preprocessed_final_image_paths.append(image_path)\n",
    "\n",
    "print(f'Number of down-sampled final image IDs that are in {down_sampled_preprocesed_data_path.name} directory:')\n",
    "print(int(len(preprocessed_final_image_paths)))"
   ]
  },
  {
   "cell_type": "code",
   "execution_count": 8,
   "metadata": {
    "execution": {
     "iopub.execute_input": "2024-05-06T05:52:45.865688Z",
     "iopub.status.busy": "2024-05-06T05:52:45.865012Z",
     "iopub.status.idle": "2024-05-06T05:52:46.458318Z",
     "shell.execute_reply": "2024-05-06T05:52:46.457697Z"
    }
   },
   "outputs": [],
   "source": [
    "from shutil import copy\n",
    "\n",
    "if config['down_sample']:\n",
    "    # Iterate over the preprocessed images and move them to the corresponding label folder\n",
    "    subject_path_list = list(down_sampled_preprocesed_data_path.glob('*'))\n",
    "\n",
    "    for subject_path in subject_path_list:\n",
    "        subject_id = subject_path.name\n",
    "        \n",
    "        if subject_id in down_sampled_subject_groups_df.index:\n",
    "            # Get subject group\n",
    "            group = down_sampled_subject_groups_df.loc[subject_id, 'Group']\n",
    "            subject_slice_path_list = subject_path.glob('**/*.tiff')\n",
    "            \n",
    "            # Move subject images\n",
    "            for slice_path in subject_slice_path_list:\n",
    "                image_id = slice_path.parent.name\n",
    "                # Test if image is preselected\n",
    "                if image_id in down_sampled_final_images['Image Data ID'].values:\n",
    "                    # Movw image\n",
    "                    dst_slice_path = down_sampled_group_paths[group]\n",
    "                    if not dst_slice_path.exists():\n",
    "                            copy(slice_path, dst_slice_path)\n",
    "    "
   ]
  },
  {
   "cell_type": "code",
   "execution_count": 9,
   "metadata": {
    "execution": {
     "iopub.execute_input": "2024-05-06T05:52:46.463902Z",
     "iopub.status.busy": "2024-05-06T05:52:46.463238Z",
     "iopub.status.idle": "2024-05-06T05:52:46.545524Z",
     "shell.execute_reply": "2024-05-06T05:52:46.545000Z"
    }
   },
   "outputs": [
    {
     "name": "stdout",
     "output_type": "stream",
     "text": [
      "Total number of images in labeled_data_down_sampled directory:\n",
      "12150 / 12150\n"
     ]
    }
   ],
   "source": [
    "print(f'Total number of images in {down_sampled_labeled_data_path.name} directory:')\n",
    "target_labeled_image_count = down_sampled_final_images.shape[0] * 30\n",
    "print(len(list(down_sampled_labeled_data_path.glob('**/*.tiff'))), '/', target_labeled_image_count)"
   ]
  },
  {
   "cell_type": "code",
   "execution_count": 10,
   "metadata": {
    "execution": {
     "iopub.execute_input": "2024-05-06T05:52:46.551056Z",
     "iopub.status.busy": "2024-05-06T05:52:46.550465Z",
     "iopub.status.idle": "2024-05-06T05:52:46.675015Z",
     "shell.execute_reply": "2024-05-06T05:52:46.674505Z"
    }
   },
   "outputs": [
    {
     "name": "stdout",
     "output_type": "stream",
     "text": [
      "Total number of images in AD directory:\n",
      "4050 / 4050\n",
      "\n",
      "Total number of images in MCI directory:\n",
      "4050 / 4050\n",
      "\n",
      "Total number of images in CN directory:\n"
     ]
    },
    {
     "name": "stdout",
     "output_type": "stream",
     "text": [
      "4050 / 4050\n",
      "\n"
     ]
    }
   ],
   "source": [
    "for group, path in down_sampled_group_paths.items():\n",
    "    print(f'Total number of images in {group} directory:')\n",
    "    target_labeled_image_count = int(down_sampled_final_images.shape[0] * 30 / 3)\n",
    "    print(len(list(path.glob('**/*.tiff'))), '/', target_labeled_image_count, end='\\n\\n')"
   ]
  },
  {
   "cell_type": "markdown",
   "metadata": {},
   "source": [
    "## Up-Sampling"
   ]
  },
  {
   "cell_type": "code",
   "execution_count": 11,
   "metadata": {
    "execution": {
     "iopub.execute_input": "2024-05-06T05:52:46.681619Z",
     "iopub.status.busy": "2024-05-06T05:52:46.680626Z",
     "iopub.status.idle": "2024-05-06T05:52:47.099960Z",
     "shell.execute_reply": "2024-05-06T05:52:47.098417Z"
    }
   },
   "outputs": [
    {
     "name": "stdout",
     "output_type": "stream",
     "text": [
      "Number of scans in preprocessed_data_up_sampled directory:\n"
     ]
    },
    {
     "name": "stdout",
     "output_type": "stream",
     "text": [
      "582\n",
      "Number of slices in preprocessed_data_up_sampled directory:\n"
     ]
    },
    {
     "name": "stdout",
     "output_type": "stream",
     "text": [
      "17460\n"
     ]
    }
   ],
   "source": [
    "up_sampled_preprocesed_data_path = preprocessed_data_path.joinpath('preprocessed_data_up_sampled')\n",
    "print(f'Number of scans in {up_sampled_preprocesed_data_path.name} directory:')\n",
    "print(len(list(up_sampled_preprocesed_data_path.glob('**/*.nii.gz'))))\n",
    "print(f'Number of slices in {up_sampled_preprocesed_data_path.name} directory:')\n",
    "print(len(list(up_sampled_preprocesed_data_path.glob('**/*.tiff'))))"
   ]
  },
  {
   "cell_type": "code",
   "execution_count": 12,
   "metadata": {
    "execution": {
     "iopub.execute_input": "2024-05-06T05:52:47.121235Z",
     "iopub.status.busy": "2024-05-06T05:52:47.119594Z",
     "iopub.status.idle": "2024-05-06T05:52:47.133746Z",
     "shell.execute_reply": "2024-05-06T05:52:47.132218Z"
    }
   },
   "outputs": [
    {
     "data": {
      "text/plain": [
       "{'AD': PosixPath('/home/nacer/ADNI_data/ADNI1_Complete_3Yr/labeled_data/labeled_data_up_sampled/AD'),\n",
       " 'MCI': PosixPath('/home/nacer/ADNI_data/ADNI1_Complete_3Yr/labeled_data/labeled_data_up_sampled/MCI'),\n",
       " 'CN': PosixPath('/home/nacer/ADNI_data/ADNI1_Complete_3Yr/labeled_data/labeled_data_up_sampled/CN')}"
      ]
     },
     "execution_count": 12,
     "metadata": {},
     "output_type": "execute_result"
    }
   ],
   "source": [
    "# Create the destination folder structure (up_sampled)\n",
    "up_sampled_labeled_data_path = labeled_data_path.joinpath('labeled_data_up_sampled')\n",
    "up_sampled_ad_path = up_sampled_labeled_data_path.joinpath('AD')\n",
    "up_sampled_mci_path = up_sampled_labeled_data_path.joinpath('MCI')\n",
    "up_sampled_cn_path = up_sampled_labeled_data_path.joinpath('CN')\n",
    "for path in [up_sampled_ad_path, up_sampled_cn_path, up_sampled_mci_path]:\n",
    "    path.mkdir(parents=True, exist_ok=True)\n",
    "\n",
    "up_sampled_group_paths = {\n",
    "    'AD': up_sampled_ad_path,\n",
    "    'MCI': up_sampled_mci_path,\n",
    "    'CN': up_sampled_cn_path\n",
    "}\n",
    "up_sampled_group_paths"
   ]
  },
  {
   "cell_type": "code",
   "execution_count": 13,
   "metadata": {
    "execution": {
     "iopub.execute_input": "2024-05-06T05:52:47.149157Z",
     "iopub.status.busy": "2024-05-06T05:52:47.142433Z",
     "iopub.status.idle": "2024-05-06T05:52:47.172567Z",
     "shell.execute_reply": "2024-05-06T05:52:47.174025Z"
    }
   },
   "outputs": [
    {
     "data": {
      "text/plain": [
       "Group\n",
       "AD      62\n",
       "CN      81\n",
       "MCI    100\n",
       "Name: Subject, dtype: int64"
      ]
     },
     "execution_count": 13,
     "metadata": {},
     "output_type": "execute_result"
    }
   ],
   "source": [
    "# Read the subject groups csv\n",
    "up_sampled_subject_groups_df = pd.read_csv('subject_groups_up_sampled.csv', index_col='Subject')\n",
    "up_sampled_subject_groups_df.reset_index().groupby('Group').Subject.count()"
   ]
  },
  {
   "cell_type": "code",
   "execution_count": 14,
   "metadata": {
    "execution": {
     "iopub.execute_input": "2024-05-06T05:52:47.189783Z",
     "iopub.status.busy": "2024-05-06T05:52:47.187893Z",
     "iopub.status.idle": "2024-05-06T05:52:47.211485Z",
     "shell.execute_reply": "2024-05-06T05:52:47.209349Z"
    }
   },
   "outputs": [
    {
     "data": {
      "text/plain": [
       "(744, 3)"
      ]
     },
     "execution_count": 14,
     "metadata": {},
     "output_type": "execute_result"
    }
   ],
   "source": [
    "# Up-sample the final images\n",
    "up_sampled_final_images = pd.read_csv('final_image_ids_up_sampled.csv')\n",
    "up_sampled_final_images.shape"
   ]
  },
  {
   "cell_type": "code",
   "execution_count": 15,
   "metadata": {
    "execution": {
     "iopub.execute_input": "2024-05-06T05:52:47.229539Z",
     "iopub.status.busy": "2024-05-06T05:52:47.227602Z",
     "iopub.status.idle": "2024-05-06T05:52:47.505281Z",
     "shell.execute_reply": "2024-05-06T05:52:47.506659Z"
    }
   },
   "outputs": [
    {
     "name": "stdout",
     "output_type": "stream",
     "text": [
      "Number of up-sampled final image IDs that are in preselected_data_up_sampled directory:\n",
      "582\n"
     ]
    }
   ],
   "source": [
    "up_sampled_preselected_data_path = preselected_data_path.joinpath('preselected_data_up_sampled')\n",
    "preselected_final_image_paths = []\n",
    "for image_path in up_sampled_preselected_data_path.glob('**/*.nii'):\n",
    "    image_id = image_path.name.split('.')[0].split('_')[-1]\n",
    "    assert image_id.startswith('I'), f'This is not an image id: {image_id}'\n",
    "    \n",
    "    if image_id in up_sampled_final_images['Image Data ID'].values:\n",
    "        preselected_final_image_paths.append(image_path)\n",
    "\n",
    "print(f'Number of up-sampled final image IDs that are in {up_sampled_preselected_data_path.name} directory:')\n",
    "print(len(preselected_final_image_paths))"
   ]
  },
  {
   "cell_type": "code",
   "execution_count": 16,
   "metadata": {
    "execution": {
     "iopub.execute_input": "2024-05-06T05:52:47.522792Z",
     "iopub.status.busy": "2024-05-06T05:52:47.521129Z",
     "iopub.status.idle": "2024-05-06T05:52:47.914453Z",
     "shell.execute_reply": "2024-05-06T05:52:47.913970Z"
    }
   },
   "outputs": [
    {
     "name": "stdout",
     "output_type": "stream",
     "text": [
      "Number of up-sampled final image IDs that are in preprocessed_data_up_sampled directory:\n",
      "582\n"
     ]
    }
   ],
   "source": [
    "preprocessed_final_image_paths = []\n",
    "for image_path in up_sampled_preprocesed_data_path.glob('**/*.nii*'):\n",
    "    image_id = image_path.name.split('.')[0].split('_')[-1]\n",
    "    assert image_id.startswith('I'), f'This is not an image id: {image_id}'\n",
    "    if image_id in up_sampled_final_images['Image Data ID'].values:\n",
    "        preprocessed_final_image_paths.append(image_path)\n",
    "\n",
    "print(f'Number of up-sampled final image IDs that are in {up_sampled_preprocesed_data_path.name} directory:')\n",
    "print(int(len(preprocessed_final_image_paths)))"
   ]
  },
  {
   "cell_type": "code",
   "execution_count": 17,
   "metadata": {
    "execution": {
     "iopub.execute_input": "2024-05-06T05:52:47.924630Z",
     "iopub.status.busy": "2024-05-06T05:52:47.924002Z",
     "iopub.status.idle": "2024-05-06T05:52:48.532678Z",
     "shell.execute_reply": "2024-05-06T05:52:48.533095Z"
    }
   },
   "outputs": [],
   "source": [
    "from shutil import copy\n",
    "\n",
    "if config['up_sample']:\n",
    "    image_ids_value_counts = up_sampled_final_images['Image Data ID'].value_counts()\n",
    "\n",
    "    # Iterate over the preprocessed images and move them to the corresponding label folder\n",
    "    subject_path_list = list(up_sampled_preprocesed_data_path.glob('*'))\n",
    "    for subject_path in subject_path_list:\n",
    "        subject_id = subject_path.name\n",
    "        \n",
    "        # Get subject group\n",
    "        group = up_sampled_subject_groups_df.loc[subject_id, 'Group']\n",
    "        \n",
    "        # Get subject images\n",
    "        subject_image_path_list = subject_path.glob('**/I*')\n",
    "        for image_path in subject_image_path_list:\n",
    "            image_id = image_path.name\n",
    "            # Test if image is preselected\n",
    "            if image_id in up_sampled_final_images['Image Data ID'].values:\n",
    "                # Get the image repetitions\n",
    "                image_copies = image_ids_value_counts[image_id]\n",
    "                for i in range(image_copies):\n",
    "                    slice_path_list = image_path.glob('**/*.tiff')\n",
    "                    for slice_path in slice_path_list:\n",
    "                        # Movw image\n",
    "                        dst_slice_path = up_sampled_group_paths[group].joinpath(f'{slice_path.stem}_copy{i}.tiff')\n",
    "                        if not dst_slice_path.exists():\n",
    "                            copy(slice_path, dst_slice_path)\n",
    "            "
   ]
  },
  {
   "cell_type": "code",
   "execution_count": 18,
   "metadata": {
    "execution": {
     "iopub.execute_input": "2024-05-06T05:52:48.538651Z",
     "iopub.status.busy": "2024-05-06T05:52:48.538074Z",
     "iopub.status.idle": "2024-05-06T05:52:48.730056Z",
     "shell.execute_reply": "2024-05-06T05:52:48.729255Z"
    }
   },
   "outputs": [
    {
     "name": "stdout",
     "output_type": "stream",
     "text": [
      "Total number of images in labeled_data_up_sampled directory:\n",
      "22320 / 22320\n"
     ]
    }
   ],
   "source": [
    "print(f'Total number of images in {up_sampled_labeled_data_path.name} directory:')\n",
    "target_labeled_image_count = up_sampled_final_images.shape[0] * 30\n",
    "print(len(list(up_sampled_labeled_data_path.glob('**/*.tiff'))), '/', target_labeled_image_count)"
   ]
  },
  {
   "cell_type": "code",
   "execution_count": 81,
   "metadata": {
    "execution": {
     "iopub.execute_input": "2024-05-06T05:52:48.736334Z",
     "iopub.status.busy": "2024-05-06T05:52:48.735647Z",
     "iopub.status.idle": "2024-05-06T05:52:48.891640Z",
     "shell.execute_reply": "2024-05-06T05:52:48.891045Z"
    }
   },
   "outputs": [
    {
     "name": "stdout",
     "output_type": "stream",
     "text": [
      "Total number of images in AD directory:\n",
      "7440 / 7440\n",
      "\n",
      "Total number of images in MCI directory:\n",
      "7440 / 7440\n",
      "\n",
      "Total number of images in CN directory:\n",
      "7440 / 7440\n",
      "\n"
     ]
    }
   ],
   "source": [
    "for group, path in up_sampled_group_paths.items():\n",
    "    print(f'Total number of images in {group} directory:')\n",
    "    target_labeled_image_count = int(up_sampled_final_images.shape[0] * 30 / 3)\n",
    "    print(len(list(path.glob('**/*.tiff'))), '/', target_labeled_image_count, end='\\n\\n')"
   ]
  }
 ],
 "metadata": {
  "kernelspec": {
   "display_name": "adni",
   "language": "python",
   "name": "python3"
  },
  "language_info": {
   "codemirror_mode": {
    "name": "ipython",
    "version": 3
   },
   "file_extension": ".py",
   "mimetype": "text/x-python",
   "name": "python",
   "nbconvert_exporter": "python",
   "pygments_lexer": "ipython3",
   "version": "3.10.12"
  }
 },
 "nbformat": 4,
 "nbformat_minor": 2
}
