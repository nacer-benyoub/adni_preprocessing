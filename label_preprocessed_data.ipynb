{
 "cells": [
  {
   "cell_type": "markdown",
   "metadata": {},
   "source": [
    "Move the preprocessed images into the corresponding folder to their subject group"
   ]
  },
  {
   "cell_type": "code",
   "execution_count": 1,
   "metadata": {
    "execution": {
     "iopub.execute_input": "2024-04-20T08:05:18.395255Z",
     "iopub.status.busy": "2024-04-20T08:05:18.394494Z",
     "iopub.status.idle": "2024-04-20T08:05:18.432328Z",
     "shell.execute_reply": "2024-04-20T08:05:18.432650Z"
    }
   },
   "outputs": [
    {
     "data": {
      "text/plain": [
       "{'AD': PosixPath('/home/nacer/ADNI_data/ADNI1_Complete_3Yr/labeled_data/AD'),\n",
       " 'MCI': PosixPath('/home/nacer/ADNI_data/ADNI1_Complete_3Yr/labeled_data/MCI'),\n",
       " 'CN': PosixPath('/home/nacer/ADNI_data/ADNI1_Complete_3Yr/labeled_data/CN')}"
      ]
     },
     "execution_count": 1,
     "metadata": {},
     "output_type": "execute_result"
    }
   ],
   "source": [
    "from pathlib import Path\n",
    "\n",
    "# Create the destination folder structure\n",
    "preprocessed_data_path = Path(r'/home/nacer/ADNI_data/ADNI1_Complete_3Yr/preprocessed_data/')\n",
    "labeled_data_path = preprocessed_data_path.parent.joinpath('labeled_data')\n",
    "ad_path = labeled_data_path.joinpath('AD')\n",
    "mci_path = labeled_data_path.joinpath('MCI')\n",
    "cn_path = labeled_data_path.joinpath('CN')\n",
    "for path in [ad_path, mci_path, cn_path]:\n",
    "    path.mkdir(parents=True, exist_ok=True)\n",
    "\n",
    "group_paths = {\n",
    "    'AD': ad_path,\n",
    "    'MCI': mci_path,\n",
    "    'CN': cn_path\n",
    "}\n",
    "group_paths"
   ]
  },
  {
   "cell_type": "code",
   "execution_count": 2,
   "metadata": {
    "execution": {
     "iopub.execute_input": "2024-04-20T08:05:18.437192Z",
     "iopub.status.busy": "2024-04-20T08:05:18.435799Z",
     "iopub.status.idle": "2024-04-20T08:05:18.987810Z",
     "shell.execute_reply": "2024-04-20T08:05:18.988091Z"
    }
   },
   "outputs": [
    {
     "data": {
      "text/html": [
       "<div>\n",
       "<style scoped>\n",
       "    .dataframe tbody tr th:only-of-type {\n",
       "        vertical-align: middle;\n",
       "    }\n",
       "\n",
       "    .dataframe tbody tr th {\n",
       "        vertical-align: top;\n",
       "    }\n",
       "\n",
       "    .dataframe thead th {\n",
       "        text-align: right;\n",
       "    }\n",
       "</style>\n",
       "<table border=\"1\" class=\"dataframe\">\n",
       "  <thead>\n",
       "    <tr style=\"text-align: right;\">\n",
       "      <th></th>\n",
       "      <th>Group</th>\n",
       "    </tr>\n",
       "    <tr>\n",
       "      <th>Subject</th>\n",
       "      <th></th>\n",
       "    </tr>\n",
       "  </thead>\n",
       "  <tbody>\n",
       "    <tr>\n",
       "      <th>002_S_0413</th>\n",
       "      <td>CN</td>\n",
       "    </tr>\n",
       "    <tr>\n",
       "      <th>002_S_0559</th>\n",
       "      <td>CN</td>\n",
       "    </tr>\n",
       "    <tr>\n",
       "      <th>002_S_0729</th>\n",
       "      <td>MCI</td>\n",
       "    </tr>\n",
       "    <tr>\n",
       "      <th>002_S_0782</th>\n",
       "      <td>MCI</td>\n",
       "    </tr>\n",
       "    <tr>\n",
       "      <th>002_S_1018</th>\n",
       "      <td>AD</td>\n",
       "    </tr>\n",
       "  </tbody>\n",
       "</table>\n",
       "</div>"
      ],
      "text/plain": [
       "           Group\n",
       "Subject         \n",
       "002_S_0413    CN\n",
       "002_S_0559    CN\n",
       "002_S_0729   MCI\n",
       "002_S_0782   MCI\n",
       "002_S_1018    AD"
      ]
     },
     "execution_count": 2,
     "metadata": {},
     "output_type": "execute_result"
    }
   ],
   "source": [
    "import pandas as pd\n",
    "\n",
    "# Read the subject groups csv\n",
    "subject_groups_df = pd.read_csv('subject_groups.csv', index_col='Subject')\n",
    "subject_groups_df.head()"
   ]
  },
  {
   "cell_type": "code",
   "execution_count": 3,
   "metadata": {
    "execution": {
     "iopub.execute_input": "2024-04-20T08:05:18.992437Z",
     "iopub.status.busy": "2024-04-20T08:05:18.991993Z",
     "iopub.status.idle": "2024-04-20T08:05:44.410531Z",
     "shell.execute_reply": "2024-04-20T08:05:44.410131Z"
    }
   },
   "outputs": [],
   "source": [
    "from shutil import copy\n",
    "\n",
    "# Iterate over the preprocessed images and move them to the corresponding label folder\n",
    "subject_path_list = list(preprocessed_data_path.glob('*'))\n",
    "for subject_path in subject_path_list:\n",
    "    subject_id = subject_path.name\n",
    "    if subject_id in subject_groups_df.index:\n",
    "        group = subject_groups_df.loc[subject_id, 'Group']\n",
    "        subject_image_path_list = subject_path.glob('**/*.tiff')\n",
    "        for image_path in subject_image_path_list:\n",
    "            dst_image_path = group_paths[group]\n",
    "            copy(image_path, dst_image_path)\n",
    "        "
   ]
  },
  {
   "cell_type": "code",
   "execution_count": 15,
   "metadata": {},
   "outputs": [
    {
     "data": {
      "text/plain": [
       "Group\n",
       "AD      62\n",
       "CN      81\n",
       "MCI    100\n",
       "Name: Subject, dtype: int64"
      ]
     },
     "execution_count": 15,
     "metadata": {},
     "output_type": "execute_result"
    }
   ],
   "source": [
    "subject_groups_df.reset_index().groupby('Group').Subject.count()"
   ]
  }
 ],
 "metadata": {
  "kernelspec": {
   "display_name": "adni",
   "language": "python",
   "name": "python3"
  },
  "language_info": {
   "codemirror_mode": {
    "name": "ipython",
    "version": 3
   },
   "file_extension": ".py",
   "mimetype": "text/x-python",
   "name": "python",
   "nbconvert_exporter": "python",
   "pygments_lexer": "ipython3",
   "version": "3.10.12"
  }
 },
 "nbformat": 4,
 "nbformat_minor": 2
}
